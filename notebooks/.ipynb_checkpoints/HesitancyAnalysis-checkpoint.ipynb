{
 "cells": [
  {
   "cell_type": "code",
   "execution_count": 1,
   "id": "5dd96aeb",
   "metadata": {},
   "outputs": [],
   "source": [
    "import pandas as pd\n",
    "import numpy as np\n",
    "import matplotlib.pyplot as plt"
   ]
  },
  {
   "cell_type": "code",
   "execution_count": 12,
   "id": "43e31a35",
   "metadata": {},
   "outputs": [],
   "source": [
    "pd.set_option('display.max_columns', None)\n",
    "pd.set_option('display.max_rows', None)\n",
    "plt.style.use(\"fivethirtyeight\")"
   ]
  },
  {
   "cell_type": "code",
   "execution_count": 2,
   "id": "ac80baef",
   "metadata": {},
   "outputs": [],
   "source": [
    "county_data = pd.read_csv(\"../data/aggregated_county_data.csv\")"
   ]
  },
  {
   "cell_type": "code",
   "execution_count": 7,
   "id": "1ebfc4c0",
   "metadata": {},
   "outputs": [],
   "source": [
    "county_data.fips = county_data.fips.astype(str)\n",
    "for ix, row in county_data.iterrows():\n",
    "    if len(row[\"fips\"]) == 4:\n",
    "        new_fips = \"0\" + row[\"fips\"]\n",
    "        county_data.at[ix, \"fips\"] = new_fips"
   ]
  },
  {
   "cell_type": "code",
   "execution_count": 3,
   "id": "83fd2221",
   "metadata": {},
   "outputs": [],
   "source": [
    "svi_file = \"../data/SVI2018_US_COUNTY.csv\"\n",
    "svi = pd.read_csv(svi_file)\n",
    "keeps = [x for x in svi.columns if \"EP_\" in x]\n",
    "keeps += [\"FIPS\"]\n",
    "drops = [x for x in svi.columns if x not in keeps]\n",
    "svi.FIPS = svi.FIPS.astype(str)\n",
    "svi.rename({\"FIPS\" : \"fips\"}, axis=1, inplace=True)\n",
    "svi.drop(drops, axis=1, inplace=True)\n",
    "for ix, row in svi.iterrows():\n",
    "    if len(row[\"fips\"]) == 4:\n",
    "        new_fips = \"0\" + row[\"fips\"]\n",
    "        svi.at[ix, \"fips\"] = new_fips"
   ]
  },
  {
   "cell_type": "code",
   "execution_count": 8,
   "id": "127771fe",
   "metadata": {},
   "outputs": [],
   "source": [
    "aggregated = county_data.merge(svi, on=\"fips\")"
   ]
  },
  {
   "cell_type": "code",
   "execution_count": 11,
   "id": "7bf7c6d3",
   "metadata": {},
   "outputs": [],
   "source": [
    "aggregated.drop(aggregated.columns[0], axis=1, inplace=True)"
   ]
  },
  {
   "cell_type": "code",
   "execution_count": 15,
   "id": "060a484b",
   "metadata": {},
   "outputs": [],
   "source": [
    "white = aggregated.sort_values(by=\"WA_TOTAL_PCT\", ascending=False)\n",
    "top1pct_white = white.head(31)\n",
    "stats_white = pd.DataFrame(top1pct_white.describe())\n",
    "mean_white = stats_white.loc[\"mean\"]"
   ]
  },
  {
   "cell_type": "code",
   "execution_count": 24,
   "id": "eb16fe84",
   "metadata": {},
   "outputs": [],
   "source": [
    "black = aggregated.sort_values(by='BA_TOTAL_PCT', ascending=False)\n",
    "top1pct_black = black.head(31)\n",
    "stats_black = pd.DataFrame(top1pct_black.describe())\n",
    "mean_black = stats_black.loc[\"mean\"]"
   ]
  },
  {
   "cell_type": "code",
   "execution_count": 26,
   "id": "646a1a01",
   "metadata": {},
   "outputs": [],
   "source": [
    "indigenous = aggregated.sort_values(by='IA_TOTAL_PCT', ascending=False)\n",
    "top1pct_indigenous = indigenous.head(31)\n",
    "stats_indigenous = pd.DataFrame(top1pct_indigenous.describe())\n",
    "mean_indigenous = stats_indigenous.loc[\"mean\"]"
   ]
  },
  {
   "cell_type": "code",
   "execution_count": 27,
   "id": "3da7172c",
   "metadata": {},
   "outputs": [],
   "source": [
    "asian = aggregated.sort_values(by='AA_TOTAL_PCT', ascending=False)\n",
    "top1pct_asian = asian.head(31)\n",
    "stats_asian = pd.DataFrame(top1pct_asian.describe())\n",
    "mean_asian = stats_asian.loc[\"mean\"]"
   ]
  },
  {
   "cell_type": "code",
   "execution_count": 28,
   "id": "6eb3b086",
   "metadata": {},
   "outputs": [],
   "source": [
    "hawaii_PI = aggregated.sort_values(by='NA_TOTAL_PCT', ascending=False)\n",
    "top1pct_hawaii_PI = hawaii_PI.head(31)\n",
    "stats_hawaii = pd.DataFrame(top1pct_hawaii_PI.describe())\n",
    "mean_hawaii = stats_hawaii.loc[\"mean\"]"
   ]
  },
  {
   "cell_type": "code",
   "execution_count": 44,
   "id": "f913b20f",
   "metadata": {},
   "outputs": [],
   "source": [
    "multi = aggregated.sort_values(by='TOM_TOTAL_PCT', ascending=False)\n",
    "top1pct_multi = multi.head(31)\n",
    "stats_multi= pd.DataFrame(top1pct_multi.describe())\n",
    "mean_multi = stats_multi.loc[\"mean\"]"
   ]
  },
  {
   "cell_type": "code",
   "execution_count": 48,
   "id": "4b88ade4",
   "metadata": {},
   "outputs": [],
   "source": [
    "stats_dict = {\n",
    "    \"Top_1percent_White\" : mean_white.values,\n",
    "    \"Top_1percent_Black\" : mean_black.values,\n",
    "    \"Top_1percent_Indigenous\" : mean_indigenous.values,\n",
    "    \"Top_1percent_Asian\" : mean_asian.values,\n",
    "    \"Top_1percent_Hawaiian_PacificIslander\" : mean_hawaii.values,\n",
    "    \"Top_1percent_Multiracial\" : mean_multi.values\n",
    "}"
   ]
  },
  {
   "cell_type": "code",
   "execution_count": 52,
   "id": "74d5fee9",
   "metadata": {},
   "outputs": [
    {
     "data": {
      "text/plain": [
       "Index(['zero_risk_factors_pct', '1or2_risk_factors_pct',\n",
       "       'three_plus_risk_factors_pct', 'Estimated hesitant',\n",
       "       'Estimated hesitant or unsure', 'Estimated strongly hesitant',\n",
       "       'Social Vulnerability Index (SVI)',\n",
       "       'CVAC level of concern for vaccination rollout', 'per_biden',\n",
       "       'per_trump',\n",
       "       ...\n",
       "       'EP_DISABL', 'EP_SNGPNT', 'EP_MINRTY', 'EP_LIMENG', 'EP_MUNIT',\n",
       "       'EP_MOBILE', 'EP_CROWD', 'EP_NOVEH', 'EP_GROUPQ', 'EP_UNINSUR'],\n",
       "      dtype='object', length=134)"
      ]
     },
     "execution_count": 52,
     "metadata": {},
     "output_type": "execute_result"
    }
   ],
   "source": [
    "mean_hawaii.index"
   ]
  },
  {
   "cell_type": "code",
   "execution_count": 53,
   "id": "f24d062b",
   "metadata": {},
   "outputs": [],
   "source": [
    "stats_byrace = pd.DataFrame.from_dict(stats_dict, orient=\"columns\")"
   ]
  },
  {
   "cell_type": "code",
   "execution_count": null,
   "id": "84528c77",
   "metadata": {},
   "outputs": [],
   "source": []
  }
 ],
 "metadata": {
  "kernelspec": {
   "display_name": "nih",
   "language": "python",
   "name": "nih"
  },
  "language_info": {
   "codemirror_mode": {
    "name": "ipython",
    "version": 3
   },
   "file_extension": ".py",
   "mimetype": "text/x-python",
   "name": "python",
   "nbconvert_exporter": "python",
   "pygments_lexer": "ipython3",
   "version": "3.8.8"
  }
 },
 "nbformat": 4,
 "nbformat_minor": 5
}
