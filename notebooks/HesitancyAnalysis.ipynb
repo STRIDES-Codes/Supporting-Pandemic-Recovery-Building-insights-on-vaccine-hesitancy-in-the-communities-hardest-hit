{
 "cells": [
  {
   "cell_type": "code",
   "execution_count": 71,
   "id": "803b4ed2",
   "metadata": {},
   "outputs": [],
   "source": [
    "import pandas as pd\n",
    "import numpy as np\n",
    "import matplotlib.pyplot as plt\n",
    "import seaborn as sns"
   ]
  },
  {
   "cell_type": "code",
   "execution_count": 12,
   "id": "e03583d2",
   "metadata": {},
   "outputs": [],
   "source": [
    "pd.set_option('display.max_columns', None)\n",
    "pd.set_option('display.max_rows', None)\n",
    "plt.style.use(\"fivethirtyeight\")"
   ]
  },
  {
   "cell_type": "code",
   "execution_count": 2,
   "id": "0a07fc3b",
   "metadata": {},
   "outputs": [],
   "source": [
    "county_data = pd.read_csv(\"../data/aggregated_county_data.csv\")"
   ]
  },
  {
   "cell_type": "code",
   "execution_count": 7,
   "id": "28987ee3",
   "metadata": {},
   "outputs": [],
   "source": [
    "county_data.fips = county_data.fips.astype(str)\n",
    "for ix, row in county_data.iterrows():\n",
    "    if len(row[\"fips\"]) == 4:\n",
    "        new_fips = \"0\" + row[\"fips\"]\n",
    "        county_data.at[ix, \"fips\"] = new_fips"
   ]
  },
  {
   "cell_type": "code",
   "execution_count": 3,
   "id": "06d27027",
   "metadata": {},
   "outputs": [],
   "source": [
    "svi_file = \"../data/SVI2018_US_COUNTY.csv\"\n",
    "svi = pd.read_csv(svi_file)\n",
    "keeps = [x for x in svi.columns if \"EP_\" in x]\n",
    "keeps += [\"FIPS\"]\n",
    "drops = [x for x in svi.columns if x not in keeps]\n",
    "svi.FIPS = svi.FIPS.astype(str)\n",
    "svi.rename({\"FIPS\" : \"fips\"}, axis=1, inplace=True)\n",
    "svi.drop(drops, axis=1, inplace=True)\n",
    "for ix, row in svi.iterrows():\n",
    "    if len(row[\"fips\"]) == 4:\n",
    "        new_fips = \"0\" + row[\"fips\"]\n",
    "        svi.at[ix, \"fips\"] = new_fips"
   ]
  },
  {
   "cell_type": "code",
   "execution_count": 8,
   "id": "1683cc20",
   "metadata": {},
   "outputs": [],
   "source": [
    "aggregated = county_data.merge(svi, on=\"fips\")"
   ]
  },
  {
   "cell_type": "code",
   "execution_count": 11,
   "id": "7caa95ac",
   "metadata": {},
   "outputs": [],
   "source": [
    "aggregated.drop(aggregated.columns[0], axis=1, inplace=True)"
   ]
  },
  {
   "cell_type": "code",
   "execution_count": 15,
   "id": "a6ee387b",
   "metadata": {},
   "outputs": [],
   "source": [
    "white = aggregated.sort_values(by=\"WA_TOTAL_PCT\", ascending=False)\n",
    "top1pct_white = white.head(31)\n",
    "stats_white = pd.DataFrame(top1pct_white.describe())\n",
    "mean_white = stats_white.loc[\"mean\"]"
   ]
  },
  {
   "cell_type": "code",
   "execution_count": 24,
   "id": "6235d9ca",
   "metadata": {},
   "outputs": [],
   "source": [
    "black = aggregated.sort_values(by='BA_TOTAL_PCT', ascending=False)\n",
    "top1pct_black = black.head(31)\n",
    "stats_black = pd.DataFrame(top1pct_black.describe())\n",
    "mean_black = stats_black.loc[\"mean\"]"
   ]
  },
  {
   "cell_type": "code",
   "execution_count": 26,
   "id": "949de141",
   "metadata": {},
   "outputs": [],
   "source": [
    "indigenous = aggregated.sort_values(by='IA_TOTAL_PCT', ascending=False)\n",
    "top1pct_indigenous = indigenous.head(31)\n",
    "stats_indigenous = pd.DataFrame(top1pct_indigenous.describe())\n",
    "mean_indigenous = stats_indigenous.loc[\"mean\"]"
   ]
  },
  {
   "cell_type": "code",
   "execution_count": 27,
   "id": "4399bb1f",
   "metadata": {},
   "outputs": [],
   "source": [
    "asian = aggregated.sort_values(by='AA_TOTAL_PCT', ascending=False)\n",
    "top1pct_asian = asian.head(31)\n",
    "stats_asian = pd.DataFrame(top1pct_asian.describe())\n",
    "mean_asian = stats_asian.loc[\"mean\"]"
   ]
  },
  {
   "cell_type": "code",
   "execution_count": 28,
   "id": "19e0260d",
   "metadata": {},
   "outputs": [],
   "source": [
    "hawaii_PI = aggregated.sort_values(by='NA_TOTAL_PCT', ascending=False)\n",
    "top1pct_hawaii_PI = hawaii_PI.head(31)\n",
    "stats_hawaii = pd.DataFrame(top1pct_hawaii_PI.describe())\n",
    "mean_hawaii = stats_hawaii.loc[\"mean\"]"
   ]
  },
  {
   "cell_type": "code",
   "execution_count": 44,
   "id": "c0041c73",
   "metadata": {},
   "outputs": [],
   "source": [
    "multi = aggregated.sort_values(by='TOM_TOTAL_PCT', ascending=False)\n",
    "top1pct_multi = multi.head(31)\n",
    "stats_multi= pd.DataFrame(top1pct_multi.describe())\n",
    "mean_multi = stats_multi.loc[\"mean\"]"
   ]
  },
  {
   "cell_type": "code",
   "execution_count": 48,
   "id": "60bea29c",
   "metadata": {},
   "outputs": [],
   "source": [
    "stats_dict = {\n",
    "    \"Top_1percent_White\" : mean_white.values,\n",
    "    \"Top_1percent_Black\" : mean_black.values,\n",
    "    \"Top_1percent_Indigenous\" : mean_indigenous.values,\n",
    "    \"Top_1percent_Asian\" : mean_asian.values,\n",
    "    \"Top_1percent_Hawaiian_PacificIslander\" : mean_hawaii.values,\n",
    "    \"Top_1percent_Multiracial\" : mean_multi.values\n",
    "}"
   ]
  },
  {
   "cell_type": "code",
   "execution_count": 52,
   "id": "eafc72c1",
   "metadata": {},
   "outputs": [
    {
     "data": {
      "text/plain": [
       "Index(['zero_risk_factors_pct', '1or2_risk_factors_pct',\n",
       "       'three_plus_risk_factors_pct', 'Estimated hesitant',\n",
       "       'Estimated hesitant or unsure', 'Estimated strongly hesitant',\n",
       "       'Social Vulnerability Index (SVI)',\n",
       "       'CVAC level of concern for vaccination rollout', 'per_biden',\n",
       "       'per_trump',\n",
       "       ...\n",
       "       'EP_DISABL', 'EP_SNGPNT', 'EP_MINRTY', 'EP_LIMENG', 'EP_MUNIT',\n",
       "       'EP_MOBILE', 'EP_CROWD', 'EP_NOVEH', 'EP_GROUPQ', 'EP_UNINSUR'],\n",
       "      dtype='object', length=134)"
      ]
     },
     "execution_count": 52,
     "metadata": {},
     "output_type": "execute_result"
    }
   ],
   "source": [
    "mean_hawaii.index"
   ]
  },
  {
   "cell_type": "code",
   "execution_count": 53,
   "id": "ef06df86",
   "metadata": {},
   "outputs": [],
   "source": [
    "stats_byrace = pd.DataFrame.from_dict(stats_dict, orient=\"columns\")"
   ]
  },
  {
   "cell_type": "code",
   "execution_count": 55,
   "id": "73fbb867",
   "metadata": {},
   "outputs": [],
   "source": [
    "stats_byrace.set_index(mean_hawaii.index, inplace=True)"
   ]
  },
  {
   "cell_type": "code",
   "execution_count": 56,
   "id": "e74735a1",
   "metadata": {},
   "outputs": [
    {
     "data": {
      "text/html": [
       "<div>\n",
       "<style scoped>\n",
       "    .dataframe tbody tr th:only-of-type {\n",
       "        vertical-align: middle;\n",
       "    }\n",
       "\n",
       "    .dataframe tbody tr th {\n",
       "        vertical-align: top;\n",
       "    }\n",
       "\n",
       "    .dataframe thead th {\n",
       "        text-align: right;\n",
       "    }\n",
       "</style>\n",
       "<table border=\"1\" class=\"dataframe\">\n",
       "  <thead>\n",
       "    <tr style=\"text-align: right;\">\n",
       "      <th></th>\n",
       "      <th>Top_1percent_White</th>\n",
       "      <th>Top_1percent_Black</th>\n",
       "      <th>Top_1percent_Indigenous</th>\n",
       "      <th>Top_1percent_Asian</th>\n",
       "      <th>Top_1percent_Hawaiian_PacificIslander</th>\n",
       "      <th>Top_1percent_Multiracial</th>\n",
       "    </tr>\n",
       "  </thead>\n",
       "  <tbody>\n",
       "    <tr>\n",
       "      <th>zero_risk_factors_pct</th>\n",
       "      <td>28.594516</td>\n",
       "      <td>19.147742</td>\n",
       "      <td>17.542581</td>\n",
       "      <td>12.998387</td>\n",
       "      <td>20.951935</td>\n",
       "      <td>20.319032</td>\n",
       "    </tr>\n",
       "    <tr>\n",
       "      <th>1or2_risk_factors_pct</th>\n",
       "      <td>44.880645</td>\n",
       "      <td>46.521290</td>\n",
       "      <td>49.803548</td>\n",
       "      <td>61.549032</td>\n",
       "      <td>53.931935</td>\n",
       "      <td>50.953226</td>\n",
       "    </tr>\n",
       "    <tr>\n",
       "      <th>three_plus_risk_factors_pct</th>\n",
       "      <td>26.526452</td>\n",
       "      <td>34.329677</td>\n",
       "      <td>32.653548</td>\n",
       "      <td>25.452258</td>\n",
       "      <td>25.113871</td>\n",
       "      <td>28.725806</td>\n",
       "    </tr>\n",
       "    <tr>\n",
       "      <th>Estimated hesitant</th>\n",
       "      <td>0.130229</td>\n",
       "      <td>0.168387</td>\n",
       "      <td>0.163097</td>\n",
       "      <td>0.066245</td>\n",
       "      <td>0.123519</td>\n",
       "      <td>0.174100</td>\n",
       "    </tr>\n",
       "    <tr>\n",
       "      <th>Estimated hesitant or unsure</th>\n",
       "      <td>0.187565</td>\n",
       "      <td>0.261165</td>\n",
       "      <td>0.229571</td>\n",
       "      <td>0.103035</td>\n",
       "      <td>0.170690</td>\n",
       "      <td>0.233384</td>\n",
       "    </tr>\n",
       "  </tbody>\n",
       "</table>\n",
       "</div>"
      ],
      "text/plain": [
       "                              Top_1percent_White  Top_1percent_Black  \\\n",
       "zero_risk_factors_pct                  28.594516           19.147742   \n",
       "1or2_risk_factors_pct                  44.880645           46.521290   \n",
       "three_plus_risk_factors_pct            26.526452           34.329677   \n",
       "Estimated hesitant                      0.130229            0.168387   \n",
       "Estimated hesitant or unsure            0.187565            0.261165   \n",
       "\n",
       "                              Top_1percent_Indigenous  Top_1percent_Asian  \\\n",
       "zero_risk_factors_pct                       17.542581           12.998387   \n",
       "1or2_risk_factors_pct                       49.803548           61.549032   \n",
       "three_plus_risk_factors_pct                 32.653548           25.452258   \n",
       "Estimated hesitant                           0.163097            0.066245   \n",
       "Estimated hesitant or unsure                 0.229571            0.103035   \n",
       "\n",
       "                              Top_1percent_Hawaiian_PacificIslander  \\\n",
       "zero_risk_factors_pct                                     20.951935   \n",
       "1or2_risk_factors_pct                                     53.931935   \n",
       "three_plus_risk_factors_pct                               25.113871   \n",
       "Estimated hesitant                                         0.123519   \n",
       "Estimated hesitant or unsure                               0.170690   \n",
       "\n",
       "                              Top_1percent_Multiracial  \n",
       "zero_risk_factors_pct                        20.319032  \n",
       "1or2_risk_factors_pct                        50.953226  \n",
       "three_plus_risk_factors_pct                  28.725806  \n",
       "Estimated hesitant                            0.174100  \n",
       "Estimated hesitant or unsure                  0.233384  "
      ]
     },
     "execution_count": 56,
     "metadata": {},
     "output_type": "execute_result"
    }
   ],
   "source": [
    "stats_byrace.head()"
   ]
  },
  {
   "cell_type": "code",
   "execution_count": 57,
   "id": "84c2fb27",
   "metadata": {},
   "outputs": [
    {
     "data": {
      "text/plain": [
       "134"
      ]
     },
     "execution_count": 57,
     "metadata": {},
     "output_type": "execute_result"
    }
   ],
   "source": [
    "len(stats_byrace)"
   ]
  },
  {
   "cell_type": "code",
   "execution_count": 61,
   "id": "594db1ca",
   "metadata": {},
   "outputs": [
    {
     "data": {
      "text/plain": [
       "['zero_risk_factors_pct',\n",
       " '1or2_risk_factors_pct',\n",
       " 'three_plus_risk_factors_pct',\n",
       " 'Estimated hesitant',\n",
       " 'Estimated hesitant or unsure',\n",
       " 'Estimated strongly hesitant',\n",
       " 'Social Vulnerability Index (SVI)',\n",
       " 'CVAC level of concern for vaccination rollout',\n",
       " 'per_biden',\n",
       " 'per_trump',\n",
       " 'pct_female',\n",
       " 'pct_male',\n",
       " 'WA_MALE_PCT',\n",
       " 'WA_FEMALE_PCT',\n",
       " 'WA_TOTAL_PCT',\n",
       " 'BA_MALE_PCT',\n",
       " 'BA_FEMALE_PCT',\n",
       " 'BA_TOTAL_PCT',\n",
       " 'IA_MALE_PCT',\n",
       " 'IA_FEMALE_PCT',\n",
       " 'IA_TOTAL_PCT',\n",
       " 'AA_MALE_PCT',\n",
       " 'AA_FEMALE_PCT',\n",
       " 'AA_TOTAL_PCT',\n",
       " 'NA_MALE_PCT',\n",
       " 'NA_FEMALE_PCT',\n",
       " 'NA_TOTAL_PCT',\n",
       " 'TOM_MALE_PCT',\n",
       " 'TOM_FEMALE_PCT',\n",
       " 'TOM_TOTAL_PCT',\n",
       " 'WAC_MALE_PCT',\n",
       " 'WAC_FEMALE_PCT',\n",
       " 'WAC_TOTAL_PCT',\n",
       " 'BAC_MALE_PCT',\n",
       " 'BAC_FEMALE_PCT',\n",
       " 'BAC_TOTAL_PCT',\n",
       " 'IAC_MALE_PCT',\n",
       " 'IAC_FEMALE_PCT',\n",
       " 'IAC_TOTAL_PCT',\n",
       " 'AAC_MALE_PCT',\n",
       " 'AAC_FEMALE_PCT',\n",
       " 'AAC_TOTAL_PCT',\n",
       " 'NAC_MALE_PCT',\n",
       " 'NAC_FEMALE_PCT',\n",
       " 'NAC_TOTAL_PCT',\n",
       " 'NH_MALE_PCT',\n",
       " 'NH_FEMALE_PCT',\n",
       " 'NH_TOTAL_PCT',\n",
       " 'NHWA_MALE_PCT',\n",
       " 'NHWA_FEMALE_PCT',\n",
       " 'NHWA_TOTAL_PCT',\n",
       " 'NHBA_MALE_PCT',\n",
       " 'NHBA_FEMALE_PCT',\n",
       " 'NHBA_TOTAL_PCT',\n",
       " 'NHIA_MALE_PCT',\n",
       " 'NHIA_FEMALE_PCT',\n",
       " 'NHIA_TOTAL_PCT',\n",
       " 'NHAA_MALE_PCT',\n",
       " 'NHAA_FEMALE_PCT',\n",
       " 'NHAA_TOTAL_PCT',\n",
       " 'NHNA_MALE_PCT',\n",
       " 'NHNA_FEMALE_PCT',\n",
       " 'NHNA_TOTAL_PCT',\n",
       " 'NHTOM_MALE_PCT',\n",
       " 'NHTOM_FEMALE_PCT',\n",
       " 'NHTOM_TOTAL_PCT',\n",
       " 'NHWAC_MALE_PCT',\n",
       " 'NHWAC_FEMALE_PCT',\n",
       " 'NHWAC_TOTAL_PCT',\n",
       " 'NHBAC_MALE_PCT',\n",
       " 'NHBAC_FEMALE_PCT',\n",
       " 'NHBAC_TOTAL_PCT',\n",
       " 'NHIAC_MALE_PCT',\n",
       " 'NHIAC_FEMALE_PCT',\n",
       " 'NHIAC_TOTAL_PCT',\n",
       " 'NHAAC_MALE_PCT',\n",
       " 'NHAAC_FEMALE_PCT',\n",
       " 'NHAAC_TOTAL_PCT',\n",
       " 'NHNAC_MALE_PCT',\n",
       " 'NHNAC_FEMALE_PCT',\n",
       " 'NHNAC_TOTAL_PCT',\n",
       " 'H_MALE_PCT',\n",
       " 'H_FEMALE_PCT',\n",
       " 'H_TOTAL_PCT',\n",
       " 'HWA_MALE_PCT',\n",
       " 'HWA_FEMALE_PCT',\n",
       " 'HWA_TOTAL_PCT',\n",
       " 'HBA_MALE_PCT',\n",
       " 'HBA_FEMALE_PCT',\n",
       " 'HBA_TOTAL_PCT',\n",
       " 'HIA_MALE_PCT',\n",
       " 'HIA_FEMALE_PCT',\n",
       " 'HIA_TOTAL_PCT',\n",
       " 'HAA_MALE_PCT',\n",
       " 'HAA_FEMALE_PCT',\n",
       " 'HAA_TOTAL_PCT',\n",
       " 'HNA_MALE_PCT',\n",
       " 'HNA_FEMALE_PCT',\n",
       " 'HNA_TOTAL_PCT',\n",
       " 'HTOM_MALE_PCT',\n",
       " 'HTOM_FEMALE_PCT',\n",
       " 'HTOM_TOTAL_PCT',\n",
       " 'HWAC_MALE_PCT',\n",
       " 'HWAC_FEMALE_PCT',\n",
       " 'HWAC_TOTAL_PCT',\n",
       " 'HBAC_MALE_PCT',\n",
       " 'HBAC_FEMALE_PCT',\n",
       " 'HBAC_TOTAL_PCT',\n",
       " 'HIAC_MALE_PCT',\n",
       " 'HIAC_FEMALE_PCT',\n",
       " 'HIAC_TOTAL_PCT',\n",
       " 'HAAC_MALE_PCT',\n",
       " 'HAAC_FEMALE_PCT',\n",
       " 'HAAC_TOTAL_PCT',\n",
       " 'HNAC_MALE_PCT',\n",
       " 'HNAC_FEMALE_PCT',\n",
       " 'HNAC_TOTAL_PCT',\n",
       " 'jail_2018_pop_pct',\n",
       " 'EP_POV',\n",
       " 'EP_UNEMP',\n",
       " 'EP_PCI',\n",
       " 'EP_NOHSDP',\n",
       " 'EP_AGE65',\n",
       " 'EP_AGE17',\n",
       " 'EP_DISABL',\n",
       " 'EP_SNGPNT',\n",
       " 'EP_MINRTY',\n",
       " 'EP_LIMENG',\n",
       " 'EP_MUNIT',\n",
       " 'EP_MOBILE',\n",
       " 'EP_CROWD',\n",
       " 'EP_NOVEH',\n",
       " 'EP_GROUPQ',\n",
       " 'EP_UNINSUR']"
      ]
     },
     "execution_count": 61,
     "metadata": {},
     "output_type": "execute_result"
    }
   ],
   "source": [
    "stats_byrace.index.to_list()"
   ]
  },
  {
   "cell_type": "code",
   "execution_count": 59,
   "id": "d085a23c",
   "metadata": {},
   "outputs": [],
   "source": [
    "index = stats_byrace.index.to_list()"
   ]
  },
  {
   "cell_type": "code",
   "execution_count": 69,
   "id": "67955631",
   "metadata": {},
   "outputs": [],
   "source": [
    "stats_byrace.drop(index[12:-17], axis=0, inplace=True)"
   ]
  },
  {
   "cell_type": "code",
   "execution_count": 70,
   "id": "7384cc0f",
   "metadata": {},
   "outputs": [
    {
     "data": {
      "text/plain": [
       "29"
      ]
     },
     "execution_count": 70,
     "metadata": {},
     "output_type": "execute_result"
    }
   ],
   "source": [
    "len(stats_byrace)"
   ]
  },
  {
   "cell_type": "code",
   "execution_count": 75,
   "id": "1c08c7b0",
   "metadata": {},
   "outputs": [],
   "source": [
    "stats_byrace.T.to_csv(\"../data/stats_byrace.csv\")"
   ]
  },
  {
   "cell_type": "code",
   "execution_count": null,
   "id": "7c1e83c6",
   "metadata": {},
   "outputs": [],
   "source": []
  }
 ],
 "metadata": {
  "kernelspec": {
   "display_name": "nih",
   "language": "python",
   "name": "nih"
  },
  "language_info": {
   "codemirror_mode": {
    "name": "ipython",
    "version": 3
   },
   "file_extension": ".py",
   "mimetype": "text/x-python",
   "name": "python",
   "nbconvert_exporter": "python",
   "pygments_lexer": "ipython3",
   "version": "3.8.8"
  }
 },
 "nbformat": 4,
 "nbformat_minor": 5
}
