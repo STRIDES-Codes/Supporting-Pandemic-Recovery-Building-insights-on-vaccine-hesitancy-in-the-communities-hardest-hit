{
 "cells": [
  {
   "cell_type": "markdown",
   "metadata": {},
   "source": [
    "# USDA Population Data\n",
    "<hr>"
   ]
  },
  {
   "cell_type": "code",
   "execution_count": 14,
   "metadata": {},
   "outputs": [],
   "source": [
    "import pandas as pd\n",
    "import numpy as np\n",
    "import os "
   ]
  },
  {
   "cell_type": "markdown",
   "metadata": {},
   "source": [
    "# Data\n",
    "## US Population data by county\n",
    "Economic Research Service  \n",
    "U.S. Department of Agriculture  \n",
    "link:"
   ]
  },
  {
   "cell_type": "markdown",
   "metadata": {},
   "source": [
    "# Contants\n",
    "<hr>"
   ]
  },
  {
   "cell_type": "code",
   "execution_count": 15,
   "metadata": {},
   "outputs": [],
   "source": [
    "\"\"\"\n",
    "Duplicate check 3\n",
    "from \n",
    "https://thispointer.com/python-3-ways-to-check-if-there-are-duplicates-in-a-list/\n",
    "\"\"\"\n",
    "def checkIfDuplicates_3(listOfElems):\n",
    "    ''' Check if given list contains any duplicates '''    \n",
    "    for elem in listOfElems:\n",
    "        if listOfElems.count(elem) > 1:\n",
    "            return True\n",
    "    return False"
   ]
  },
  {
   "cell_type": "code",
   "execution_count": null,
   "metadata": {},
   "outputs": [],
   "source": []
  },
  {
   "cell_type": "markdown",
   "metadata": {},
   "source": [
    "## File managment\n",
    "<hr>"
   ]
  },
  {
   "cell_type": "code",
   "execution_count": 16,
   "metadata": {},
   "outputs": [],
   "source": [
    "path = \"../data_raw/USDA_population/\""
   ]
  },
  {
   "cell_type": "code",
   "execution_count": 17,
   "metadata": {},
   "outputs": [],
   "source": [
    "files = os.listdir(path)"
   ]
  },
  {
   "cell_type": "code",
   "execution_count": 18,
   "metadata": {},
   "outputs": [],
   "source": [
    "# remove mac file \n",
    "#files.remove('.DS_Store')"
   ]
  },
  {
   "cell_type": "code",
   "execution_count": 19,
   "metadata": {},
   "outputs": [
    {
     "data": {
      "text/plain": [
       "['PopulationReport (8).xlsx',\n",
       " 'PopulationReport (34).xlsx',\n",
       " 'PopulationReport (10).xlsx',\n",
       " 'PopulationReport (12).xlsx',\n",
       " 'PopulationReport (36).xlsx',\n",
       " 'PopulationReport (32).xlsx',\n",
       " 'PopulationReport (16).xlsx',\n",
       " 'PopulationReport (14).xlsx',\n",
       " 'PopulationReport (51).xlsx',\n",
       " 'PopulationReport (29).xlsx',\n",
       " 'PopulationReport (48).xlsx',\n",
       " 'PopulationReport (30).xlsx',\n",
       " 'PopulationReport (13).xlsx',\n",
       " 'PopulationReport (37).xlsx',\n",
       " 'PopulationReport (35).xlsx',\n",
       " 'PopulationReport (9).xlsx',\n",
       " 'PopulationReport (11).xlsx',\n",
       " 'PopulationReport (28).xlsx',\n",
       " 'PopulationReport (50).xlsx',\n",
       " 'PopulationReport (15).xlsx',\n",
       " 'PopulationReport (31).xlsx',\n",
       " 'PopulationReport (49).xlsx',\n",
       " 'PopulationReport (33).xlsx',\n",
       " 'PopulationReport (17).xlsx',\n",
       " 'PopulationReport (26).xlsx',\n",
       " 'PopulationReport.xlsx',\n",
       " 'PopulationReport (3).xlsx',\n",
       " 'PopulationReport (47).xlsx',\n",
       " 'PopulationReport (1).xlsx',\n",
       " 'PopulationReport (45).xlsx',\n",
       " 'PopulationReport (19).xlsx',\n",
       " 'PopulationReport (24).xlsx',\n",
       " 'PopulationReport (20).xlsx',\n",
       " 'PopulationReport (41).xlsx',\n",
       " 'PopulationReport (5).xlsx',\n",
       " 'PopulationReport (39).xlsx',\n",
       " 'PopulationReport (43).xlsx',\n",
       " 'PopulationReport (7).xlsx',\n",
       " 'PopulationReport (22).xlsx',\n",
       " 'PopulationReport (44).xlsx',\n",
       " 'PopulationReport (25).xlsx',\n",
       " 'PopulationReport (18).xlsx',\n",
       " 'PopulationReport (27).xlsx',\n",
       " 'PopulationReport (46).xlsx',\n",
       " 'PopulationReport (2).xlsx',\n",
       " 'PopulationReport (6).xlsx',\n",
       " 'PopulationReport (42).xlsx',\n",
       " 'PopulationReport (23).xlsx',\n",
       " 'PopulationReport (21).xlsx',\n",
       " 'PopulationReport (38).xlsx',\n",
       " 'PopulationReport (4).xlsx',\n",
       " 'PopulationReport (40).xlsx']"
      ]
     },
     "execution_count": 19,
     "metadata": {},
     "output_type": "execute_result"
    }
   ],
   "source": [
    "files"
   ]
  },
  {
   "cell_type": "markdown",
   "metadata": {},
   "source": [
    "# Example of the csv files\n",
    "<hr>"
   ]
  },
  {
   "cell_type": "code",
   "execution_count": 20,
   "metadata": {},
   "outputs": [],
   "source": [
    "# random peek\n",
    "df = pd.read_excel('../data_raw/USDA_population/PopulationReport (15).xlsx', skiprows=2)"
   ]
  },
  {
   "cell_type": "code",
   "execution_count": 21,
   "metadata": {},
   "outputs": [
    {
     "data": {
      "text/plain": [
       "(103, 9)"
      ]
     },
     "execution_count": 21,
     "metadata": {},
     "output_type": "execute_result"
    }
   ],
   "source": [
    "df.shape"
   ]
  },
  {
   "cell_type": "code",
   "execution_count": 33,
   "metadata": {},
   "outputs": [
    {
     "data": {
      "text/html": [
       "<div>\n",
       "<style scoped>\n",
       "    .dataframe tbody tr th:only-of-type {\n",
       "        vertical-align: middle;\n",
       "    }\n",
       "\n",
       "    .dataframe tbody tr th {\n",
       "        vertical-align: top;\n",
       "    }\n",
       "\n",
       "    .dataframe thead th {\n",
       "        text-align: right;\n",
       "    }\n",
       "</style>\n",
       "<table border=\"1\" class=\"dataframe\">\n",
       "  <thead>\n",
       "    <tr style=\"text-align: right;\">\n",
       "      <th></th>\n",
       "      <th>FIPS*</th>\n",
       "      <th>County name</th>\n",
       "      <th>RUC code</th>\n",
       "      <th>Pop. 1990</th>\n",
       "      <th>Pop. 2000</th>\n",
       "      <th>Pop. 2010</th>\n",
       "      <th>Pop. 2019</th>\n",
       "      <th>Change 2010-19</th>\n",
       "      <th>NaN</th>\n",
       "    </tr>\n",
       "  </thead>\n",
       "  <tbody>\n",
       "    <tr>\n",
       "      <th>0</th>\n",
       "      <td>19000</td>\n",
       "      <td>Iowa</td>\n",
       "      <td>NaN</td>\n",
       "      <td>2776831.0</td>\n",
       "      <td>2926538.0</td>\n",
       "      <td>3046871.0</td>\n",
       "      <td>3155070.0</td>\n",
       "      <td>0.035512</td>\n",
       "      <td>NaN</td>\n",
       "    </tr>\n",
       "    <tr>\n",
       "      <th>1</th>\n",
       "      <td>19001</td>\n",
       "      <td>Adair County</td>\n",
       "      <td>8.0</td>\n",
       "      <td>8409.0</td>\n",
       "      <td>8252.0</td>\n",
       "      <td>7682.0</td>\n",
       "      <td>7152.0</td>\n",
       "      <td>-0.068992</td>\n",
       "      <td>NaN</td>\n",
       "    </tr>\n",
       "    <tr>\n",
       "      <th>2</th>\n",
       "      <td>19003</td>\n",
       "      <td>Adams County</td>\n",
       "      <td>9.0</td>\n",
       "      <td>4866.0</td>\n",
       "      <td>4479.0</td>\n",
       "      <td>4029.0</td>\n",
       "      <td>3602.0</td>\n",
       "      <td>-0.105982</td>\n",
       "      <td>NaN</td>\n",
       "    </tr>\n",
       "    <tr>\n",
       "      <th>3</th>\n",
       "      <td>19005</td>\n",
       "      <td>Allamakee County</td>\n",
       "      <td>6.0</td>\n",
       "      <td>13855.0</td>\n",
       "      <td>14687.0</td>\n",
       "      <td>14328.0</td>\n",
       "      <td>13687.0</td>\n",
       "      <td>-0.044738</td>\n",
       "      <td>NaN</td>\n",
       "    </tr>\n",
       "    <tr>\n",
       "      <th>4</th>\n",
       "      <td>19007</td>\n",
       "      <td>Appanoose County</td>\n",
       "      <td>7.0</td>\n",
       "      <td>13743.0</td>\n",
       "      <td>13715.0</td>\n",
       "      <td>12887.0</td>\n",
       "      <td>12426.0</td>\n",
       "      <td>-0.035772</td>\n",
       "      <td>NaN</td>\n",
       "    </tr>\n",
       "  </tbody>\n",
       "</table>\n",
       "</div>"
      ],
      "text/plain": [
       "   FIPS*       County name  RUC code  Pop. 1990  Pop. 2000  Pop. 2010  \\\n",
       "0  19000              Iowa       NaN  2776831.0  2926538.0  3046871.0   \n",
       "1  19001      Adair County       8.0     8409.0     8252.0     7682.0   \n",
       "2  19003      Adams County       9.0     4866.0     4479.0     4029.0   \n",
       "3  19005  Allamakee County       6.0    13855.0    14687.0    14328.0   \n",
       "4  19007  Appanoose County       7.0    13743.0    13715.0    12887.0   \n",
       "\n",
       "   Pop. 2019  Change 2010-19  NaN  \n",
       "0  3155070.0        0.035512  NaN  \n",
       "1     7152.0       -0.068992  NaN  \n",
       "2     3602.0       -0.105982  NaN  \n",
       "3    13687.0       -0.044738  NaN  \n",
       "4    12426.0       -0.035772  NaN  "
      ]
     },
     "execution_count": 33,
     "metadata": {},
     "output_type": "execute_result"
    }
   ],
   "source": [
    "df.head()"
   ]
  },
  {
   "cell_type": "code",
   "execution_count": 23,
   "metadata": {},
   "outputs": [
    {
     "data": {
      "text/html": [
       "<div>\n",
       "<style scoped>\n",
       "    .dataframe tbody tr th:only-of-type {\n",
       "        vertical-align: middle;\n",
       "    }\n",
       "\n",
       "    .dataframe tbody tr th {\n",
       "        vertical-align: top;\n",
       "    }\n",
       "\n",
       "    .dataframe thead th {\n",
       "        text-align: right;\n",
       "    }\n",
       "</style>\n",
       "<table border=\"1\" class=\"dataframe\">\n",
       "  <thead>\n",
       "    <tr style=\"text-align: right;\">\n",
       "      <th></th>\n",
       "      <th>FIPS*</th>\n",
       "      <th>County name</th>\n",
       "      <th>RUC code</th>\n",
       "      <th>Pop. 1990</th>\n",
       "      <th>Pop. 2000</th>\n",
       "      <th>Pop. 2010</th>\n",
       "      <th>Pop. 2019</th>\n",
       "      <th>Change 2010-19</th>\n",
       "      <th>NaN</th>\n",
       "    </tr>\n",
       "  </thead>\n",
       "  <tbody>\n",
       "    <tr>\n",
       "      <th>98</th>\n",
       "      <td>19195</td>\n",
       "      <td>Worth County</td>\n",
       "      <td>9.0</td>\n",
       "      <td>7991.0</td>\n",
       "      <td>7904.0</td>\n",
       "      <td>7591.0</td>\n",
       "      <td>7381.0</td>\n",
       "      <td>-0.027664</td>\n",
       "      <td>NaN</td>\n",
       "    </tr>\n",
       "    <tr>\n",
       "      <th>99</th>\n",
       "      <td>19197</td>\n",
       "      <td>Wright County</td>\n",
       "      <td>7.0</td>\n",
       "      <td>14269.0</td>\n",
       "      <td>14337.0</td>\n",
       "      <td>13229.0</td>\n",
       "      <td>12562.0</td>\n",
       "      <td>-0.050420</td>\n",
       "      <td>NaN</td>\n",
       "    </tr>\n",
       "    <tr>\n",
       "      <th>100</th>\n",
       "      <td>NaN</td>\n",
       "      <td>NaN</td>\n",
       "      <td>NaN</td>\n",
       "      <td>NaN</td>\n",
       "      <td>NaN</td>\n",
       "      <td>NaN</td>\n",
       "      <td>NaN</td>\n",
       "      <td>NaN</td>\n",
       "      <td>NaN</td>\n",
       "    </tr>\n",
       "    <tr>\n",
       "      <th>101</th>\n",
       "      <td>NaN</td>\n",
       "      <td>NaN</td>\n",
       "      <td>NaN</td>\n",
       "      <td>NaN</td>\n",
       "      <td>NaN</td>\n",
       "      <td>NaN</td>\n",
       "      <td>NaN</td>\n",
       "      <td>NaN</td>\n",
       "      <td>NaN</td>\n",
       "    </tr>\n",
       "    <tr>\n",
       "      <th>102</th>\n",
       "      <td>Source: U.S. Census Bureau, 1990, 2000, and 20...</td>\n",
       "      <td>NaN</td>\n",
       "      <td>NaN</td>\n",
       "      <td>NaN</td>\n",
       "      <td>NaN</td>\n",
       "      <td>NaN</td>\n",
       "      <td>NaN</td>\n",
       "      <td>NaN</td>\n",
       "      <td>NaN</td>\n",
       "    </tr>\n",
       "  </tbody>\n",
       "</table>\n",
       "</div>"
      ],
      "text/plain": [
       "                                                 FIPS*    County name  \\\n",
       "98                                               19195   Worth County   \n",
       "99                                               19197  Wright County   \n",
       "100                                                NaN            NaN   \n",
       "101                                                NaN            NaN   \n",
       "102  Source: U.S. Census Bureau, 1990, 2000, and 20...            NaN   \n",
       "\n",
       "     RUC code  Pop. 1990  Pop. 2000  Pop. 2010  Pop. 2019  Change 2010-19  NaN  \n",
       "98        9.0     7991.0     7904.0     7591.0     7381.0       -0.027664  NaN  \n",
       "99        7.0    14269.0    14337.0    13229.0    12562.0       -0.050420  NaN  \n",
       "100       NaN        NaN        NaN        NaN        NaN             NaN  NaN  \n",
       "101       NaN        NaN        NaN        NaN        NaN             NaN  NaN  \n",
       "102       NaN        NaN        NaN        NaN        NaN             NaN  NaN  "
      ]
     },
     "execution_count": 23,
     "metadata": {},
     "output_type": "execute_result"
    }
   ],
   "source": [
    "df.tail()"
   ]
  },
  {
   "cell_type": "code",
   "execution_count": null,
   "metadata": {},
   "outputs": [],
   "source": []
  },
  {
   "cell_type": "code",
   "execution_count": 37,
   "metadata": {},
   "outputs": [
    {
     "data": {
      "text/html": [
       "<div>\n",
       "<style scoped>\n",
       "    .dataframe tbody tr th:only-of-type {\n",
       "        vertical-align: middle;\n",
       "    }\n",
       "\n",
       "    .dataframe tbody tr th {\n",
       "        vertical-align: top;\n",
       "    }\n",
       "\n",
       "    .dataframe thead th {\n",
       "        text-align: right;\n",
       "    }\n",
       "</style>\n",
       "<table border=\"1\" class=\"dataframe\">\n",
       "  <thead>\n",
       "    <tr style=\"text-align: right;\">\n",
       "      <th></th>\n",
       "      <th>FIPS*</th>\n",
       "      <th>County name</th>\n",
       "      <th>RUC code</th>\n",
       "      <th>Pop. 1990</th>\n",
       "      <th>Pop. 2000</th>\n",
       "      <th>Pop. 2010</th>\n",
       "      <th>Pop. 2019</th>\n",
       "      <th>Change 2010-19</th>\n",
       "    </tr>\n",
       "  </thead>\n",
       "  <tbody>\n",
       "    <tr>\n",
       "      <th>0</th>\n",
       "      <td>19000</td>\n",
       "      <td>Iowa</td>\n",
       "      <td>NaN</td>\n",
       "      <td>2776831.0</td>\n",
       "      <td>2926538.0</td>\n",
       "      <td>3046871.0</td>\n",
       "      <td>3155070.0</td>\n",
       "      <td>0.035512</td>\n",
       "    </tr>\n",
       "    <tr>\n",
       "      <th>1</th>\n",
       "      <td>19001</td>\n",
       "      <td>Adair County</td>\n",
       "      <td>8.0</td>\n",
       "      <td>8409.0</td>\n",
       "      <td>8252.0</td>\n",
       "      <td>7682.0</td>\n",
       "      <td>7152.0</td>\n",
       "      <td>-0.068992</td>\n",
       "    </tr>\n",
       "    <tr>\n",
       "      <th>2</th>\n",
       "      <td>19003</td>\n",
       "      <td>Adams County</td>\n",
       "      <td>9.0</td>\n",
       "      <td>4866.0</td>\n",
       "      <td>4479.0</td>\n",
       "      <td>4029.0</td>\n",
       "      <td>3602.0</td>\n",
       "      <td>-0.105982</td>\n",
       "    </tr>\n",
       "  </tbody>\n",
       "</table>\n",
       "</div>"
      ],
      "text/plain": [
       "   FIPS*   County name  RUC code  Pop. 1990  Pop. 2000  Pop. 2010  Pop. 2019  \\\n",
       "0  19000          Iowa       NaN  2776831.0  2926538.0  3046871.0  3155070.0   \n",
       "1  19001  Adair County       8.0     8409.0     8252.0     7682.0     7152.0   \n",
       "2  19003  Adams County       9.0     4866.0     4479.0     4029.0     3602.0   \n",
       "\n",
       "   Change 2010-19  \n",
       "0        0.035512  \n",
       "1       -0.068992  \n",
       "2       -0.105982  "
      ]
     },
     "execution_count": 37,
     "metadata": {},
     "output_type": "execute_result"
    }
   ],
   "source": [
    "df.iloc[:3,:8]"
   ]
  },
  {
   "cell_type": "code",
   "execution_count": 25,
   "metadata": {},
   "outputs": [],
   "source": [
    "# columns for master data frame\n",
    "columns = df.columns"
   ]
  },
  {
   "cell_type": "markdown",
   "metadata": {},
   "source": [
    "# Create master DataFrame\n",
    "<hr>"
   ]
  },
  {
   "cell_type": "code",
   "execution_count": 38,
   "metadata": {},
   "outputs": [
    {
     "name": "stdout",
     "output_type": "stream",
     "text": [
      "   FIPS*           County name  RUC code  Pop. 1990  Pop. 2000  Pop. 2010  \\\n",
      "1  11001  District of Columbia       1.0   606900.0   572086.0   601767.0   \n",
      "2    NaN                   NaN       NaN        NaN        NaN        NaN   \n",
      "\n",
      "   Pop. 2019  Change 2010-19  \n",
      "1   705749.0        0.172794  \n",
      "2        NaN             NaN  \n"
     ]
    }
   ],
   "source": [
    "# Concat \n",
    "\n",
    "# create master file \n",
    "master_df = pd.DataFrame(columns = columns)\n",
    "state_name_list = []\n",
    "\n",
    "# LOOP \n",
    "for file in files:\n",
    "    # read excel file\n",
    "    _df = pd.read_excel(path + file, skiprows=2)\n",
    "    # read state_name\n",
    "    state_name = _df.iloc[0,1]\n",
    "    \n",
    "\n",
    "    \n",
    "# DROP\n",
    "    #drop row 0\n",
    "    _df.drop(0, inplace = True)\n",
    "    \n",
    "    # Drop last 2 rows \n",
    "    _df.drop(_df.tail(1).index, inplace = True)\n",
    "\n",
    "    # work around to drop NaN column \n",
    "    _df = _df.iloc[:,:8]\n",
    "    print(_df)\n",
    "    break\n",
    "    \n",
    "# add Column for STATE name\n",
    "    # add state column \n",
    "    _df['state'] = state_name\n",
    "    state_name_list.append(state_name)\n",
    "    \n",
    "    # Concat \n",
    "    master_df = pd.concat([master_df, _df])\n",
    "    "
   ]
  },
  {
   "cell_type": "code",
   "execution_count": 27,
   "metadata": {},
   "outputs": [
    {
     "data": {
      "text/plain": [
       "(3269, 10)"
      ]
     },
     "execution_count": 27,
     "metadata": {},
     "output_type": "execute_result"
    }
   ],
   "source": [
    "master_df.shape"
   ]
  },
  {
   "cell_type": "code",
   "execution_count": 28,
   "metadata": {},
   "outputs": [
    {
     "data": {
      "text/html": [
       "<div>\n",
       "<style scoped>\n",
       "    .dataframe tbody tr th:only-of-type {\n",
       "        vertical-align: middle;\n",
       "    }\n",
       "\n",
       "    .dataframe tbody tr th {\n",
       "        vertical-align: top;\n",
       "    }\n",
       "\n",
       "    .dataframe thead th {\n",
       "        text-align: right;\n",
       "    }\n",
       "</style>\n",
       "<table border=\"1\" class=\"dataframe\">\n",
       "  <thead>\n",
       "    <tr style=\"text-align: right;\">\n",
       "      <th></th>\n",
       "      <th>FIPS*</th>\n",
       "      <th>County name</th>\n",
       "      <th>RUC code</th>\n",
       "      <th>Pop. 1990</th>\n",
       "      <th>Pop. 2000</th>\n",
       "      <th>Pop. 2010</th>\n",
       "      <th>Pop. 2019</th>\n",
       "      <th>Change 2010-19</th>\n",
       "      <th>NaN</th>\n",
       "      <th>state</th>\n",
       "    </tr>\n",
       "  </thead>\n",
       "  <tbody>\n",
       "    <tr>\n",
       "      <th>1</th>\n",
       "      <td>11001</td>\n",
       "      <td>District of Columbia</td>\n",
       "      <td>1.0</td>\n",
       "      <td>606900.0</td>\n",
       "      <td>572086.0</td>\n",
       "      <td>601767.0</td>\n",
       "      <td>705749.0</td>\n",
       "      <td>NaN</td>\n",
       "      <td>NaN</td>\n",
       "      <td>District of Columbia</td>\n",
       "    </tr>\n",
       "    <tr>\n",
       "      <th>2</th>\n",
       "      <td>NaN</td>\n",
       "      <td>NaN</td>\n",
       "      <td>NaN</td>\n",
       "      <td>NaN</td>\n",
       "      <td>NaN</td>\n",
       "      <td>NaN</td>\n",
       "      <td>NaN</td>\n",
       "      <td>NaN</td>\n",
       "      <td>NaN</td>\n",
       "      <td>District of Columbia</td>\n",
       "    </tr>\n",
       "  </tbody>\n",
       "</table>\n",
       "</div>"
      ],
      "text/plain": [
       "   FIPS*           County name  RUC code  Pop. 1990  Pop. 2000  Pop. 2010  \\\n",
       "1  11001  District of Columbia       1.0   606900.0   572086.0   601767.0   \n",
       "2    NaN                   NaN       NaN        NaN        NaN        NaN   \n",
       "\n",
       "   Pop. 2019 Change 2010-19  NaN                 state  \n",
       "1   705749.0            NaN  NaN  District of Columbia  \n",
       "2        NaN            NaN  NaN  District of Columbia  "
      ]
     },
     "execution_count": 28,
     "metadata": {},
     "output_type": "execute_result"
    }
   ],
   "source": [
    "master_df.head(2)"
   ]
  },
  {
   "cell_type": "markdown",
   "metadata": {},
   "source": [
    "## Dataframe clean up\n",
    "<hr>"
   ]
  },
  {
   "cell_type": "code",
   "execution_count": 105,
   "metadata": {},
   "outputs": [],
   "source": [
    "# reset Index\n",
    "master_df.reset_index(drop = True, inplace = True )"
   ]
  },
  {
   "cell_type": "code",
   "execution_count": 45,
   "metadata": {},
   "outputs": [
    {
     "data": {
      "text/plain": [
       "Index([         'FIPS*',    'County name',       'RUC code',      'Pop. 1990',\n",
       "            'Pop. 2000',      'Pop. 2010',      'Pop. 2019', 'Change 2010-19',\n",
       "                   None,          'state'],\n",
       "      dtype='object')"
      ]
     },
     "execution_count": 45,
     "metadata": {},
     "output_type": "execute_result"
    }
   ],
   "source": [
    "master_df.columns"
   ]
  },
  {
   "cell_type": "code",
   "execution_count": 46,
   "metadata": {},
   "outputs": [],
   "source": [
    "# Rename columns \n",
    "master_df.rename(columns = {'FIPS*':'FIPS'}, inplace = True)"
   ]
  },
  {
   "cell_type": "code",
   "execution_count": null,
   "metadata": {},
   "outputs": [],
   "source": []
  },
  {
   "cell_type": "markdown",
   "metadata": {},
   "source": [
    "## Remove rows with all nan's\n",
    "<hr>"
   ]
  },
  {
   "cell_type": "code",
   "execution_count": 49,
   "metadata": {},
   "outputs": [
    {
     "data": {
      "text/plain": [
       "FIPS                55\n",
       "County name         55\n",
       "RUC code            55\n",
       "Pop. 1990           55\n",
       "Pop. 2000           55\n",
       "Pop. 2010           55\n",
       "Pop. 2019           55\n",
       "Change 2010-19      55\n",
       "NaN               3269\n",
       "state                0\n",
       "dtype: int64"
      ]
     },
     "execution_count": 49,
     "metadata": {},
     "output_type": "execute_result"
    }
   ],
   "source": [
    "master_df.isna().sum()"
   ]
  },
  {
   "cell_type": "code",
   "execution_count": 54,
   "metadata": {},
   "outputs": [
    {
     "data": {
      "text/html": [
       "<div>\n",
       "<style scoped>\n",
       "    .dataframe tbody tr th:only-of-type {\n",
       "        vertical-align: middle;\n",
       "    }\n",
       "\n",
       "    .dataframe tbody tr th {\n",
       "        vertical-align: top;\n",
       "    }\n",
       "\n",
       "    .dataframe thead th {\n",
       "        text-align: right;\n",
       "    }\n",
       "</style>\n",
       "<table border=\"1\" class=\"dataframe\">\n",
       "  <thead>\n",
       "    <tr style=\"text-align: right;\">\n",
       "      <th></th>\n",
       "      <th>FIPS</th>\n",
       "      <th>County name</th>\n",
       "      <th>RUC code</th>\n",
       "      <th>Pop. 1990</th>\n",
       "      <th>Pop. 2000</th>\n",
       "      <th>Pop. 2010</th>\n",
       "      <th>Pop. 2019</th>\n",
       "      <th>Change 2010-19</th>\n",
       "      <th>NaN</th>\n",
       "      <th>state</th>\n",
       "    </tr>\n",
       "  </thead>\n",
       "  <tbody>\n",
       "    <tr>\n",
       "      <th>2</th>\n",
       "      <td>NaN</td>\n",
       "      <td>NaN</td>\n",
       "      <td>NaN</td>\n",
       "      <td>NaN</td>\n",
       "      <td>NaN</td>\n",
       "      <td>NaN</td>\n",
       "      <td>NaN</td>\n",
       "      <td>NaN</td>\n",
       "      <td>NaN</td>\n",
       "      <td>District of Columbia</td>\n",
       "    </tr>\n",
       "    <tr>\n",
       "      <th>54</th>\n",
       "      <td>NaN</td>\n",
       "      <td>NaN</td>\n",
       "      <td>NaN</td>\n",
       "      <td>NaN</td>\n",
       "      <td>NaN</td>\n",
       "      <td>NaN</td>\n",
       "      <td>NaN</td>\n",
       "      <td>NaN</td>\n",
       "      <td>NaN</td>\n",
       "      <td>North Dakota</td>\n",
       "    </tr>\n",
       "    <tr>\n",
       "      <th>160</th>\n",
       "      <td>NaN</td>\n",
       "      <td>NaN</td>\n",
       "      <td>NaN</td>\n",
       "      <td>NaN</td>\n",
       "      <td>NaN</td>\n",
       "      <td>NaN</td>\n",
       "      <td>NaN</td>\n",
       "      <td>NaN</td>\n",
       "      <td>NaN</td>\n",
       "      <td>Georgia</td>\n",
       "    </tr>\n",
       "    <tr>\n",
       "      <th>161</th>\n",
       "      <td>NaN</td>\n",
       "      <td>NaN</td>\n",
       "      <td>NaN</td>\n",
       "      <td>NaN</td>\n",
       "      <td>NaN</td>\n",
       "      <td>NaN</td>\n",
       "      <td>NaN</td>\n",
       "      <td>NaN</td>\n",
       "      <td>NaN</td>\n",
       "      <td>Georgia</td>\n",
       "    </tr>\n",
       "    <tr>\n",
       "      <th>45</th>\n",
       "      <td>NaN</td>\n",
       "      <td>NaN</td>\n",
       "      <td>NaN</td>\n",
       "      <td>NaN</td>\n",
       "      <td>NaN</td>\n",
       "      <td>NaN</td>\n",
       "      <td>NaN</td>\n",
       "      <td>NaN</td>\n",
       "      <td>NaN</td>\n",
       "      <td>Idaho</td>\n",
       "    </tr>\n",
       "  </tbody>\n",
       "</table>\n",
       "</div>"
      ],
      "text/plain": [
       "    FIPS County name  RUC code  Pop. 1990  Pop. 2000  Pop. 2010  Pop. 2019  \\\n",
       "2    NaN         NaN       NaN        NaN        NaN        NaN        NaN   \n",
       "54   NaN         NaN       NaN        NaN        NaN        NaN        NaN   \n",
       "160  NaN         NaN       NaN        NaN        NaN        NaN        NaN   \n",
       "161  NaN         NaN       NaN        NaN        NaN        NaN        NaN   \n",
       "45   NaN         NaN       NaN        NaN        NaN        NaN        NaN   \n",
       "\n",
       "     Change 2010-19  NaN                 state  \n",
       "2               NaN  NaN  District of Columbia  \n",
       "54              NaN  NaN          North Dakota  \n",
       "160             NaN  NaN               Georgia  \n",
       "161             NaN  NaN               Georgia  \n",
       "45              NaN  NaN                 Idaho  "
      ]
     },
     "execution_count": 54,
     "metadata": {},
     "output_type": "execute_result"
    }
   ],
   "source": [
    "master_df[ master_df['FIPS'].isnull()].head()"
   ]
  },
  {
   "cell_type": "code",
   "execution_count": 51,
   "metadata": {},
   "outputs": [
    {
     "data": {
      "text/plain": [
       "Int64Index([  2,  54, 160, 161,  45,  78,  63, 106,  93,  79,  11,  56,  22,\n",
       "            103,  37,  89,  68,   6,  18,  24, 100, 101,  34,  73, 101, 121,\n",
       "             57,  68,  76,  40,  25,  15,  17,  83,  25,  67,  64,   6, 255,\n",
       "            256,   4,  84,  30, 116,  65,  94, 134,  16,   9,  96,  88,  15,\n",
       "             68,  59,  47],\n",
       "           dtype='int64')"
      ]
     },
     "execution_count": 51,
     "metadata": {},
     "output_type": "execute_result"
    }
   ],
   "source": [
    "nan_rows = master_df[ master_df['FIPS'].isnull()].index\n",
    "nan_rows"
   ]
  },
  {
   "cell_type": "code",
   "execution_count": 52,
   "metadata": {},
   "outputs": [
    {
     "data": {
      "text/plain": [
       "55"
      ]
     },
     "execution_count": 52,
     "metadata": {},
     "output_type": "execute_result"
    }
   ],
   "source": [
    "len(nan_rows)"
   ]
  },
  {
   "cell_type": "code",
   "execution_count": 55,
   "metadata": {},
   "outputs": [],
   "source": [
    "# remove rows with all Nans\n",
    "master_df.drop(nan_rows, inplace = True)"
   ]
  },
  {
   "cell_type": "code",
   "execution_count": 56,
   "metadata": {},
   "outputs": [
    {
     "data": {
      "text/plain": [
       "FIPS                 0\n",
       "County name          0\n",
       "RUC code             0\n",
       "Pop. 1990            0\n",
       "Pop. 2000            0\n",
       "Pop. 2010            0\n",
       "Pop. 2019            0\n",
       "Change 2010-19       0\n",
       "NaN               2062\n",
       "state                0\n",
       "dtype: int64"
      ]
     },
     "execution_count": 56,
     "metadata": {},
     "output_type": "execute_result"
    }
   ],
   "source": [
    "master_df.isna().sum()"
   ]
  },
  {
   "cell_type": "code",
   "execution_count": null,
   "metadata": {},
   "outputs": [],
   "source": []
  }
 ],
 "metadata": {
  "kernelspec": {
   "display_name": "Python 3",
   "language": "python",
   "name": "python3"
  },
  "language_info": {
   "codemirror_mode": {
    "name": "ipython",
    "version": 3
   },
   "file_extension": ".py",
   "mimetype": "text/x-python",
   "name": "python",
   "nbconvert_exporter": "python",
   "pygments_lexer": "ipython3",
   "version": "3.8.2"
  }
 },
 "nbformat": 4,
 "nbformat_minor": 4
}
