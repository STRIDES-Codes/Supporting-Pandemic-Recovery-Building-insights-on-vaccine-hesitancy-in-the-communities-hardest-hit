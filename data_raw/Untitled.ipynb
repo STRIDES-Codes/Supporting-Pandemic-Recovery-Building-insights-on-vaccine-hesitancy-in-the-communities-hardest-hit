{
 "cells": [
  {
   "cell_type": "markdown",
   "metadata": {},
   "source": [
    "# USDA Mix \n",
    "<hr>"
   ]
  },
  {
   "cell_type": "code",
   "execution_count": 95,
   "metadata": {},
   "outputs": [],
   "source": [
    "import pandas as pd \n",
    "import os\n",
    "import numpy as np"
   ]
  },
  {
   "cell_type": "markdown",
   "metadata": {},
   "source": [
    "\n",
    "\n",
    "\n",
    "\n",
    "\n",
    "['FIPS', 'county', 'state', 'prec_in_poverty_2019', '2012_unemployment',\n",
    "       '2013_unemployment', '2014_unemployment', '2015_unemployment',\n",
    "       '2016_unemployment', '2017_unemployment', '2018_unemployment',\n",
    "       '2019_unemployment', '2020_unemployment',\n",
    "       'Median Household Income (2019)', '2015-2019_completing_college',\n",
    "       '2015-2019_some_college', '2015-2019_HS_only', '2015-2019_not_HS']"
   ]
  },
  {
   "cell_type": "markdown",
   "metadata": {},
   "source": [
    "# Data in \n",
    "<hr>"
   ]
  },
  {
   "cell_type": "code",
   "execution_count": 96,
   "metadata": {},
   "outputs": [
    {
     "data": {
      "text/html": [
       "<div>\n",
       "<style scoped>\n",
       "    .dataframe tbody tr th:only-of-type {\n",
       "        vertical-align: middle;\n",
       "    }\n",
       "\n",
       "    .dataframe tbody tr th {\n",
       "        vertical-align: top;\n",
       "    }\n",
       "\n",
       "    .dataframe thead th {\n",
       "        text-align: right;\n",
       "    }\n",
       "</style>\n",
       "<table border=\"1\" class=\"dataframe\">\n",
       "  <thead>\n",
       "    <tr style=\"text-align: right;\">\n",
       "      <th></th>\n",
       "      <th>fips</th>\n",
       "      <th>county</th>\n",
       "      <th>ruc_code</th>\n",
       "      <th>total_all_people</th>\n",
       "      <th>total_all_people_min</th>\n",
       "      <th>total_all_people_max</th>\n",
       "      <th>under18</th>\n",
       "      <th>under18_min</th>\n",
       "      <th>under18_max</th>\n",
       "      <th>type</th>\n",
       "      <th>state</th>\n",
       "    </tr>\n",
       "  </thead>\n",
       "  <tbody>\n",
       "    <tr>\n",
       "      <th>0</th>\n",
       "      <td>28001</td>\n",
       "      <td>Adams</td>\n",
       "      <td>5</td>\n",
       "      <td>27.9</td>\n",
       "      <td>22.2</td>\n",
       "      <td>33.6</td>\n",
       "      <td>40.8</td>\n",
       "      <td>30.3</td>\n",
       "      <td>51.3</td>\n",
       "      <td>percent</td>\n",
       "      <td>Mississippi</td>\n",
       "    </tr>\n",
       "    <tr>\n",
       "      <th>1</th>\n",
       "      <td>28003</td>\n",
       "      <td>Alcorn</td>\n",
       "      <td>7</td>\n",
       "      <td>17.3</td>\n",
       "      <td>13.6</td>\n",
       "      <td>21.0</td>\n",
       "      <td>23.7</td>\n",
       "      <td>16.5</td>\n",
       "      <td>30.9</td>\n",
       "      <td>percent</td>\n",
       "      <td>Mississippi</td>\n",
       "    </tr>\n",
       "    <tr>\n",
       "      <th>2</th>\n",
       "      <td>28005</td>\n",
       "      <td>Amite</td>\n",
       "      <td>8</td>\n",
       "      <td>20.9</td>\n",
       "      <td>16.4</td>\n",
       "      <td>25.4</td>\n",
       "      <td>29.1</td>\n",
       "      <td>20.3</td>\n",
       "      <td>37.9</td>\n",
       "      <td>percent</td>\n",
       "      <td>Mississippi</td>\n",
       "    </tr>\n",
       "    <tr>\n",
       "      <th>3</th>\n",
       "      <td>28007</td>\n",
       "      <td>Attala</td>\n",
       "      <td>6</td>\n",
       "      <td>24.1</td>\n",
       "      <td>19.3</td>\n",
       "      <td>28.9</td>\n",
       "      <td>35.0</td>\n",
       "      <td>25.9</td>\n",
       "      <td>44.1</td>\n",
       "      <td>percent</td>\n",
       "      <td>Mississippi</td>\n",
       "    </tr>\n",
       "    <tr>\n",
       "      <th>4</th>\n",
       "      <td>28009</td>\n",
       "      <td>Benton</td>\n",
       "      <td>1</td>\n",
       "      <td>20.7</td>\n",
       "      <td>15.4</td>\n",
       "      <td>26.0</td>\n",
       "      <td>31.1</td>\n",
       "      <td>20.9</td>\n",
       "      <td>41.3</td>\n",
       "      <td>percent</td>\n",
       "      <td>Mississippi</td>\n",
       "    </tr>\n",
       "  </tbody>\n",
       "</table>\n",
       "</div>"
      ],
      "text/plain": [
       "    fips  county  ruc_code  total_all_people  total_all_people_min  \\\n",
       "0  28001   Adams         5              27.9                  22.2   \n",
       "1  28003  Alcorn         7              17.3                  13.6   \n",
       "2  28005   Amite         8              20.9                  16.4   \n",
       "3  28007  Attala         6              24.1                  19.3   \n",
       "4  28009  Benton         1              20.7                  15.4   \n",
       "\n",
       "   total_all_people_max  under18  under18_min  under18_max     type  \\\n",
       "0                  33.6     40.8         30.3         51.3  percent   \n",
       "1                  21.0     23.7         16.5         30.9  percent   \n",
       "2                  25.4     29.1         20.3         37.9  percent   \n",
       "3                  28.9     35.0         25.9         44.1  percent   \n",
       "4                  26.0     31.1         20.9         41.3  percent   \n",
       "\n",
       "         state  \n",
       "0  Mississippi  \n",
       "1  Mississippi  \n",
       "2  Mississippi  \n",
       "3  Mississippi  \n",
       "4  Mississippi  "
      ]
     },
     "execution_count": 96,
     "metadata": {},
     "output_type": "execute_result"
    }
   ],
   "source": [
    "poverty_df = pd.read_csv('../data/USDA/USDA_poverty_percent_2019.csv')\n",
    "poverty_df.head()"
   ]
  },
  {
   "cell_type": "code",
   "execution_count": 97,
   "metadata": {},
   "outputs": [
    {
     "data": {
      "text/html": [
       "<div>\n",
       "<style scoped>\n",
       "    .dataframe tbody tr th:only-of-type {\n",
       "        vertical-align: middle;\n",
       "    }\n",
       "\n",
       "    .dataframe tbody tr th {\n",
       "        vertical-align: top;\n",
       "    }\n",
       "\n",
       "    .dataframe thead th {\n",
       "        text-align: right;\n",
       "    }\n",
       "</style>\n",
       "<table border=\"1\" class=\"dataframe\">\n",
       "  <thead>\n",
       "    <tr style=\"text-align: right;\">\n",
       "      <th></th>\n",
       "      <th>FIPS</th>\n",
       "      <th>Name</th>\n",
       "      <th>2012</th>\n",
       "      <th>2013</th>\n",
       "      <th>2014</th>\n",
       "      <th>2015</th>\n",
       "      <th>2016</th>\n",
       "      <th>2017</th>\n",
       "      <th>2018</th>\n",
       "      <th>2019</th>\n",
       "      <th>2020</th>\n",
       "      <th>Median Household Income (2019)</th>\n",
       "      <th>% of State Median HH Income</th>\n",
       "      <th>state</th>\n",
       "    </tr>\n",
       "  </thead>\n",
       "  <tbody>\n",
       "    <tr>\n",
       "      <th>0</th>\n",
       "      <td>50001</td>\n",
       "      <td>Addison County, VT</td>\n",
       "      <td>4.4</td>\n",
       "      <td>4.1</td>\n",
       "      <td>3.8</td>\n",
       "      <td>3.4</td>\n",
       "      <td>2.9</td>\n",
       "      <td>2.8</td>\n",
       "      <td>2.5</td>\n",
       "      <td>2.3</td>\n",
       "      <td>5.0</td>\n",
       "      <td>73574.0</td>\n",
       "      <td>1.162435</td>\n",
       "      <td>Vermont</td>\n",
       "    </tr>\n",
       "    <tr>\n",
       "      <th>1</th>\n",
       "      <td>50003</td>\n",
       "      <td>Bennington County, VT</td>\n",
       "      <td>5.7</td>\n",
       "      <td>5.2</td>\n",
       "      <td>4.7</td>\n",
       "      <td>4.2</td>\n",
       "      <td>3.6</td>\n",
       "      <td>3.7</td>\n",
       "      <td>3.1</td>\n",
       "      <td>2.9</td>\n",
       "      <td>6.6</td>\n",
       "      <td>56948.0</td>\n",
       "      <td>0.899752</td>\n",
       "      <td>Vermont</td>\n",
       "    </tr>\n",
       "  </tbody>\n",
       "</table>\n",
       "</div>"
      ],
      "text/plain": [
       "    FIPS                   Name  2012  2013  2014  2015  2016  2017  2018  \\\n",
       "0  50001     Addison County, VT   4.4   4.1   3.8   3.4   2.9   2.8   2.5   \n",
       "1  50003  Bennington County, VT   5.7   5.2   4.7   4.2   3.6   3.7   3.1   \n",
       "\n",
       "   2019  2020  Median Household Income (2019)  % of State Median HH Income  \\\n",
       "0   2.3   5.0                         73574.0                     1.162435   \n",
       "1   2.9   6.6                         56948.0                     0.899752   \n",
       "\n",
       "     state  \n",
       "0  Vermont  \n",
       "1  Vermont  "
      ]
     },
     "execution_count": 97,
     "metadata": {},
     "output_type": "execute_result"
    }
   ],
   "source": [
    "unemployment_df = pd.read_csv('../data/USDA/USDA_unemployment.csv')\n",
    "unemployment_df.head(2)"
   ]
  },
  {
   "cell_type": "code",
   "execution_count": 98,
   "metadata": {},
   "outputs": [
    {
     "data": {
      "text/html": [
       "<div>\n",
       "<style scoped>\n",
       "    .dataframe tbody tr th:only-of-type {\n",
       "        vertical-align: middle;\n",
       "    }\n",
       "\n",
       "    .dataframe tbody tr th {\n",
       "        vertical-align: top;\n",
       "    }\n",
       "\n",
       "    .dataframe thead th {\n",
       "        text-align: right;\n",
       "    }\n",
       "</style>\n",
       "<table border=\"1\" class=\"dataframe\">\n",
       "  <thead>\n",
       "    <tr style=\"text-align: right;\">\n",
       "      <th></th>\n",
       "      <th>FIPS</th>\n",
       "      <th>Name</th>\n",
       "      <th>2013 Rural-urban Continuum Code*</th>\n",
       "      <th>2015-2019_completing_college</th>\n",
       "      <th>state</th>\n",
       "      <th>2015-2019_some_college</th>\n",
       "      <th>2015-2019_HS_only</th>\n",
       "      <th>2015-2019_not_HS</th>\n",
       "    </tr>\n",
       "  </thead>\n",
       "  <tbody>\n",
       "    <tr>\n",
       "      <th>0</th>\n",
       "      <td>4001</td>\n",
       "      <td>Apache, AZ</td>\n",
       "      <td>6.0</td>\n",
       "      <td>0.123006</td>\n",
       "      <td>Arizona</td>\n",
       "      <td>0.358629</td>\n",
       "      <td>0.322388</td>\n",
       "      <td>0.195978</td>\n",
       "    </tr>\n",
       "    <tr>\n",
       "      <th>1</th>\n",
       "      <td>4003</td>\n",
       "      <td>Cochise, AZ</td>\n",
       "      <td>3.0</td>\n",
       "      <td>0.231096</td>\n",
       "      <td>Arizona</td>\n",
       "      <td>0.401705</td>\n",
       "      <td>0.241034</td>\n",
       "      <td>0.126165</td>\n",
       "    </tr>\n",
       "  </tbody>\n",
       "</table>\n",
       "</div>"
      ],
      "text/plain": [
       "   FIPS                 Name  2013 Rural-urban Continuum Code*  \\\n",
       "0  4001   Apache, AZ                                       6.0   \n",
       "1  4003  Cochise, AZ                                       3.0   \n",
       "\n",
       "   2015-2019_completing_college    state  2015-2019_some_college  \\\n",
       "0                      0.123006  Arizona                0.358629   \n",
       "1                      0.231096  Arizona                0.401705   \n",
       "\n",
       "   2015-2019_HS_only  2015-2019_not_HS  \n",
       "0           0.322388          0.195978  \n",
       "1           0.241034          0.126165  "
      ]
     },
     "execution_count": 98,
     "metadata": {},
     "output_type": "execute_result"
    }
   ],
   "source": [
    "education_df = pd.read_csv('../data/USDA/USDA_education_2015-2019.csv')\n",
    "education_df.head(2)"
   ]
  },
  {
   "cell_type": "markdown",
   "metadata": {},
   "source": [
    "# Pre-Merge\n",
    "<hr>"
   ]
  },
  {
   "cell_type": "markdown",
   "metadata": {},
   "source": [
    "### Proverty"
   ]
  },
  {
   "cell_type": "code",
   "execution_count": 99,
   "metadata": {},
   "outputs": [
    {
     "data": {
      "text/plain": [
       "Index(['fips', 'county', 'ruc_code', 'total_all_people',\n",
       "       'total_all_people_min', 'total_all_people_max', 'under18',\n",
       "       'under18_min', 'under18_max', 'type', 'state'],\n",
       "      dtype='object')"
      ]
     },
     "execution_count": 99,
     "metadata": {},
     "output_type": "execute_result"
    }
   ],
   "source": [
    "poverty_df.columns"
   ]
  },
  {
   "cell_type": "code",
   "execution_count": 100,
   "metadata": {},
   "outputs": [],
   "source": [
    "# drop in poverty\n",
    "poverty_df.drop(columns = ['ruc_code','total_all_people_min', 'total_all_people_max', 'under18',\n",
    "       'under18_min', 'under18_max', 'type'], inplace = True)"
   ]
  },
  {
   "cell_type": "code",
   "execution_count": 101,
   "metadata": {},
   "outputs": [],
   "source": [
    "poverty_df.rename(columns = {'fips':'FIPS','total_all_people':'prec_in_poverty_2019'},\n",
    "                 inplace = True)"
   ]
  },
  {
   "cell_type": "code",
   "execution_count": 102,
   "metadata": {},
   "outputs": [
    {
     "data": {
      "text/html": [
       "<div>\n",
       "<style scoped>\n",
       "    .dataframe tbody tr th:only-of-type {\n",
       "        vertical-align: middle;\n",
       "    }\n",
       "\n",
       "    .dataframe tbody tr th {\n",
       "        vertical-align: top;\n",
       "    }\n",
       "\n",
       "    .dataframe thead th {\n",
       "        text-align: right;\n",
       "    }\n",
       "</style>\n",
       "<table border=\"1\" class=\"dataframe\">\n",
       "  <thead>\n",
       "    <tr style=\"text-align: right;\">\n",
       "      <th></th>\n",
       "      <th>FIPS</th>\n",
       "      <th>county</th>\n",
       "      <th>prec_in_poverty_2019</th>\n",
       "      <th>state</th>\n",
       "    </tr>\n",
       "  </thead>\n",
       "  <tbody>\n",
       "    <tr>\n",
       "      <th>0</th>\n",
       "      <td>28001</td>\n",
       "      <td>Adams</td>\n",
       "      <td>27.9</td>\n",
       "      <td>Mississippi</td>\n",
       "    </tr>\n",
       "  </tbody>\n",
       "</table>\n",
       "</div>"
      ],
      "text/plain": [
       "    FIPS county  prec_in_poverty_2019        state\n",
       "0  28001  Adams                  27.9  Mississippi"
      ]
     },
     "execution_count": 102,
     "metadata": {},
     "output_type": "execute_result"
    }
   ],
   "source": [
    "poverty_df.head(1)"
   ]
  },
  {
   "cell_type": "markdown",
   "metadata": {},
   "source": [
    "<br>"
   ]
  },
  {
   "cell_type": "markdown",
   "metadata": {},
   "source": [
    "### Unemployment"
   ]
  },
  {
   "cell_type": "code",
   "execution_count": 103,
   "metadata": {},
   "outputs": [
    {
     "data": {
      "text/plain": [
       "Index(['FIPS', 'Name', '2012', '2013', '2014', '2015', '2016', '2017', '2018',\n",
       "       '2019', '2020', 'Median Household Income (2019)',\n",
       "       '% of State Median HH Income', 'state'],\n",
       "      dtype='object')"
      ]
     },
     "execution_count": 103,
     "metadata": {},
     "output_type": "execute_result"
    }
   ],
   "source": [
    "unemployment_df.columns"
   ]
  },
  {
   "cell_type": "code",
   "execution_count": 104,
   "metadata": {},
   "outputs": [],
   "source": [
    "unemployment_df.drop(columns = ['Name' ,\n",
    "       '% of State Median HH Income', 'state'], inplace = True)"
   ]
  },
  {
   "cell_type": "code",
   "execution_count": 105,
   "metadata": {},
   "outputs": [],
   "source": [
    "unemployment_df.rename(columns = {'2012':'2012_unemployment',\n",
    "                                  '2013':'2013_unemployment',\n",
    "                                  '2014':'2014_unemployment',\n",
    "                                  '2015':'2015_unemployment',\n",
    "                                  '2016':'2016_unemployment',\n",
    "                                  '2017':'2017_unemployment',\n",
    "                                  '2018':'2018_unemployment',\n",
    "                                  '2019':'2019_unemployment',\n",
    "                                  '2020':'2020_unemployment',}, inplace = True)"
   ]
  },
  {
   "cell_type": "code",
   "execution_count": 106,
   "metadata": {},
   "outputs": [
    {
     "data": {
      "text/html": [
       "<div>\n",
       "<style scoped>\n",
       "    .dataframe tbody tr th:only-of-type {\n",
       "        vertical-align: middle;\n",
       "    }\n",
       "\n",
       "    .dataframe tbody tr th {\n",
       "        vertical-align: top;\n",
       "    }\n",
       "\n",
       "    .dataframe thead th {\n",
       "        text-align: right;\n",
       "    }\n",
       "</style>\n",
       "<table border=\"1\" class=\"dataframe\">\n",
       "  <thead>\n",
       "    <tr style=\"text-align: right;\">\n",
       "      <th></th>\n",
       "      <th>FIPS</th>\n",
       "      <th>2012_unemployment</th>\n",
       "      <th>2013_unemployment</th>\n",
       "      <th>2014_unemployment</th>\n",
       "      <th>2015_unemployment</th>\n",
       "      <th>2016_unemployment</th>\n",
       "      <th>2017_unemployment</th>\n",
       "      <th>2018_unemployment</th>\n",
       "      <th>2019_unemployment</th>\n",
       "      <th>2020_unemployment</th>\n",
       "      <th>Median Household Income (2019)</th>\n",
       "    </tr>\n",
       "  </thead>\n",
       "  <tbody>\n",
       "    <tr>\n",
       "      <th>0</th>\n",
       "      <td>50001</td>\n",
       "      <td>4.4</td>\n",
       "      <td>4.1</td>\n",
       "      <td>3.8</td>\n",
       "      <td>3.4</td>\n",
       "      <td>2.9</td>\n",
       "      <td>2.8</td>\n",
       "      <td>2.5</td>\n",
       "      <td>2.3</td>\n",
       "      <td>5.0</td>\n",
       "      <td>73574.0</td>\n",
       "    </tr>\n",
       "  </tbody>\n",
       "</table>\n",
       "</div>"
      ],
      "text/plain": [
       "    FIPS  2012_unemployment  2013_unemployment  2014_unemployment  \\\n",
       "0  50001                4.4                4.1                3.8   \n",
       "\n",
       "   2015_unemployment  2016_unemployment  2017_unemployment  2018_unemployment  \\\n",
       "0                3.4                2.9                2.8                2.5   \n",
       "\n",
       "   2019_unemployment  2020_unemployment  Median Household Income (2019)  \n",
       "0                2.3                5.0                         73574.0  "
      ]
     },
     "execution_count": 106,
     "metadata": {},
     "output_type": "execute_result"
    }
   ],
   "source": [
    "unemployment_df.head(1)"
   ]
  },
  {
   "cell_type": "markdown",
   "metadata": {},
   "source": [
    "<br>"
   ]
  },
  {
   "cell_type": "markdown",
   "metadata": {},
   "source": [
    "### Education\n",
    "<hr>"
   ]
  },
  {
   "cell_type": "code",
   "execution_count": 107,
   "metadata": {},
   "outputs": [
    {
     "data": {
      "text/plain": [
       "Index(['FIPS', 'Name', '2013 Rural-urban Continuum Code*',\n",
       "       '2015-2019_completing_college', 'state', '2015-2019_some_college',\n",
       "       '2015-2019_HS_only', '2015-2019_not_HS'],\n",
       "      dtype='object')"
      ]
     },
     "execution_count": 107,
     "metadata": {},
     "output_type": "execute_result"
    }
   ],
   "source": [
    "education_df.columns"
   ]
  },
  {
   "cell_type": "code",
   "execution_count": 108,
   "metadata": {},
   "outputs": [
    {
     "data": {
      "text/plain": [
       "['Name', '2013 Rural-urban Continuum Code*', 'state']"
      ]
     },
     "execution_count": 108,
     "metadata": {},
     "output_type": "execute_result"
    }
   ],
   "source": [
    " ['Name', '2013 Rural-urban Continuum Code*','state']"
   ]
  },
  {
   "cell_type": "code",
   "execution_count": 109,
   "metadata": {},
   "outputs": [],
   "source": [
    "education_df.drop(columns =  ['Name', '2013 Rural-urban Continuum Code*',\n",
    "                                 'state'], inplace = True)"
   ]
  },
  {
   "cell_type": "code",
   "execution_count": 110,
   "metadata": {},
   "outputs": [
    {
     "data": {
      "text/html": [
       "<div>\n",
       "<style scoped>\n",
       "    .dataframe tbody tr th:only-of-type {\n",
       "        vertical-align: middle;\n",
       "    }\n",
       "\n",
       "    .dataframe tbody tr th {\n",
       "        vertical-align: top;\n",
       "    }\n",
       "\n",
       "    .dataframe thead th {\n",
       "        text-align: right;\n",
       "    }\n",
       "</style>\n",
       "<table border=\"1\" class=\"dataframe\">\n",
       "  <thead>\n",
       "    <tr style=\"text-align: right;\">\n",
       "      <th></th>\n",
       "      <th>FIPS</th>\n",
       "      <th>2015-2019_completing_college</th>\n",
       "      <th>2015-2019_some_college</th>\n",
       "      <th>2015-2019_HS_only</th>\n",
       "      <th>2015-2019_not_HS</th>\n",
       "    </tr>\n",
       "  </thead>\n",
       "  <tbody>\n",
       "    <tr>\n",
       "      <th>0</th>\n",
       "      <td>4001</td>\n",
       "      <td>0.123006</td>\n",
       "      <td>0.358629</td>\n",
       "      <td>0.322388</td>\n",
       "      <td>0.195978</td>\n",
       "    </tr>\n",
       "    <tr>\n",
       "      <th>1</th>\n",
       "      <td>4003</td>\n",
       "      <td>0.231096</td>\n",
       "      <td>0.401705</td>\n",
       "      <td>0.241034</td>\n",
       "      <td>0.126165</td>\n",
       "    </tr>\n",
       "  </tbody>\n",
       "</table>\n",
       "</div>"
      ],
      "text/plain": [
       "   FIPS  2015-2019_completing_college  2015-2019_some_college  \\\n",
       "0  4001                      0.123006                0.358629   \n",
       "1  4003                      0.231096                0.401705   \n",
       "\n",
       "   2015-2019_HS_only  2015-2019_not_HS  \n",
       "0           0.322388          0.195978  \n",
       "1           0.241034          0.126165  "
      ]
     },
     "execution_count": 110,
     "metadata": {},
     "output_type": "execute_result"
    }
   ],
   "source": [
    "education_df.head(2)"
   ]
  },
  {
   "cell_type": "markdown",
   "metadata": {},
   "source": [
    "<br>"
   ]
  },
  {
   "cell_type": "markdown",
   "metadata": {},
   "source": [
    "# Merge\n",
    "<hr>"
   ]
  },
  {
   "cell_type": "code",
   "execution_count": 111,
   "metadata": {},
   "outputs": [
    {
     "data": {
      "text/plain": [
       "(3141, 4)"
      ]
     },
     "execution_count": 111,
     "metadata": {},
     "output_type": "execute_result"
    }
   ],
   "source": [
    "poverty_df.shape"
   ]
  },
  {
   "cell_type": "code",
   "execution_count": 112,
   "metadata": {},
   "outputs": [],
   "source": [
    "master_df = poverty_df.merge(unemployment_df, on = 'FIPS', how='left')"
   ]
  },
  {
   "cell_type": "code",
   "execution_count": 113,
   "metadata": {},
   "outputs": [
    {
     "data": {
      "text/plain": [
       "(3141, 14)"
      ]
     },
     "execution_count": 113,
     "metadata": {},
     "output_type": "execute_result"
    }
   ],
   "source": [
    "master_df.shape"
   ]
  },
  {
   "cell_type": "code",
   "execution_count": 114,
   "metadata": {},
   "outputs": [],
   "source": [
    "master_df = master_df.merge(education_df, on = 'FIPS', how = 'left')"
   ]
  },
  {
   "cell_type": "code",
   "execution_count": 115,
   "metadata": {},
   "outputs": [
    {
     "data": {
      "text/plain": [
       "(3141, 18)"
      ]
     },
     "execution_count": 115,
     "metadata": {},
     "output_type": "execute_result"
    }
   ],
   "source": [
    "master_df.shape"
   ]
  },
  {
   "cell_type": "code",
   "execution_count": 116,
   "metadata": {},
   "outputs": [
    {
     "data": {
      "text/plain": [
       "Index(['FIPS', 'county', 'prec_in_poverty_2019', 'state', '2012_unemployment',\n",
       "       '2013_unemployment', '2014_unemployment', '2015_unemployment',\n",
       "       '2016_unemployment', '2017_unemployment', '2018_unemployment',\n",
       "       '2019_unemployment', '2020_unemployment',\n",
       "       'Median Household Income (2019)', '2015-2019_completing_college',\n",
       "       '2015-2019_some_college', '2015-2019_HS_only', '2015-2019_not_HS'],\n",
       "      dtype='object')"
      ]
     },
     "execution_count": 116,
     "metadata": {},
     "output_type": "execute_result"
    }
   ],
   "source": [
    "master_df.columns"
   ]
  },
  {
   "cell_type": "code",
   "execution_count": 117,
   "metadata": {},
   "outputs": [],
   "source": [
    "# Reorder dataframe\n",
    "master_df = master_df[['FIPS', 'county', 'state','prec_in_poverty_2019',  '2012_unemployment',\n",
    "                       '2013_unemployment', '2014_unemployment', '2015_unemployment',\n",
    "                       '2016_unemployment', '2017_unemployment', '2018_unemployment',\n",
    "                       '2019_unemployment', '2020_unemployment',\n",
    "                       'Median Household Income (2019)', '2015-2019_completing_college',\n",
    "                       '2015-2019_some_college', '2015-2019_HS_only', '2015-2019_not_HS']]"
   ]
  },
  {
   "cell_type": "code",
   "execution_count": 119,
   "metadata": {},
   "outputs": [],
   "source": [
    "# Master DF\n"
   ]
  },
  {
   "cell_type": "code",
   "execution_count": 120,
   "metadata": {},
   "outputs": [
    {
     "data": {
      "text/html": [
       "<div>\n",
       "<style scoped>\n",
       "    .dataframe tbody tr th:only-of-type {\n",
       "        vertical-align: middle;\n",
       "    }\n",
       "\n",
       "    .dataframe tbody tr th {\n",
       "        vertical-align: top;\n",
       "    }\n",
       "\n",
       "    .dataframe thead th {\n",
       "        text-align: right;\n",
       "    }\n",
       "</style>\n",
       "<table border=\"1\" class=\"dataframe\">\n",
       "  <thead>\n",
       "    <tr style=\"text-align: right;\">\n",
       "      <th></th>\n",
       "      <th>0</th>\n",
       "      <th>1</th>\n",
       "      <th>2</th>\n",
       "      <th>3</th>\n",
       "      <th>4</th>\n",
       "    </tr>\n",
       "  </thead>\n",
       "  <tbody>\n",
       "    <tr>\n",
       "      <th>FIPS</th>\n",
       "      <td>28001</td>\n",
       "      <td>28003</td>\n",
       "      <td>28005</td>\n",
       "      <td>28007</td>\n",
       "      <td>28009</td>\n",
       "    </tr>\n",
       "    <tr>\n",
       "      <th>county</th>\n",
       "      <td>Adams</td>\n",
       "      <td>Alcorn</td>\n",
       "      <td>Amite</td>\n",
       "      <td>Attala</td>\n",
       "      <td>Benton</td>\n",
       "    </tr>\n",
       "    <tr>\n",
       "      <th>state</th>\n",
       "      <td>Mississippi</td>\n",
       "      <td>Mississippi</td>\n",
       "      <td>Mississippi</td>\n",
       "      <td>Mississippi</td>\n",
       "      <td>Mississippi</td>\n",
       "    </tr>\n",
       "    <tr>\n",
       "      <th>prec_in_poverty_2019</th>\n",
       "      <td>27.9</td>\n",
       "      <td>17.3</td>\n",
       "      <td>20.9</td>\n",
       "      <td>24.1</td>\n",
       "      <td>20.7</td>\n",
       "    </tr>\n",
       "    <tr>\n",
       "      <th>2012_unemployment</th>\n",
       "      <td>9.7</td>\n",
       "      <td>8.5</td>\n",
       "      <td>9.9</td>\n",
       "      <td>9.6</td>\n",
       "      <td>10.4</td>\n",
       "    </tr>\n",
       "    <tr>\n",
       "      <th>2013_unemployment</th>\n",
       "      <td>9.3</td>\n",
       "      <td>7.7</td>\n",
       "      <td>9.1</td>\n",
       "      <td>9.3</td>\n",
       "      <td>10.4</td>\n",
       "    </tr>\n",
       "    <tr>\n",
       "      <th>2014_unemployment</th>\n",
       "      <td>8.4</td>\n",
       "      <td>6.7</td>\n",
       "      <td>8.1</td>\n",
       "      <td>8.8</td>\n",
       "      <td>9.5</td>\n",
       "    </tr>\n",
       "    <tr>\n",
       "      <th>2015_unemployment</th>\n",
       "      <td>8.1</td>\n",
       "      <td>5.7</td>\n",
       "      <td>7.7</td>\n",
       "      <td>7.7</td>\n",
       "      <td>8.1</td>\n",
       "    </tr>\n",
       "    <tr>\n",
       "      <th>2016_unemployment</th>\n",
       "      <td>8.4</td>\n",
       "      <td>5.3</td>\n",
       "      <td>7.5</td>\n",
       "      <td>6.8</td>\n",
       "      <td>6.9</td>\n",
       "    </tr>\n",
       "    <tr>\n",
       "      <th>2017_unemployment</th>\n",
       "      <td>7.5</td>\n",
       "      <td>4.5</td>\n",
       "      <td>6.9</td>\n",
       "      <td>6.2</td>\n",
       "      <td>5.7</td>\n",
       "    </tr>\n",
       "    <tr>\n",
       "      <th>2018_unemployment</th>\n",
       "      <td>6.5</td>\n",
       "      <td>4.3</td>\n",
       "      <td>6.4</td>\n",
       "      <td>5.8</td>\n",
       "      <td>5.8</td>\n",
       "    </tr>\n",
       "    <tr>\n",
       "      <th>2019_unemployment</th>\n",
       "      <td>7.2</td>\n",
       "      <td>4.8</td>\n",
       "      <td>7.1</td>\n",
       "      <td>6.4</td>\n",
       "      <td>6.3</td>\n",
       "    </tr>\n",
       "    <tr>\n",
       "      <th>2020_unemployment</th>\n",
       "      <td>11</td>\n",
       "      <td>6.2</td>\n",
       "      <td>8.4</td>\n",
       "      <td>8.3</td>\n",
       "      <td>8.3</td>\n",
       "    </tr>\n",
       "    <tr>\n",
       "      <th>Median Household Income (2019)</th>\n",
       "      <td>34583</td>\n",
       "      <td>43496</td>\n",
       "      <td>41575</td>\n",
       "      <td>36905</td>\n",
       "      <td>37875</td>\n",
       "    </tr>\n",
       "    <tr>\n",
       "      <th>2015-2019_completing_college</th>\n",
       "      <td>0.174432</td>\n",
       "      <td>0.171251</td>\n",
       "      <td>0.125637</td>\n",
       "      <td>0.139183</td>\n",
       "      <td>0.115405</td>\n",
       "    </tr>\n",
       "    <tr>\n",
       "      <th>2015-2019_some_college</th>\n",
       "      <td>0.274382</td>\n",
       "      <td>0.319973</td>\n",
       "      <td>0.300244</td>\n",
       "      <td>0.312469</td>\n",
       "      <td>0.276656</td>\n",
       "    </tr>\n",
       "    <tr>\n",
       "      <th>2015-2019_HS_only</th>\n",
       "      <td>0.329806</td>\n",
       "      <td>0.321971</td>\n",
       "      <td>0.392865</td>\n",
       "      <td>0.324434</td>\n",
       "      <td>0.333743</td>\n",
       "    </tr>\n",
       "    <tr>\n",
       "      <th>2015-2019_not_HS</th>\n",
       "      <td>0.22138</td>\n",
       "      <td>0.186805</td>\n",
       "      <td>0.181254</td>\n",
       "      <td>0.223913</td>\n",
       "      <td>0.274196</td>\n",
       "    </tr>\n",
       "  </tbody>\n",
       "</table>\n",
       "</div>"
      ],
      "text/plain": [
       "                                          0            1            2  \\\n",
       "FIPS                                  28001        28003        28005   \n",
       "county                                Adams       Alcorn        Amite   \n",
       "state                           Mississippi  Mississippi  Mississippi   \n",
       "prec_in_poverty_2019                   27.9         17.3         20.9   \n",
       "2012_unemployment                       9.7          8.5          9.9   \n",
       "2013_unemployment                       9.3          7.7          9.1   \n",
       "2014_unemployment                       8.4          6.7          8.1   \n",
       "2015_unemployment                       8.1          5.7          7.7   \n",
       "2016_unemployment                       8.4          5.3          7.5   \n",
       "2017_unemployment                       7.5          4.5          6.9   \n",
       "2018_unemployment                       6.5          4.3          6.4   \n",
       "2019_unemployment                       7.2          4.8          7.1   \n",
       "2020_unemployment                        11          6.2          8.4   \n",
       "Median Household Income (2019)        34583        43496        41575   \n",
       "2015-2019_completing_college       0.174432     0.171251     0.125637   \n",
       "2015-2019_some_college             0.274382     0.319973     0.300244   \n",
       "2015-2019_HS_only                  0.329806     0.321971     0.392865   \n",
       "2015-2019_not_HS                    0.22138     0.186805     0.181254   \n",
       "\n",
       "                                          3            4  \n",
       "FIPS                                  28007        28009  \n",
       "county                               Attala       Benton  \n",
       "state                           Mississippi  Mississippi  \n",
       "prec_in_poverty_2019                   24.1         20.7  \n",
       "2012_unemployment                       9.6         10.4  \n",
       "2013_unemployment                       9.3         10.4  \n",
       "2014_unemployment                       8.8          9.5  \n",
       "2015_unemployment                       7.7          8.1  \n",
       "2016_unemployment                       6.8          6.9  \n",
       "2017_unemployment                       6.2          5.7  \n",
       "2018_unemployment                       5.8          5.8  \n",
       "2019_unemployment                       6.4          6.3  \n",
       "2020_unemployment                       8.3          8.3  \n",
       "Median Household Income (2019)        36905        37875  \n",
       "2015-2019_completing_college       0.139183     0.115405  \n",
       "2015-2019_some_college             0.312469     0.276656  \n",
       "2015-2019_HS_only                  0.324434     0.333743  \n",
       "2015-2019_not_HS                   0.223913     0.274196  "
      ]
     },
     "execution_count": 120,
     "metadata": {},
     "output_type": "execute_result"
    }
   ],
   "source": [
    "master_df.head().T"
   ]
  },
  {
   "cell_type": "code",
   "execution_count": 121,
   "metadata": {},
   "outputs": [
    {
     "data": {
      "text/plain": [
       "FIPS                              0\n",
       "county                            0\n",
       "state                             0\n",
       "prec_in_poverty_2019              0\n",
       "2012_unemployment                 5\n",
       "2013_unemployment                 5\n",
       "2014_unemployment                 5\n",
       "2015_unemployment                 5\n",
       "2016_unemployment                 5\n",
       "2017_unemployment                 5\n",
       "2018_unemployment                 5\n",
       "2019_unemployment                 5\n",
       "2020_unemployment                 5\n",
       "Median Household Income (2019)    5\n",
       "2015-2019_completing_college      5\n",
       "2015-2019_some_college            5\n",
       "2015-2019_HS_only                 5\n",
       "2015-2019_not_HS                  5\n",
       "dtype: int64"
      ]
     },
     "execution_count": 121,
     "metadata": {},
     "output_type": "execute_result"
    }
   ],
   "source": [
    "master_df.isna().sum()"
   ]
  },
  {
   "cell_type": "code",
   "execution_count": 122,
   "metadata": {},
   "outputs": [
    {
     "data": {
      "text/html": [
       "<div>\n",
       "<style scoped>\n",
       "    .dataframe tbody tr th:only-of-type {\n",
       "        vertical-align: middle;\n",
       "    }\n",
       "\n",
       "    .dataframe tbody tr th {\n",
       "        vertical-align: top;\n",
       "    }\n",
       "\n",
       "    .dataframe thead th {\n",
       "        text-align: right;\n",
       "    }\n",
       "</style>\n",
       "<table border=\"1\" class=\"dataframe\">\n",
       "  <thead>\n",
       "    <tr style=\"text-align: right;\">\n",
       "      <th></th>\n",
       "      <th>FIPS</th>\n",
       "      <th>county</th>\n",
       "      <th>state</th>\n",
       "      <th>prec_in_poverty_2019</th>\n",
       "      <th>2012_unemployment</th>\n",
       "      <th>2013_unemployment</th>\n",
       "      <th>2014_unemployment</th>\n",
       "      <th>2015_unemployment</th>\n",
       "      <th>2016_unemployment</th>\n",
       "      <th>2017_unemployment</th>\n",
       "      <th>2018_unemployment</th>\n",
       "      <th>2019_unemployment</th>\n",
       "      <th>2020_unemployment</th>\n",
       "      <th>Median Household Income (2019)</th>\n",
       "      <th>2015-2019_completing_college</th>\n",
       "      <th>2015-2019_some_college</th>\n",
       "      <th>2015-2019_HS_only</th>\n",
       "      <th>2015-2019_not_HS</th>\n",
       "    </tr>\n",
       "  </thead>\n",
       "  <tbody>\n",
       "    <tr>\n",
       "      <th>673</th>\n",
       "      <td>2158</td>\n",
       "      <td>Kusilvak</td>\n",
       "      <td>Alaska</td>\n",
       "      <td>26.8</td>\n",
       "      <td>NaN</td>\n",
       "      <td>NaN</td>\n",
       "      <td>NaN</td>\n",
       "      <td>NaN</td>\n",
       "      <td>NaN</td>\n",
       "      <td>NaN</td>\n",
       "      <td>NaN</td>\n",
       "      <td>NaN</td>\n",
       "      <td>NaN</td>\n",
       "      <td>NaN</td>\n",
       "      <td>0.039152</td>\n",
       "      <td>0.189526</td>\n",
       "      <td>0.560100</td>\n",
       "      <td>0.211222</td>\n",
       "    </tr>\n",
       "    <tr>\n",
       "      <th>679</th>\n",
       "      <td>2195</td>\n",
       "      <td>Alaska</td>\n",
       "      <td>Alaska</td>\n",
       "      <td>6.7</td>\n",
       "      <td>NaN</td>\n",
       "      <td>NaN</td>\n",
       "      <td>NaN</td>\n",
       "      <td>NaN</td>\n",
       "      <td>NaN</td>\n",
       "      <td>NaN</td>\n",
       "      <td>NaN</td>\n",
       "      <td>NaN</td>\n",
       "      <td>NaN</td>\n",
       "      <td>NaN</td>\n",
       "      <td>NaN</td>\n",
       "      <td>NaN</td>\n",
       "      <td>NaN</td>\n",
       "      <td>NaN</td>\n",
       "    </tr>\n",
       "    <tr>\n",
       "      <th>680</th>\n",
       "      <td>2198</td>\n",
       "      <td>Alaska</td>\n",
       "      <td>Alaska</td>\n",
       "      <td>17.6</td>\n",
       "      <td>NaN</td>\n",
       "      <td>NaN</td>\n",
       "      <td>NaN</td>\n",
       "      <td>NaN</td>\n",
       "      <td>NaN</td>\n",
       "      <td>NaN</td>\n",
       "      <td>NaN</td>\n",
       "      <td>NaN</td>\n",
       "      <td>NaN</td>\n",
       "      <td>NaN</td>\n",
       "      <td>NaN</td>\n",
       "      <td>NaN</td>\n",
       "      <td>NaN</td>\n",
       "      <td>NaN</td>\n",
       "    </tr>\n",
       "    <tr>\n",
       "      <th>685</th>\n",
       "      <td>2275</td>\n",
       "      <td>Alaska</td>\n",
       "      <td>Alaska</td>\n",
       "      <td>9.7</td>\n",
       "      <td>NaN</td>\n",
       "      <td>NaN</td>\n",
       "      <td>NaN</td>\n",
       "      <td>NaN</td>\n",
       "      <td>NaN</td>\n",
       "      <td>NaN</td>\n",
       "      <td>NaN</td>\n",
       "      <td>NaN</td>\n",
       "      <td>NaN</td>\n",
       "      <td>NaN</td>\n",
       "      <td>NaN</td>\n",
       "      <td>NaN</td>\n",
       "      <td>NaN</td>\n",
       "      <td>NaN</td>\n",
       "    </tr>\n",
       "    <tr>\n",
       "      <th>1934</th>\n",
       "      <td>46102</td>\n",
       "      <td>Oglala Lakota</td>\n",
       "      <td>South Dakota</td>\n",
       "      <td>40.1</td>\n",
       "      <td>NaN</td>\n",
       "      <td>NaN</td>\n",
       "      <td>NaN</td>\n",
       "      <td>NaN</td>\n",
       "      <td>NaN</td>\n",
       "      <td>NaN</td>\n",
       "      <td>NaN</td>\n",
       "      <td>NaN</td>\n",
       "      <td>NaN</td>\n",
       "      <td>NaN</td>\n",
       "      <td>0.104250</td>\n",
       "      <td>0.356760</td>\n",
       "      <td>0.277678</td>\n",
       "      <td>0.261312</td>\n",
       "    </tr>\n",
       "  </tbody>\n",
       "</table>\n",
       "</div>"
      ],
      "text/plain": [
       "       FIPS         county         state  prec_in_poverty_2019  \\\n",
       "673    2158       Kusilvak        Alaska                  26.8   \n",
       "679    2195         Alaska        Alaska                   6.7   \n",
       "680    2198         Alaska        Alaska                  17.6   \n",
       "685    2275         Alaska        Alaska                   9.7   \n",
       "1934  46102  Oglala Lakota  South Dakota                  40.1   \n",
       "\n",
       "      2012_unemployment  2013_unemployment  2014_unemployment  \\\n",
       "673                 NaN                NaN                NaN   \n",
       "679                 NaN                NaN                NaN   \n",
       "680                 NaN                NaN                NaN   \n",
       "685                 NaN                NaN                NaN   \n",
       "1934                NaN                NaN                NaN   \n",
       "\n",
       "      2015_unemployment  2016_unemployment  2017_unemployment  \\\n",
       "673                 NaN                NaN                NaN   \n",
       "679                 NaN                NaN                NaN   \n",
       "680                 NaN                NaN                NaN   \n",
       "685                 NaN                NaN                NaN   \n",
       "1934                NaN                NaN                NaN   \n",
       "\n",
       "      2018_unemployment  2019_unemployment  2020_unemployment  \\\n",
       "673                 NaN                NaN                NaN   \n",
       "679                 NaN                NaN                NaN   \n",
       "680                 NaN                NaN                NaN   \n",
       "685                 NaN                NaN                NaN   \n",
       "1934                NaN                NaN                NaN   \n",
       "\n",
       "      Median Household Income (2019)  2015-2019_completing_college  \\\n",
       "673                              NaN                      0.039152   \n",
       "679                              NaN                           NaN   \n",
       "680                              NaN                           NaN   \n",
       "685                              NaN                           NaN   \n",
       "1934                             NaN                      0.104250   \n",
       "\n",
       "      2015-2019_some_college  2015-2019_HS_only  2015-2019_not_HS  \n",
       "673                 0.189526           0.560100          0.211222  \n",
       "679                      NaN                NaN               NaN  \n",
       "680                      NaN                NaN               NaN  \n",
       "685                      NaN                NaN               NaN  \n",
       "1934                0.356760           0.277678          0.261312  "
      ]
     },
     "execution_count": 122,
     "metadata": {},
     "output_type": "execute_result"
    }
   ],
   "source": [
    "# view Nans\n",
    "master_df[master_df['2012_unemployment'].isnull()]"
   ]
  },
  {
   "cell_type": "code",
   "execution_count": 123,
   "metadata": {},
   "outputs": [
    {
     "data": {
      "text/plain": [
       "Int64Index([673, 679, 680, 685, 1934], dtype='int64')"
      ]
     },
     "execution_count": 123,
     "metadata": {},
     "output_type": "execute_result"
    }
   ],
   "source": [
    "# identify Nans in FIPS row \n",
    "nan_rows = master_df[master_df['2012_unemployment'].isnull()].index\n",
    "nan_rows"
   ]
  },
  {
   "cell_type": "code",
   "execution_count": 124,
   "metadata": {},
   "outputs": [],
   "source": [
    "# remove rows with all Nans\n",
    "master_df.drop(nan_rows, inplace = True)"
   ]
  },
  {
   "cell_type": "code",
   "execution_count": 125,
   "metadata": {},
   "outputs": [
    {
     "data": {
      "text/plain": [
       "FIPS                              0\n",
       "county                            0\n",
       "state                             0\n",
       "prec_in_poverty_2019              0\n",
       "2012_unemployment                 0\n",
       "2013_unemployment                 0\n",
       "2014_unemployment                 0\n",
       "2015_unemployment                 0\n",
       "2016_unemployment                 0\n",
       "2017_unemployment                 0\n",
       "2018_unemployment                 0\n",
       "2019_unemployment                 0\n",
       "2020_unemployment                 0\n",
       "Median Household Income (2019)    0\n",
       "2015-2019_completing_college      2\n",
       "2015-2019_some_college            2\n",
       "2015-2019_HS_only                 2\n",
       "2015-2019_not_HS                  2\n",
       "dtype: int64"
      ]
     },
     "execution_count": 125,
     "metadata": {},
     "output_type": "execute_result"
    }
   ],
   "source": [
    "master_df.isna().sum()"
   ]
  },
  {
   "cell_type": "code",
   "execution_count": 126,
   "metadata": {},
   "outputs": [
    {
     "data": {
      "text/html": [
       "<div>\n",
       "<style scoped>\n",
       "    .dataframe tbody tr th:only-of-type {\n",
       "        vertical-align: middle;\n",
       "    }\n",
       "\n",
       "    .dataframe tbody tr th {\n",
       "        vertical-align: top;\n",
       "    }\n",
       "\n",
       "    .dataframe thead th {\n",
       "        text-align: right;\n",
       "    }\n",
       "</style>\n",
       "<table border=\"1\" class=\"dataframe\">\n",
       "  <thead>\n",
       "    <tr style=\"text-align: right;\">\n",
       "      <th></th>\n",
       "      <th>FIPS</th>\n",
       "      <th>county</th>\n",
       "      <th>state</th>\n",
       "      <th>prec_in_poverty_2019</th>\n",
       "      <th>2012_unemployment</th>\n",
       "      <th>2013_unemployment</th>\n",
       "      <th>2014_unemployment</th>\n",
       "      <th>2015_unemployment</th>\n",
       "      <th>2016_unemployment</th>\n",
       "      <th>2017_unemployment</th>\n",
       "      <th>2018_unemployment</th>\n",
       "      <th>2019_unemployment</th>\n",
       "      <th>2020_unemployment</th>\n",
       "      <th>Median Household Income (2019)</th>\n",
       "      <th>2015-2019_completing_college</th>\n",
       "      <th>2015-2019_some_college</th>\n",
       "      <th>2015-2019_HS_only</th>\n",
       "      <th>2015-2019_not_HS</th>\n",
       "    </tr>\n",
       "  </thead>\n",
       "  <tbody>\n",
       "    <tr>\n",
       "      <th>668</th>\n",
       "      <td>2105</td>\n",
       "      <td>Alaska</td>\n",
       "      <td>Alaska</td>\n",
       "      <td>15.7</td>\n",
       "      <td>14.6</td>\n",
       "      <td>14.7</td>\n",
       "      <td>14.9</td>\n",
       "      <td>14.7</td>\n",
       "      <td>11.3</td>\n",
       "      <td>11.5</td>\n",
       "      <td>11.5</td>\n",
       "      <td>10.0</td>\n",
       "      <td>13.5</td>\n",
       "      <td>53141.0</td>\n",
       "      <td>NaN</td>\n",
       "      <td>NaN</td>\n",
       "      <td>NaN</td>\n",
       "      <td>NaN</td>\n",
       "    </tr>\n",
       "    <tr>\n",
       "      <th>682</th>\n",
       "      <td>2230</td>\n",
       "      <td>Alaska</td>\n",
       "      <td>Alaska</td>\n",
       "      <td>4.0</td>\n",
       "      <td>14.2</td>\n",
       "      <td>12.4</td>\n",
       "      <td>11.7</td>\n",
       "      <td>11.1</td>\n",
       "      <td>10.7</td>\n",
       "      <td>9.7</td>\n",
       "      <td>8.7</td>\n",
       "      <td>8.8</td>\n",
       "      <td>21.5</td>\n",
       "      <td>74898.0</td>\n",
       "      <td>NaN</td>\n",
       "      <td>NaN</td>\n",
       "      <td>NaN</td>\n",
       "      <td>NaN</td>\n",
       "    </tr>\n",
       "  </tbody>\n",
       "</table>\n",
       "</div>"
      ],
      "text/plain": [
       "     FIPS  county   state  prec_in_poverty_2019  2012_unemployment  \\\n",
       "668  2105  Alaska  Alaska                  15.7               14.6   \n",
       "682  2230  Alaska  Alaska                   4.0               14.2   \n",
       "\n",
       "     2013_unemployment  2014_unemployment  2015_unemployment  \\\n",
       "668               14.7               14.9               14.7   \n",
       "682               12.4               11.7               11.1   \n",
       "\n",
       "     2016_unemployment  2017_unemployment  2018_unemployment  \\\n",
       "668               11.3               11.5               11.5   \n",
       "682               10.7                9.7                8.7   \n",
       "\n",
       "     2019_unemployment  2020_unemployment  Median Household Income (2019)  \\\n",
       "668               10.0               13.5                         53141.0   \n",
       "682                8.8               21.5                         74898.0   \n",
       "\n",
       "     2015-2019_completing_college  2015-2019_some_college  2015-2019_HS_only  \\\n",
       "668                           NaN                     NaN                NaN   \n",
       "682                           NaN                     NaN                NaN   \n",
       "\n",
       "     2015-2019_not_HS  \n",
       "668               NaN  \n",
       "682               NaN  "
      ]
     },
     "execution_count": 126,
     "metadata": {},
     "output_type": "execute_result"
    }
   ],
   "source": [
    "# view Nans\n",
    "master_df[master_df['2015-2019_HS_only'].isnull()]"
   ]
  },
  {
   "cell_type": "code",
   "execution_count": 127,
   "metadata": {},
   "outputs": [
    {
     "data": {
      "text/plain": [
       "Int64Index([668, 682], dtype='int64')"
      ]
     },
     "execution_count": 127,
     "metadata": {},
     "output_type": "execute_result"
    }
   ],
   "source": [
    "# view Nans\n",
    "nan_rows = master_df[master_df['2015-2019_HS_only'].isnull()].index\n",
    "nan_rows"
   ]
  },
  {
   "cell_type": "code",
   "execution_count": 128,
   "metadata": {},
   "outputs": [],
   "source": [
    "# remove rows with all Nans\n",
    "master_df.drop(nan_rows, inplace = True)"
   ]
  },
  {
   "cell_type": "code",
   "execution_count": 129,
   "metadata": {},
   "outputs": [
    {
     "data": {
      "text/plain": [
       "FIPS                              0\n",
       "county                            0\n",
       "state                             0\n",
       "prec_in_poverty_2019              0\n",
       "2012_unemployment                 0\n",
       "2013_unemployment                 0\n",
       "2014_unemployment                 0\n",
       "2015_unemployment                 0\n",
       "2016_unemployment                 0\n",
       "2017_unemployment                 0\n",
       "2018_unemployment                 0\n",
       "2019_unemployment                 0\n",
       "2020_unemployment                 0\n",
       "Median Household Income (2019)    0\n",
       "2015-2019_completing_college      0\n",
       "2015-2019_some_college            0\n",
       "2015-2019_HS_only                 0\n",
       "2015-2019_not_HS                  0\n",
       "dtype: int64"
      ]
     },
     "execution_count": 129,
     "metadata": {},
     "output_type": "execute_result"
    }
   ],
   "source": [
    "master_df.isna().sum()"
   ]
  },
  {
   "cell_type": "markdown",
   "metadata": {},
   "source": [
    "<br>"
   ]
  },
  {
   "cell_type": "markdown",
   "metadata": {},
   "source": [
    "# Write to CSV\n",
    "<hr>"
   ]
  },
  {
   "cell_type": "code",
   "execution_count": 135,
   "metadata": {},
   "outputs": [],
   "source": [
    "master_df.to_csv('../data/USDA/USDA_all.csv', index=False)"
   ]
  },
  {
   "cell_type": "markdown",
   "metadata": {},
   "source": [
    "# EDA\n",
    "<hr>"
   ]
  },
  {
   "cell_type": "code",
   "execution_count": 136,
   "metadata": {},
   "outputs": [
    {
     "data": {
      "text/plain": [
       "Index(['FIPS', 'county', 'state', 'prec_in_poverty_2019', '2012_unemployment',\n",
       "       '2013_unemployment', '2014_unemployment', '2015_unemployment',\n",
       "       '2016_unemployment', '2017_unemployment', '2018_unemployment',\n",
       "       '2019_unemployment', '2020_unemployment',\n",
       "       'Median Household Income (2019)', '2015-2019_completing_college',\n",
       "       '2015-2019_some_college', '2015-2019_HS_only', '2015-2019_not_HS'],\n",
       "      dtype='object')"
      ]
     },
     "execution_count": 136,
     "metadata": {},
     "output_type": "execute_result"
    }
   ],
   "source": [
    "master_df.columns"
   ]
  },
  {
   "cell_type": "code",
   "execution_count": 134,
   "metadata": {},
   "outputs": [
    {
     "data": {
      "text/plain": [
       "(3134, 18)"
      ]
     },
     "execution_count": 134,
     "metadata": {},
     "output_type": "execute_result"
    }
   ],
   "source": [
    "master_df.shape"
   ]
  },
  {
   "cell_type": "code",
   "execution_count": 133,
   "metadata": {},
   "outputs": [
    {
     "data": {
      "text/html": [
       "<div>\n",
       "<style scoped>\n",
       "    .dataframe tbody tr th:only-of-type {\n",
       "        vertical-align: middle;\n",
       "    }\n",
       "\n",
       "    .dataframe tbody tr th {\n",
       "        vertical-align: top;\n",
       "    }\n",
       "\n",
       "    .dataframe thead th {\n",
       "        text-align: right;\n",
       "    }\n",
       "</style>\n",
       "<table border=\"1\" class=\"dataframe\">\n",
       "  <thead>\n",
       "    <tr style=\"text-align: right;\">\n",
       "      <th></th>\n",
       "      <th>FIPS</th>\n",
       "      <th>county</th>\n",
       "      <th>state</th>\n",
       "      <th>prec_in_poverty_2019</th>\n",
       "      <th>2012_unemployment</th>\n",
       "      <th>2013_unemployment</th>\n",
       "      <th>2014_unemployment</th>\n",
       "      <th>2015_unemployment</th>\n",
       "      <th>2016_unemployment</th>\n",
       "      <th>2017_unemployment</th>\n",
       "      <th>2018_unemployment</th>\n",
       "      <th>2019_unemployment</th>\n",
       "      <th>2020_unemployment</th>\n",
       "      <th>Median Household Income (2019)</th>\n",
       "      <th>2015-2019_completing_college</th>\n",
       "      <th>2015-2019_some_college</th>\n",
       "      <th>2015-2019_HS_only</th>\n",
       "      <th>2015-2019_not_HS</th>\n",
       "    </tr>\n",
       "  </thead>\n",
       "  <tbody>\n",
       "    <tr>\n",
       "      <th>0</th>\n",
       "      <td>28001</td>\n",
       "      <td>Adams</td>\n",
       "      <td>Mississippi</td>\n",
       "      <td>27.9</td>\n",
       "      <td>9.7</td>\n",
       "      <td>9.3</td>\n",
       "      <td>8.4</td>\n",
       "      <td>8.1</td>\n",
       "      <td>8.4</td>\n",
       "      <td>7.5</td>\n",
       "      <td>6.5</td>\n",
       "      <td>7.2</td>\n",
       "      <td>11.0</td>\n",
       "      <td>34583.0</td>\n",
       "      <td>0.174432</td>\n",
       "      <td>0.274382</td>\n",
       "      <td>0.329806</td>\n",
       "      <td>0.221380</td>\n",
       "    </tr>\n",
       "    <tr>\n",
       "      <th>1</th>\n",
       "      <td>28003</td>\n",
       "      <td>Alcorn</td>\n",
       "      <td>Mississippi</td>\n",
       "      <td>17.3</td>\n",
       "      <td>8.5</td>\n",
       "      <td>7.7</td>\n",
       "      <td>6.7</td>\n",
       "      <td>5.7</td>\n",
       "      <td>5.3</td>\n",
       "      <td>4.5</td>\n",
       "      <td>4.3</td>\n",
       "      <td>4.8</td>\n",
       "      <td>6.2</td>\n",
       "      <td>43496.0</td>\n",
       "      <td>0.171251</td>\n",
       "      <td>0.319973</td>\n",
       "      <td>0.321971</td>\n",
       "      <td>0.186805</td>\n",
       "    </tr>\n",
       "    <tr>\n",
       "      <th>2</th>\n",
       "      <td>28005</td>\n",
       "      <td>Amite</td>\n",
       "      <td>Mississippi</td>\n",
       "      <td>20.9</td>\n",
       "      <td>9.9</td>\n",
       "      <td>9.1</td>\n",
       "      <td>8.1</td>\n",
       "      <td>7.7</td>\n",
       "      <td>7.5</td>\n",
       "      <td>6.9</td>\n",
       "      <td>6.4</td>\n",
       "      <td>7.1</td>\n",
       "      <td>8.4</td>\n",
       "      <td>41575.0</td>\n",
       "      <td>0.125637</td>\n",
       "      <td>0.300244</td>\n",
       "      <td>0.392865</td>\n",
       "      <td>0.181254</td>\n",
       "    </tr>\n",
       "    <tr>\n",
       "      <th>3</th>\n",
       "      <td>28007</td>\n",
       "      <td>Attala</td>\n",
       "      <td>Mississippi</td>\n",
       "      <td>24.1</td>\n",
       "      <td>9.6</td>\n",
       "      <td>9.3</td>\n",
       "      <td>8.8</td>\n",
       "      <td>7.7</td>\n",
       "      <td>6.8</td>\n",
       "      <td>6.2</td>\n",
       "      <td>5.8</td>\n",
       "      <td>6.4</td>\n",
       "      <td>8.3</td>\n",
       "      <td>36905.0</td>\n",
       "      <td>0.139183</td>\n",
       "      <td>0.312469</td>\n",
       "      <td>0.324434</td>\n",
       "      <td>0.223913</td>\n",
       "    </tr>\n",
       "    <tr>\n",
       "      <th>4</th>\n",
       "      <td>28009</td>\n",
       "      <td>Benton</td>\n",
       "      <td>Mississippi</td>\n",
       "      <td>20.7</td>\n",
       "      <td>10.4</td>\n",
       "      <td>10.4</td>\n",
       "      <td>9.5</td>\n",
       "      <td>8.1</td>\n",
       "      <td>6.9</td>\n",
       "      <td>5.7</td>\n",
       "      <td>5.8</td>\n",
       "      <td>6.3</td>\n",
       "      <td>8.3</td>\n",
       "      <td>37875.0</td>\n",
       "      <td>0.115405</td>\n",
       "      <td>0.276656</td>\n",
       "      <td>0.333743</td>\n",
       "      <td>0.274196</td>\n",
       "    </tr>\n",
       "  </tbody>\n",
       "</table>\n",
       "</div>"
      ],
      "text/plain": [
       "    FIPS  county        state  prec_in_poverty_2019  2012_unemployment  \\\n",
       "0  28001   Adams  Mississippi                  27.9                9.7   \n",
       "1  28003  Alcorn  Mississippi                  17.3                8.5   \n",
       "2  28005   Amite  Mississippi                  20.9                9.9   \n",
       "3  28007  Attala  Mississippi                  24.1                9.6   \n",
       "4  28009  Benton  Mississippi                  20.7               10.4   \n",
       "\n",
       "   2013_unemployment  2014_unemployment  2015_unemployment  2016_unemployment  \\\n",
       "0                9.3                8.4                8.1                8.4   \n",
       "1                7.7                6.7                5.7                5.3   \n",
       "2                9.1                8.1                7.7                7.5   \n",
       "3                9.3                8.8                7.7                6.8   \n",
       "4               10.4                9.5                8.1                6.9   \n",
       "\n",
       "   2017_unemployment  2018_unemployment  2019_unemployment  2020_unemployment  \\\n",
       "0                7.5                6.5                7.2               11.0   \n",
       "1                4.5                4.3                4.8                6.2   \n",
       "2                6.9                6.4                7.1                8.4   \n",
       "3                6.2                5.8                6.4                8.3   \n",
       "4                5.7                5.8                6.3                8.3   \n",
       "\n",
       "   Median Household Income (2019)  2015-2019_completing_college  \\\n",
       "0                         34583.0                      0.174432   \n",
       "1                         43496.0                      0.171251   \n",
       "2                         41575.0                      0.125637   \n",
       "3                         36905.0                      0.139183   \n",
       "4                         37875.0                      0.115405   \n",
       "\n",
       "   2015-2019_some_college  2015-2019_HS_only  2015-2019_not_HS  \n",
       "0                0.274382           0.329806          0.221380  \n",
       "1                0.319973           0.321971          0.186805  \n",
       "2                0.300244           0.392865          0.181254  \n",
       "3                0.312469           0.324434          0.223913  \n",
       "4                0.276656           0.333743          0.274196  "
      ]
     },
     "execution_count": 133,
     "metadata": {},
     "output_type": "execute_result"
    }
   ],
   "source": [
    "master_df.head()"
   ]
  },
  {
   "cell_type": "code",
   "execution_count": null,
   "metadata": {},
   "outputs": [],
   "source": []
  }
 ],
 "metadata": {
  "kernelspec": {
   "display_name": "Python 3",
   "language": "python",
   "name": "python3"
  },
  "language_info": {
   "codemirror_mode": {
    "name": "ipython",
    "version": 3
   },
   "file_extension": ".py",
   "mimetype": "text/x-python",
   "name": "python",
   "nbconvert_exporter": "python",
   "pygments_lexer": "ipython3",
   "version": "3.8.2"
  }
 },
 "nbformat": 4,
 "nbformat_minor": 4
}
