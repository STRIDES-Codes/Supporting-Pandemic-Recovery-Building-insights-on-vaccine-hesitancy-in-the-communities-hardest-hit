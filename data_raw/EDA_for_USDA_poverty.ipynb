{
 "cells": [
  {
   "cell_type": "markdown",
   "metadata": {},
   "source": [
    "# US Poverty data by county for 2019\n",
    "<hr>"
   ]
  },
  {
   "cell_type": "code",
   "execution_count": 2,
   "metadata": {},
   "outputs": [],
   "source": [
    "import pandas as pd\n",
    "import os\n",
    "import re\n"
   ]
  },
  {
   "cell_type": "markdown",
   "metadata": {},
   "source": [
    "# Data\n",
    "\n",
    "### US Poverty data by county for 2019\n",
    "\n",
    "Economic Research Service  \n",
    "U.S. Department of Agriculture  \n",
    "link: https://data.ers.usda.gov/reports.aspx?ID=17826\n",
    "\n",
    "| Columns             | Description          |\n",
    "| -----------         | -----------          |\n",
    "| fips                | FIPS CODE            |\n",
    "| county              | County within state        |\n",
    "| State               | State                   |\n",
    "| ruc_code            | ruc_code             |\n",
    "| total_all_people'      | Totals All people in poverty (2019)              |\n",
    "| total_all_people_min | 90% confidence interval of estimate  Lower Bound, All People |\n",
    "| total_all_people_max | 90% confidence interval of estimate  Upper Bound, All People |\n",
    "| under18_pct         | Totals Children ages 0-17 in poverty (2019)                  |\n",
    "| under18_min         | 90% confidence interval of estimate, Children ages 0-17      |\n",
    "| under18_max         | 90% confidence interval of estimate, Children ages 0-17      |\n",
    "| type                | count or percent "
   ]
  },
  {
   "cell_type": "markdown",
   "metadata": {},
   "source": [
    "## Constants\n",
    "<hr>"
   ]
  },
  {
   "cell_type": "code",
   "execution_count": 3,
   "metadata": {
    "jupyter": {
     "source_hidden": true
    }
   },
   "outputs": [],
   "source": [
    "stats_master_list = ['Vermont',\n",
    " 'Mississippi',\n",
    " 'Maine',\n",
    " 'Montana',\n",
    " 'Washington',\n",
    " 'District of Columbia',\n",
    " 'Texas',\n",
    " 'Alabama',\n",
    " 'Michigan',\n",
    " 'Maryland',\n",
    " 'Rhode Island',\n",
    " 'South Dakota',\n",
    " 'Nebraska',\n",
    " 'Virginia',\n",
    " 'Florida',\n",
    " 'Utah',\n",
    " 'Louisiana',\n",
    " 'Missouri',\n",
    " 'Massachusetts',\n",
    " 'South Carolina',\n",
    " 'Pennsylvania',\n",
    " 'Tennessee',\n",
    " 'Minnesota',\n",
    " 'Idaho',\n",
    " 'Alaska',\n",
    " 'Oklahoma',\n",
    " 'North Dakota',\n",
    " 'Arkansas',\n",
    " 'Georgia',\n",
    " 'New Hampshire',\n",
    " 'Indiana',\n",
    " 'Puerto Rico',\n",
    " 'New Jersey',\n",
    " 'Delaware',\n",
    " 'West Virginia',\n",
    " 'Colorado',\n",
    " 'New York',\n",
    " 'Kansas',\n",
    " 'Arizona',\n",
    " 'Ohio',\n",
    " 'Hawaii',\n",
    " 'Illinois',\n",
    " 'Oregon',\n",
    " 'North Carolina',\n",
    " 'California',\n",
    " 'Kentucky',\n",
    " 'Wyoming',\n",
    " 'Iowa',\n",
    " 'Nevada',\n",
    " 'Connecticut',\n",
    " 'Wisconsin',\n",
    " 'New Mexico']"
   ]
  },
  {
   "cell_type": "code",
   "execution_count": 9,
   "metadata": {},
   "outputs": [],
   "source": [
    "columns = ['Textbox105', 'Textbox106', 'fips', 'county', 'ruc_code',\n",
    "       'total_all_people', 'total_all_people_min', 'total_all_people_max',\n",
    "       'under18', 'under18_min', 'under18_max', 'type',\n",
    "       'state']"
   ]
  },
  {
   "cell_type": "markdown",
   "metadata": {},
   "source": [
    "## File managment\n",
    "<hr>"
   ]
  },
  {
   "cell_type": "code",
   "execution_count": 10,
   "metadata": {},
   "outputs": [],
   "source": [
    "#os.chdir('../codeathon/data-overlook/USDA_gov-Poverty/')"
   ]
  },
  {
   "cell_type": "code",
   "execution_count": 19,
   "metadata": {},
   "outputs": [],
   "source": [
    "files = os.listdir(\"../data_raw/USDA_gov-Poverty/\")"
   ]
  },
  {
   "cell_type": "code",
   "execution_count": 20,
   "metadata": {},
   "outputs": [],
   "source": [
    "# remove mac file \n",
    "files.remove(\".DS_Store\")"
   ]
  },
  {
   "cell_type": "code",
   "execution_count": 21,
   "metadata": {},
   "outputs": [
    {
     "data": {
      "text/plain": [
       "['PovertyReport_Mississippi.csv',\n",
       " 'PovertyReport_Massachusetts.csv',\n",
       " 'PovertyReport_Florida.csv',\n",
       " 'PovertyReport_Michigan.csv',\n",
       " 'PovertyReport_Rhode_Island.csv',\n",
       " 'PovertyReport_Idaho.csv',\n",
       " 'PovertyReport_Oregon.csv',\n",
       " 'PovertyReport_Kansas.csv',\n",
       " 'PovertyReport_Wyoming.csv',\n",
       " 'PovertyReport_Georgia.csv',\n",
       " 'PovertyReport_Nevada.csv',\n",
       " 'PovertyReport_Maryland.csv',\n",
       " 'PovertyReport_Alaska.csv',\n",
       " 'PovertyReport_Ohio.csv',\n",
       " 'PovertyReport_Wisconsin.csv',\n",
       " 'PovertyReport_District_of_Columbia.csv',\n",
       " 'PovertyReport_North_Carolina.csv',\n",
       " 'PovertyReport_Maine.csv',\n",
       " 'PovertyReport_Minnesota.csv',\n",
       " 'PovertyReport_Nebraska.csv',\n",
       " 'PovertyReport_Indiana.csv',\n",
       " 'PovertyReport_Arkansas.csv',\n",
       " 'PovertyReport_Tennessee.csv',\n",
       " 'PovertyReport_North_Dakota.csv',\n",
       " 'PovertyReport_West_Virginia.csv',\n",
       " 'PovertyReport_Montana.csv',\n",
       " 'PovertyReport_New_Hampshire.csv',\n",
       " 'PovertyReport_Virginia.csv',\n",
       " 'PovertyReport_Oklahoma.csv',\n",
       " 'PovertyReport_Utah.csv',\n",
       " 'PovertyReport_Colorado.csv',\n",
       " 'PovertyReport_South_Dakota.csv',\n",
       " 'PovertyReport_Illinois.csv',\n",
       " 'PovertyReport_Vermont.csv',\n",
       " 'PovertyReport_new_Jersey.csv',\n",
       " 'PovertyReport_South_Carolina.csv',\n",
       " 'PovertyReport_Missouri.csv',\n",
       " 'PovertyReport_new_york.csv',\n",
       " 'PovertyReport_Washington.csv',\n",
       " 'PovertyReport_Kentucky.csv',\n",
       " 'PovertyReport_Hawaii.csv',\n",
       " 'PovertyReport_Delaware.csv',\n",
       " 'PovertyReport_Pennsylvania.csv',\n",
       " 'PovertyReport_Louisiana.csv',\n",
       " 'PovertyReport_Alabama.csv',\n",
       " 'PovertyReport_Texas.csv',\n",
       " 'PovertyReport_Arizona.csv',\n",
       " 'PovertyReport_new_Mexico.csv',\n",
       " 'PovertyReport_California.csv',\n",
       " 'PovertyReport_Iowa.csv',\n",
       " 'PovertyReport_Connecticut.csv']"
      ]
     },
     "execution_count": 21,
     "metadata": {},
     "output_type": "execute_result"
    }
   ],
   "source": [
    "files"
   ]
  },
  {
   "cell_type": "markdown",
   "metadata": {},
   "source": [
    "# Create master DataFrame\n",
    "<hr>"
   ]
  },
  {
   "cell_type": "code",
   "execution_count": 23,
   "metadata": {},
   "outputs": [
    {
     "name": "stdout",
     "output_type": "stream",
     "text": [
      " File name: PovertyReport_Mississippi.csv for the state Mississippi has 4 inside.\n",
      " File name: PovertyReport_Massachusetts.csv for the state Massachusetts has 4 inside.\n",
      " File name: PovertyReport_Florida.csv for the state Florida has 4 inside.\n",
      " File name: PovertyReport_Michigan.csv for the state Michigan has 4 inside.\n",
      " File name: PovertyReport_Rhode_Island.csv for the state Rhode Island has 4 inside.\n",
      " File name: PovertyReport_Idaho.csv for the state Idaho has 4 inside.\n",
      " File name: PovertyReport_Oregon.csv for the state Oregon has 4 inside.\n",
      " File name: PovertyReport_Kansas.csv for the state Kansas has 4 inside.\n",
      " File name: PovertyReport_Wyoming.csv for the state Wyoming has 4 inside.\n",
      " File name: PovertyReport_Georgia.csv for the state Georgia has 4 inside.\n",
      " File name: PovertyReport_Nevada.csv for the state Nevada has 4 inside.\n",
      " File name: PovertyReport_Maryland.csv for the state Maryland has 4 inside.\n",
      " File name: PovertyReport_Alaska.csv for the state Alaska has 4 inside.\n",
      " File name: PovertyReport_Ohio.csv for the state Ohio has 4 inside.\n",
      " File name: PovertyReport_Wisconsin.csv for the state Wisconsin has 4 inside.\n",
      " File name: PovertyReport_District_of_Columbia.csv for the state District of Columbia has 4 inside.\n",
      " File name: PovertyReport_North_Carolina.csv for the state North Carolina has 4 inside.\n",
      " File name: PovertyReport_Maine.csv for the state Maine has 4 inside.\n",
      " File name: PovertyReport_Minnesota.csv for the state Minnesota has 4 inside.\n",
      " File name: PovertyReport_Nebraska.csv for the state Nebraska has 4 inside.\n",
      " File name: PovertyReport_Indiana.csv for the state Indiana has 4 inside.\n",
      " File name: PovertyReport_Arkansas.csv for the state Arkansas has 4 inside.\n",
      " File name: PovertyReport_Tennessee.csv for the state Tennessee has 4 inside.\n",
      " File name: PovertyReport_North_Dakota.csv for the state North Dakota has 4 inside.\n",
      " File name: PovertyReport_West_Virginia.csv for the state West Virginia has 4 inside.\n",
      " File name: PovertyReport_Montana.csv for the state Montana has 4 inside.\n",
      " File name: PovertyReport_New_Hampshire.csv for the state New Hampshire has 4 inside.\n",
      " File name: PovertyReport_Virginia.csv for the state Virginia has 4 inside.\n",
      " File name: PovertyReport_Oklahoma.csv for the state Oklahoma has 4 inside.\n",
      " File name: PovertyReport_Utah.csv for the state Utah has 4 inside.\n",
      " File name: PovertyReport_Colorado.csv for the state Colorado has 4 inside.\n",
      " File name: PovertyReport_South_Dakota.csv for the state South Dakota has 4 inside.\n",
      " File name: PovertyReport_Illinois.csv for the state Illinois has 4 inside.\n",
      " File name: PovertyReport_Vermont.csv for the state Vermont has 4 inside.\n",
      " File name: PovertyReport_new_Jersey.csv for the state New Jersey has 4 inside.\n",
      " File name: PovertyReport_South_Carolina.csv for the state South Carolina has 4 inside.\n",
      " File name: PovertyReport_Missouri.csv for the state Missouri has 4 inside.\n",
      " File name: PovertyReport_new_york.csv for the state New York has 4 inside.\n",
      " File name: PovertyReport_Washington.csv for the state Washington has 4 inside.\n",
      " File name: PovertyReport_Kentucky.csv for the state Kentucky has 4 inside.\n",
      " File name: PovertyReport_Hawaii.csv for the state Hawaii has 4 inside.\n",
      " File name: PovertyReport_Delaware.csv for the state Delaware has 4 inside.\n",
      " File name: PovertyReport_Pennsylvania.csv for the state Pennsylvania has 4 inside.\n",
      " File name: PovertyReport_Louisiana.csv for the state Louisiana has 4 inside.\n",
      " File name: PovertyReport_Alabama.csv for the state Alabama has 4 inside.\n",
      " File name: PovertyReport_Texas.csv for the state Texas has 4 inside.\n",
      " File name: PovertyReport_Arizona.csv for the state Arizona has 4 inside.\n",
      " File name: PovertyReport_new_Mexico.csv for the state New Mexico has 4 inside.\n",
      " File name: PovertyReport_California.csv for the state California has 4 inside.\n",
      " File name: PovertyReport_Iowa.csv for the state Iowa has 4 inside.\n",
      " File name: PovertyReport_Connecticut.csv for the state Connecticut has 4 inside.\n"
     ]
    }
   ],
   "source": [
    "# Concat \n",
    "\n",
    "# create master file \n",
    "master_df = pd.DataFrame(columns = columns)\n",
    "\n",
    "for file in files:\n",
    "    # read csv to dataframe\n",
    "    df = pd.read_csv('../data_raw/USDA_gov-Poverty/' +file, names=columns)\n",
    "    # locate breaks in index\n",
    "    index_s = df[ df.Textbox105.str.contains(r'Textbox*') == True ].index\n",
    "    # find anem of stName of state\n",
    "    state_name = df.iloc[index_s[0]+1,3]\n",
    "    print(f' File name: {file} for the state {state_name} has {len(index_s)} inside.')\n",
    "    \n",
    "    # create dataframe with percent\n",
    "    percent_df = df.iloc[index_s[0]+2:index_s[1],:].copy()\n",
    "    percent_df['type'] = 'percent'\n",
    "    percent_df['state'] = state_name\n",
    "    \n",
    "    # create dataframe with numbers\n",
    "    numbers_df = df.iloc[index_s[1]+2:index_s[2],:].copy()\n",
    "    numbers_df['type'] = 'numbers'\n",
    "    numbers_df['state'] = state_name\n",
    "    \n",
    "    # CONCAT dataFRAME together\n",
    "    master_df = pd.concat([master_df, percent_df, numbers_df])\n",
    "    "
   ]
  },
  {
   "cell_type": "code",
   "execution_count": 24,
   "metadata": {},
   "outputs": [
    {
     "data": {
      "text/plain": [
       "(6284, 13)"
      ]
     },
     "execution_count": 24,
     "metadata": {},
     "output_type": "execute_result"
    }
   ],
   "source": [
    "master_df.shape"
   ]
  },
  {
   "cell_type": "code",
   "execution_count": 26,
   "metadata": {},
   "outputs": [
    {
     "data": {
      "text/html": [
       "<div>\n",
       "<style scoped>\n",
       "    .dataframe tbody tr th:only-of-type {\n",
       "        vertical-align: middle;\n",
       "    }\n",
       "\n",
       "    .dataframe tbody tr th {\n",
       "        vertical-align: top;\n",
       "    }\n",
       "\n",
       "    .dataframe thead th {\n",
       "        text-align: right;\n",
       "    }\n",
       "</style>\n",
       "<table border=\"1\" class=\"dataframe\">\n",
       "  <thead>\n",
       "    <tr style=\"text-align: right;\">\n",
       "      <th></th>\n",
       "      <th>Textbox105</th>\n",
       "      <th>Textbox106</th>\n",
       "      <th>fips</th>\n",
       "      <th>county</th>\n",
       "      <th>ruc_code</th>\n",
       "      <th>total_all_people</th>\n",
       "      <th>total_all_people_min</th>\n",
       "      <th>total_all_people_max</th>\n",
       "      <th>under18</th>\n",
       "      <th>under18_min</th>\n",
       "      <th>under18_max</th>\n",
       "      <th>type</th>\n",
       "      <th>state</th>\n",
       "    </tr>\n",
       "  </thead>\n",
       "  <tbody>\n",
       "    <tr>\n",
       "      <th>139</th>\n",
       "      <td>All people in poverty (2019)</td>\n",
       "      <td>Children ages 0-17 in poverty (2019)</td>\n",
       "      <td>28001</td>\n",
       "      <td>Adams</td>\n",
       "      <td>5</td>\n",
       "      <td>27.9</td>\n",
       "      <td>22.2</td>\n",
       "      <td>33.6</td>\n",
       "      <td>40.8</td>\n",
       "      <td>30.3</td>\n",
       "      <td>51.3</td>\n",
       "      <td>percent</td>\n",
       "      <td>Mississippi</td>\n",
       "    </tr>\n",
       "    <tr>\n",
       "      <th>140</th>\n",
       "      <td>All people in poverty (2019)</td>\n",
       "      <td>Children ages 0-17 in poverty (2019)</td>\n",
       "      <td>28003</td>\n",
       "      <td>Alcorn</td>\n",
       "      <td>7</td>\n",
       "      <td>17.3</td>\n",
       "      <td>13.6</td>\n",
       "      <td>21.0</td>\n",
       "      <td>23.7</td>\n",
       "      <td>16.5</td>\n",
       "      <td>30.9</td>\n",
       "      <td>percent</td>\n",
       "      <td>Mississippi</td>\n",
       "    </tr>\n",
       "    <tr>\n",
       "      <th>141</th>\n",
       "      <td>All people in poverty (2019)</td>\n",
       "      <td>Children ages 0-17 in poverty (2019)</td>\n",
       "      <td>28005</td>\n",
       "      <td>Amite</td>\n",
       "      <td>8</td>\n",
       "      <td>20.9</td>\n",
       "      <td>16.4</td>\n",
       "      <td>25.4</td>\n",
       "      <td>29.1</td>\n",
       "      <td>20.3</td>\n",
       "      <td>37.9</td>\n",
       "      <td>percent</td>\n",
       "      <td>Mississippi</td>\n",
       "    </tr>\n",
       "  </tbody>\n",
       "</table>\n",
       "</div>"
      ],
      "text/plain": [
       "                       Textbox105                            Textbox106  \\\n",
       "139  All people in poverty (2019)  Children ages 0-17 in poverty (2019)   \n",
       "140  All people in poverty (2019)  Children ages 0-17 in poverty (2019)   \n",
       "141  All people in poverty (2019)  Children ages 0-17 in poverty (2019)   \n",
       "\n",
       "      fips  county ruc_code total_all_people total_all_people_min  \\\n",
       "139  28001   Adams        5             27.9                 22.2   \n",
       "140  28003  Alcorn        7             17.3                 13.6   \n",
       "141  28005   Amite        8             20.9                 16.4   \n",
       "\n",
       "    total_all_people_max under18 under18_min under18_max     type        state  \n",
       "139                 33.6    40.8        30.3        51.3  percent  Mississippi  \n",
       "140                 21.0    23.7        16.5        30.9  percent  Mississippi  \n",
       "141                 25.4    29.1        20.3        37.9  percent  Mississippi  "
      ]
     },
     "execution_count": 26,
     "metadata": {},
     "output_type": "execute_result"
    }
   ],
   "source": [
    "master_df.head(3)"
   ]
  },
  {
   "cell_type": "markdown",
   "metadata": {},
   "source": [
    "## Clean up DataFrame\n",
    "<hr>"
   ]
  },
  {
   "cell_type": "code",
   "execution_count": 28,
   "metadata": {},
   "outputs": [
    {
     "data": {
      "text/html": [
       "<div>\n",
       "<style scoped>\n",
       "    .dataframe tbody tr th:only-of-type {\n",
       "        vertical-align: middle;\n",
       "    }\n",
       "\n",
       "    .dataframe tbody tr th {\n",
       "        vertical-align: top;\n",
       "    }\n",
       "\n",
       "    .dataframe thead th {\n",
       "        text-align: right;\n",
       "    }\n",
       "</style>\n",
       "<table border=\"1\" class=\"dataframe\">\n",
       "  <thead>\n",
       "    <tr style=\"text-align: right;\">\n",
       "      <th></th>\n",
       "      <th>fips</th>\n",
       "      <th>county</th>\n",
       "      <th>ruc_code</th>\n",
       "      <th>total_all_people</th>\n",
       "      <th>total_all_people_min</th>\n",
       "      <th>total_all_people_max</th>\n",
       "      <th>under18</th>\n",
       "      <th>under18_min</th>\n",
       "      <th>under18_max</th>\n",
       "      <th>type</th>\n",
       "      <th>state</th>\n",
       "    </tr>\n",
       "  </thead>\n",
       "  <tbody>\n",
       "    <tr>\n",
       "      <th>139</th>\n",
       "      <td>28001</td>\n",
       "      <td>Adams</td>\n",
       "      <td>5</td>\n",
       "      <td>27.9</td>\n",
       "      <td>22.2</td>\n",
       "      <td>33.6</td>\n",
       "      <td>40.8</td>\n",
       "      <td>30.3</td>\n",
       "      <td>51.3</td>\n",
       "      <td>percent</td>\n",
       "      <td>Mississippi</td>\n",
       "    </tr>\n",
       "    <tr>\n",
       "      <th>140</th>\n",
       "      <td>28003</td>\n",
       "      <td>Alcorn</td>\n",
       "      <td>7</td>\n",
       "      <td>17.3</td>\n",
       "      <td>13.6</td>\n",
       "      <td>21.0</td>\n",
       "      <td>23.7</td>\n",
       "      <td>16.5</td>\n",
       "      <td>30.9</td>\n",
       "      <td>percent</td>\n",
       "      <td>Mississippi</td>\n",
       "    </tr>\n",
       "    <tr>\n",
       "      <th>141</th>\n",
       "      <td>28005</td>\n",
       "      <td>Amite</td>\n",
       "      <td>8</td>\n",
       "      <td>20.9</td>\n",
       "      <td>16.4</td>\n",
       "      <td>25.4</td>\n",
       "      <td>29.1</td>\n",
       "      <td>20.3</td>\n",
       "      <td>37.9</td>\n",
       "      <td>percent</td>\n",
       "      <td>Mississippi</td>\n",
       "    </tr>\n",
       "    <tr>\n",
       "      <th>142</th>\n",
       "      <td>28007</td>\n",
       "      <td>Attala</td>\n",
       "      <td>6</td>\n",
       "      <td>24.1</td>\n",
       "      <td>19.3</td>\n",
       "      <td>28.9</td>\n",
       "      <td>35.0</td>\n",
       "      <td>25.9</td>\n",
       "      <td>44.1</td>\n",
       "      <td>percent</td>\n",
       "      <td>Mississippi</td>\n",
       "    </tr>\n",
       "    <tr>\n",
       "      <th>143</th>\n",
       "      <td>28009</td>\n",
       "      <td>Benton</td>\n",
       "      <td>1</td>\n",
       "      <td>20.7</td>\n",
       "      <td>15.4</td>\n",
       "      <td>26.0</td>\n",
       "      <td>31.1</td>\n",
       "      <td>20.9</td>\n",
       "      <td>41.3</td>\n",
       "      <td>percent</td>\n",
       "      <td>Mississippi</td>\n",
       "    </tr>\n",
       "    <tr>\n",
       "      <th>...</th>\n",
       "      <td>...</td>\n",
       "      <td>...</td>\n",
       "      <td>...</td>\n",
       "      <td>...</td>\n",
       "      <td>...</td>\n",
       "      <td>...</td>\n",
       "      <td>...</td>\n",
       "      <td>...</td>\n",
       "      <td>...</td>\n",
       "      <td>...</td>\n",
       "      <td>...</td>\n",
       "    </tr>\n",
       "    <tr>\n",
       "      <th>78</th>\n",
       "      <td>09007</td>\n",
       "      <td>Middlesex</td>\n",
       "      <td>1</td>\n",
       "      <td>11,024</td>\n",
       "      <td>9,322</td>\n",
       "      <td>12,726</td>\n",
       "      <td>1,996</td>\n",
       "      <td>1,466</td>\n",
       "      <td>2,526</td>\n",
       "      <td>numbers</td>\n",
       "      <td>Connecticut</td>\n",
       "    </tr>\n",
       "    <tr>\n",
       "      <th>79</th>\n",
       "      <td>09009</td>\n",
       "      <td>New Haven</td>\n",
       "      <td>2</td>\n",
       "      <td>99,423</td>\n",
       "      <td>91,433</td>\n",
       "      <td>107,413</td>\n",
       "      <td>31,191</td>\n",
       "      <td>27,785</td>\n",
       "      <td>34,597</td>\n",
       "      <td>numbers</td>\n",
       "      <td>Connecticut</td>\n",
       "    </tr>\n",
       "    <tr>\n",
       "      <th>80</th>\n",
       "      <td>09011</td>\n",
       "      <td>New London</td>\n",
       "      <td>2</td>\n",
       "      <td>19,739</td>\n",
       "      <td>16,173</td>\n",
       "      <td>23,305</td>\n",
       "      <td>5,774</td>\n",
       "      <td>4,340</td>\n",
       "      <td>7,208</td>\n",
       "      <td>numbers</td>\n",
       "      <td>Connecticut</td>\n",
       "    </tr>\n",
       "    <tr>\n",
       "      <th>81</th>\n",
       "      <td>09013</td>\n",
       "      <td>Tolland</td>\n",
       "      <td>1</td>\n",
       "      <td>10,559</td>\n",
       "      <td>8,739</td>\n",
       "      <td>12,379</td>\n",
       "      <td>1,614</td>\n",
       "      <td>1,130</td>\n",
       "      <td>2,098</td>\n",
       "      <td>numbers</td>\n",
       "      <td>Connecticut</td>\n",
       "    </tr>\n",
       "    <tr>\n",
       "      <th>82</th>\n",
       "      <td>09015</td>\n",
       "      <td>Windham</td>\n",
       "      <td>2</td>\n",
       "      <td>12,874</td>\n",
       "      <td>10,961</td>\n",
       "      <td>14,787</td>\n",
       "      <td>3,110</td>\n",
       "      <td>2,236</td>\n",
       "      <td>3,984</td>\n",
       "      <td>numbers</td>\n",
       "      <td>Connecticut</td>\n",
       "    </tr>\n",
       "  </tbody>\n",
       "</table>\n",
       "<p>6284 rows × 11 columns</p>\n",
       "</div>"
      ],
      "text/plain": [
       "      fips      county ruc_code total_all_people total_all_people_min  \\\n",
       "139  28001       Adams        5             27.9                 22.2   \n",
       "140  28003      Alcorn        7             17.3                 13.6   \n",
       "141  28005       Amite        8             20.9                 16.4   \n",
       "142  28007      Attala        6             24.1                 19.3   \n",
       "143  28009      Benton        1             20.7                 15.4   \n",
       "..     ...         ...      ...              ...                  ...   \n",
       "78   09007   Middlesex        1           11,024                9,322   \n",
       "79   09009   New Haven        2           99,423               91,433   \n",
       "80   09011  New London        2           19,739               16,173   \n",
       "81   09013     Tolland        1           10,559                8,739   \n",
       "82   09015     Windham        2           12,874               10,961   \n",
       "\n",
       "    total_all_people_max under18 under18_min under18_max     type        state  \n",
       "139                 33.6    40.8        30.3        51.3  percent  Mississippi  \n",
       "140                 21.0    23.7        16.5        30.9  percent  Mississippi  \n",
       "141                 25.4    29.1        20.3        37.9  percent  Mississippi  \n",
       "142                 28.9    35.0        25.9        44.1  percent  Mississippi  \n",
       "143                 26.0    31.1        20.9        41.3  percent  Mississippi  \n",
       "..                   ...     ...         ...         ...      ...          ...  \n",
       "78                12,726   1,996       1,466       2,526  numbers  Connecticut  \n",
       "79               107,413  31,191      27,785      34,597  numbers  Connecticut  \n",
       "80                23,305   5,774       4,340       7,208  numbers  Connecticut  \n",
       "81                12,379   1,614       1,130       2,098  numbers  Connecticut  \n",
       "82                14,787   3,110       2,236       3,984  numbers  Connecticut  \n",
       "\n",
       "[6284 rows x 11 columns]"
      ]
     },
     "execution_count": 28,
     "metadata": {},
     "output_type": "execute_result"
    }
   ],
   "source": [
    "# Clean up master_df \n",
    "master_df.drop(columns = ['Textbox105', 'Textbox106'], inplace = True)\n",
    "master_df"
   ]
  },
  {
   "cell_type": "markdown",
   "metadata": {},
   "source": [
    "# Sanity Check\n",
    "<hr>"
   ]
  },
  {
   "cell_type": "code",
   "execution_count": 29,
   "metadata": {},
   "outputs": [],
   "source": [
    "for each_state in master_df['state'].unique():\n",
    "    stats_master_list.remove(each_state)"
   ]
  },
  {
   "cell_type": "code",
   "execution_count": 30,
   "metadata": {},
   "outputs": [
    {
     "data": {
      "text/plain": [
       "['Puerto Rico']"
      ]
     },
     "execution_count": 30,
     "metadata": {},
     "output_type": "execute_result"
    }
   ],
   "source": [
    "# items missing from dataset\n",
    "stats_master_list"
   ]
  },
  {
   "cell_type": "code",
   "execution_count": 23,
   "metadata": {},
   "outputs": [
    {
     "data": {
      "text/plain": [
       "51"
      ]
     },
     "execution_count": 23,
     "metadata": {},
     "output_type": "execute_result"
    }
   ],
   "source": [
    "# number of states inculuded in data set\n",
    "master_df['state'].nunique()"
   ]
  },
  {
   "cell_type": "markdown",
   "metadata": {},
   "source": [
    "# Write to CSV\n",
    "<hr>"
   ]
  },
  {
   "cell_type": "code",
   "execution_count": 32,
   "metadata": {},
   "outputs": [],
   "source": [
    "master_df.to_csv('../data/USDA/USDA_poverty_2019.csv', index=False)"
   ]
  },
  {
   "cell_type": "markdown",
   "metadata": {},
   "source": [
    "<br>"
   ]
  },
  {
   "cell_type": "markdown",
   "metadata": {},
   "source": [
    "# EDA\n",
    "<hr>"
   ]
  },
  {
   "cell_type": "code",
   "execution_count": 31,
   "metadata": {},
   "outputs": [
    {
     "data": {
      "text/plain": [
       "(6284, 11)"
      ]
     },
     "execution_count": 31,
     "metadata": {},
     "output_type": "execute_result"
    }
   ],
   "source": [
    "master_df.shape"
   ]
  },
  {
   "cell_type": "code",
   "execution_count": 30,
   "metadata": {},
   "outputs": [
    {
     "data": {
      "text/html": [
       "<div>\n",
       "<style scoped>\n",
       "    .dataframe tbody tr th:only-of-type {\n",
       "        vertical-align: middle;\n",
       "    }\n",
       "\n",
       "    .dataframe tbody tr th {\n",
       "        vertical-align: top;\n",
       "    }\n",
       "\n",
       "    .dataframe thead th {\n",
       "        text-align: right;\n",
       "    }\n",
       "</style>\n",
       "<table border=\"1\" class=\"dataframe\">\n",
       "  <thead>\n",
       "    <tr style=\"text-align: right;\">\n",
       "      <th></th>\n",
       "      <th>fips</th>\n",
       "      <th>county</th>\n",
       "      <th>ruc_code</th>\n",
       "      <th>total_all_people</th>\n",
       "      <th>total_all_people_min</th>\n",
       "      <th>total_all_people_max</th>\n",
       "      <th>under18</th>\n",
       "      <th>under18_min</th>\n",
       "      <th>under18_max</th>\n",
       "      <th>type</th>\n",
       "      <th>state</th>\n",
       "    </tr>\n",
       "  </thead>\n",
       "  <tbody>\n",
       "    <tr>\n",
       "      <th>139</th>\n",
       "      <td>28001</td>\n",
       "      <td>Adams</td>\n",
       "      <td>5</td>\n",
       "      <td>27.9</td>\n",
       "      <td>22.2</td>\n",
       "      <td>33.6</td>\n",
       "      <td>40.8</td>\n",
       "      <td>30.3</td>\n",
       "      <td>51.3</td>\n",
       "      <td>percent</td>\n",
       "      <td>Mississippi</td>\n",
       "    </tr>\n",
       "    <tr>\n",
       "      <th>140</th>\n",
       "      <td>28003</td>\n",
       "      <td>Alcorn</td>\n",
       "      <td>7</td>\n",
       "      <td>17.3</td>\n",
       "      <td>13.6</td>\n",
       "      <td>21.0</td>\n",
       "      <td>23.7</td>\n",
       "      <td>16.5</td>\n",
       "      <td>30.9</td>\n",
       "      <td>percent</td>\n",
       "      <td>Mississippi</td>\n",
       "    </tr>\n",
       "    <tr>\n",
       "      <th>141</th>\n",
       "      <td>28005</td>\n",
       "      <td>Amite</td>\n",
       "      <td>8</td>\n",
       "      <td>20.9</td>\n",
       "      <td>16.4</td>\n",
       "      <td>25.4</td>\n",
       "      <td>29.1</td>\n",
       "      <td>20.3</td>\n",
       "      <td>37.9</td>\n",
       "      <td>percent</td>\n",
       "      <td>Mississippi</td>\n",
       "    </tr>\n",
       "    <tr>\n",
       "      <th>142</th>\n",
       "      <td>28007</td>\n",
       "      <td>Attala</td>\n",
       "      <td>6</td>\n",
       "      <td>24.1</td>\n",
       "      <td>19.3</td>\n",
       "      <td>28.9</td>\n",
       "      <td>35.0</td>\n",
       "      <td>25.9</td>\n",
       "      <td>44.1</td>\n",
       "      <td>percent</td>\n",
       "      <td>Mississippi</td>\n",
       "    </tr>\n",
       "    <tr>\n",
       "      <th>143</th>\n",
       "      <td>28009</td>\n",
       "      <td>Benton</td>\n",
       "      <td>1</td>\n",
       "      <td>20.7</td>\n",
       "      <td>15.4</td>\n",
       "      <td>26.0</td>\n",
       "      <td>31.1</td>\n",
       "      <td>20.9</td>\n",
       "      <td>41.3</td>\n",
       "      <td>percent</td>\n",
       "      <td>Mississippi</td>\n",
       "    </tr>\n",
       "  </tbody>\n",
       "</table>\n",
       "</div>"
      ],
      "text/plain": [
       "      fips  county ruc_code total_all_people total_all_people_min  \\\n",
       "139  28001   Adams        5             27.9                 22.2   \n",
       "140  28003  Alcorn        7             17.3                 13.6   \n",
       "141  28005   Amite        8             20.9                 16.4   \n",
       "142  28007  Attala        6             24.1                 19.3   \n",
       "143  28009  Benton        1             20.7                 15.4   \n",
       "\n",
       "    total_all_people_max under18 under18_min under18_max     type        state  \n",
       "139                 33.6    40.8        30.3        51.3  percent  Mississippi  \n",
       "140                 21.0    23.7        16.5        30.9  percent  Mississippi  \n",
       "141                 25.4    29.1        20.3        37.9  percent  Mississippi  \n",
       "142                 28.9    35.0        25.9        44.1  percent  Mississippi  \n",
       "143                 26.0    31.1        20.9        41.3  percent  Mississippi  "
      ]
     },
     "execution_count": 30,
     "metadata": {},
     "output_type": "execute_result"
    }
   ],
   "source": [
    "master_df.head()"
   ]
  },
  {
   "cell_type": "code",
   "execution_count": null,
   "metadata": {},
   "outputs": [],
   "source": []
  },
  {
   "cell_type": "code",
   "execution_count": null,
   "metadata": {},
   "outputs": [],
   "source": []
  }
 ],
 "metadata": {
  "kernelspec": {
   "display_name": "Python 3",
   "language": "python",
   "name": "python3"
  },
  "language_info": {
   "codemirror_mode": {
    "name": "ipython",
    "version": 3
   },
   "file_extension": ".py",
   "mimetype": "text/x-python",
   "name": "python",
   "nbconvert_exporter": "python",
   "pygments_lexer": "ipython3",
   "version": "3.8.2"
  }
 },
 "nbformat": 4,
 "nbformat_minor": 4
}
