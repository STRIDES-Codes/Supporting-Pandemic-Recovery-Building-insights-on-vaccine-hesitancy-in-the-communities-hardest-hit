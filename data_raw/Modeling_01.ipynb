{
 "cells": [
  {
   "cell_type": "markdown",
   "metadata": {},
   "source": [
    "# Modeling \n",
    "<hr>"
   ]
  },
  {
   "cell_type": "code",
   "execution_count": 78,
   "metadata": {},
   "outputs": [],
   "source": [
    "import pandas as pd\n",
    "import numpy as np"
   ]
  },
  {
   "cell_type": "markdown",
   "metadata": {},
   "source": [
    "# Data Input \n",
    "<hr>"
   ]
  },
  {
   "cell_type": "code",
   "execution_count": 79,
   "metadata": {},
   "outputs": [],
   "source": [
    "path = '../data/Clean_data/'"
   ]
  },
  {
   "cell_type": "code",
   "execution_count": 80,
   "metadata": {},
   "outputs": [],
   "source": [
    "file = 'aggregated_county_data-10pm-6_23_21.csv'"
   ]
  },
  {
   "cell_type": "code",
   "execution_count": 81,
   "metadata": {},
   "outputs": [],
   "source": [
    "df = pd.read_csv(path + file, )"
   ]
  },
  {
   "cell_type": "code",
   "execution_count": 82,
   "metadata": {},
   "outputs": [],
   "source": [
    "df.drop(df.columns[[0,1]], axis = 1, inplace = True)"
   ]
  },
  {
   "cell_type": "code",
   "execution_count": 83,
   "metadata": {},
   "outputs": [
    {
     "data": {
      "text/plain": [
       "(3092, 125)"
      ]
     },
     "execution_count": 83,
     "metadata": {},
     "output_type": "execute_result"
    }
   ],
   "source": [
    "df.shape"
   ]
  },
  {
   "cell_type": "code",
   "execution_count": null,
   "metadata": {},
   "outputs": [],
   "source": []
  },
  {
   "cell_type": "markdown",
   "metadata": {},
   "source": [
    "# Rows \n",
    "<hr>"
   ]
  },
  {
   "cell_type": "code",
   "execution_count": 84,
   "metadata": {},
   "outputs": [
    {
     "data": {
      "text/html": [
       "<div>\n",
       "<style scoped>\n",
       "    .dataframe tbody tr th:only-of-type {\n",
       "        vertical-align: middle;\n",
       "    }\n",
       "\n",
       "    .dataframe tbody tr th {\n",
       "        vertical-align: top;\n",
       "    }\n",
       "\n",
       "    .dataframe thead th {\n",
       "        text-align: right;\n",
       "    }\n",
       "</style>\n",
       "<table border=\"1\" class=\"dataframe\">\n",
       "  <thead>\n",
       "    <tr style=\"text-align: right;\">\n",
       "      <th></th>\n",
       "      <th>zero_risk_factors_pct</th>\n",
       "      <th>1or2_risk_factors_pct</th>\n",
       "      <th>three_plus_risk_factors_pct</th>\n",
       "      <th>Estimated hesitant</th>\n",
       "      <th>Estimated hesitant or unsure</th>\n",
       "      <th>Estimated strongly hesitant</th>\n",
       "      <th>Social Vulnerability Index (SVI)</th>\n",
       "      <th>CVAC level of concern for vaccination rollout</th>\n",
       "      <th>poverty_pct_total_all_people</th>\n",
       "      <th>poverty_pct_under18</th>\n",
       "      <th>per_biden</th>\n",
       "    </tr>\n",
       "  </thead>\n",
       "  <tbody>\n",
       "    <tr>\n",
       "      <th>1</th>\n",
       "      <td>29.84</td>\n",
       "      <td>45.44</td>\n",
       "      <td>24.72</td>\n",
       "      <td>0.1544</td>\n",
       "      <td>0.1988</td>\n",
       "      <td>0.1169</td>\n",
       "      <td>0.22</td>\n",
       "      <td>0.23</td>\n",
       "      <td>10.1</td>\n",
       "      <td>13.5</td>\n",
       "      <td>22.409030</td>\n",
       "    </tr>\n",
       "    <tr>\n",
       "      <th>2</th>\n",
       "      <td>18.70</td>\n",
       "      <td>46.19</td>\n",
       "      <td>35.11</td>\n",
       "      <td>0.1676</td>\n",
       "      <td>0.2337</td>\n",
       "      <td>0.1274</td>\n",
       "      <td>1.00</td>\n",
       "      <td>0.89</td>\n",
       "      <td>27.1</td>\n",
       "      <td>41.0</td>\n",
       "      <td>45.788173</td>\n",
       "    </tr>\n",
       "  </tbody>\n",
       "</table>\n",
       "</div>"
      ],
      "text/plain": [
       "   zero_risk_factors_pct  1or2_risk_factors_pct  three_plus_risk_factors_pct  \\\n",
       "1                  29.84                  45.44                        24.72   \n",
       "2                  18.70                  46.19                        35.11   \n",
       "\n",
       "   Estimated hesitant  Estimated hesitant or unsure  \\\n",
       "1              0.1544                        0.1988   \n",
       "2              0.1676                        0.2337   \n",
       "\n",
       "   Estimated strongly hesitant  Social Vulnerability Index (SVI)  \\\n",
       "1                       0.1169                              0.22   \n",
       "2                       0.1274                              1.00   \n",
       "\n",
       "   CVAC level of concern for vaccination rollout  \\\n",
       "1                                           0.23   \n",
       "2                                           0.89   \n",
       "\n",
       "   poverty_pct_total_all_people  poverty_pct_under18  per_biden  \n",
       "1                          10.1                 13.5  22.409030  \n",
       "2                          27.1                 41.0  45.788173  "
      ]
     },
     "execution_count": 84,
     "metadata": {},
     "output_type": "execute_result"
    }
   ],
   "source": [
    "df.iloc[1:3,0:11]"
   ]
  },
  {
   "cell_type": "code",
   "execution_count": 101,
   "metadata": {},
   "outputs": [
    {
     "data": {
      "text/html": [
       "<div>\n",
       "<style scoped>\n",
       "    .dataframe tbody tr th:only-of-type {\n",
       "        vertical-align: middle;\n",
       "    }\n",
       "\n",
       "    .dataframe tbody tr th {\n",
       "        vertical-align: top;\n",
       "    }\n",
       "\n",
       "    .dataframe thead th {\n",
       "        text-align: right;\n",
       "    }\n",
       "</style>\n",
       "<table border=\"1\" class=\"dataframe\">\n",
       "  <thead>\n",
       "    <tr style=\"text-align: right;\">\n",
       "      <th></th>\n",
       "      <th>per_trump</th>\n",
       "      <th>pct_female</th>\n",
       "      <th>pct_male</th>\n",
       "      <th>WA_MALE_PCT</th>\n",
       "      <th>WA_FEMALE_PCT</th>\n",
       "      <th>WA_TOTAL_PCT</th>\n",
       "      <th>BA_MALE_PCT</th>\n",
       "      <th>BA_FEMALE_PCT</th>\n",
       "      <th>BA_TOTAL_PCT</th>\n",
       "      <th>IA_MALE_PCT</th>\n",
       "      <th>IA_FEMALE_PCT</th>\n",
       "      <th>IA_TOTAL_PCT</th>\n",
       "    </tr>\n",
       "  </thead>\n",
       "  <tbody>\n",
       "    <tr>\n",
       "      <th>1</th>\n",
       "      <td>76.171373</td>\n",
       "      <td>0.514316</td>\n",
       "      <td>0.485684</td>\n",
       "      <td>0.875429</td>\n",
       "      <td>0.871111</td>\n",
       "      <td>0.873208</td>\n",
       "      <td>0.089897</td>\n",
       "      <td>0.091242</td>\n",
       "      <td>0.090589</td>\n",
       "      <td>0.008342</td>\n",
       "      <td>0.007063</td>\n",
       "      <td>0.007684</td>\n",
       "    </tr>\n",
       "    <tr>\n",
       "      <th>2</th>\n",
       "      <td>53.451226</td>\n",
       "      <td>0.474103</td>\n",
       "      <td>0.525897</td>\n",
       "      <td>0.493802</td>\n",
       "      <td>0.496185</td>\n",
       "      <td>0.494932</td>\n",
       "      <td>0.480726</td>\n",
       "      <td>0.481596</td>\n",
       "      <td>0.481138</td>\n",
       "      <td>0.007029</td>\n",
       "      <td>0.005198</td>\n",
       "      <td>0.006161</td>\n",
       "    </tr>\n",
       "  </tbody>\n",
       "</table>\n",
       "</div>"
      ],
      "text/plain": [
       "   per_trump  pct_female  pct_male  WA_MALE_PCT  WA_FEMALE_PCT  WA_TOTAL_PCT  \\\n",
       "1  76.171373    0.514316  0.485684     0.875429       0.871111      0.873208   \n",
       "2  53.451226    0.474103  0.525897     0.493802       0.496185      0.494932   \n",
       "\n",
       "   BA_MALE_PCT  BA_FEMALE_PCT  BA_TOTAL_PCT  IA_MALE_PCT  IA_FEMALE_PCT  \\\n",
       "1     0.089897       0.091242      0.090589     0.008342       0.007063   \n",
       "2     0.480726       0.481596      0.481138     0.007029       0.005198   \n",
       "\n",
       "   IA_TOTAL_PCT  \n",
       "1      0.007684  \n",
       "2      0.006161  "
      ]
     },
     "execution_count": 101,
     "metadata": {},
     "output_type": "execute_result"
    }
   ],
   "source": [
    "df.iloc[1:3,11:23]"
   ]
  },
  {
   "cell_type": "code",
   "execution_count": 86,
   "metadata": {},
   "outputs": [
    {
     "data": {
      "text/html": [
       "<div>\n",
       "<style scoped>\n",
       "    .dataframe tbody tr th:only-of-type {\n",
       "        vertical-align: middle;\n",
       "    }\n",
       "\n",
       "    .dataframe tbody tr th {\n",
       "        vertical-align: top;\n",
       "    }\n",
       "\n",
       "    .dataframe thead th {\n",
       "        text-align: right;\n",
       "    }\n",
       "</style>\n",
       "<table border=\"1\" class=\"dataframe\">\n",
       "  <thead>\n",
       "    <tr style=\"text-align: right;\">\n",
       "      <th></th>\n",
       "      <th>AA_MALE_PCT</th>\n",
       "      <th>AA_FEMALE_PCT</th>\n",
       "      <th>AA_TOTAL_PCT</th>\n",
       "      <th>NA_MALE_PCT</th>\n",
       "      <th>NA_FEMALE_PCT</th>\n",
       "      <th>NA_TOTAL_PCT</th>\n",
       "      <th>TOM_MALE_PCT</th>\n",
       "      <th>TOM_FEMALE_PCT</th>\n",
       "      <th>TOM_TOTAL_PCT</th>\n",
       "      <th>WAC_MALE_PCT</th>\n",
       "    </tr>\n",
       "  </thead>\n",
       "  <tbody>\n",
       "    <tr>\n",
       "      <th>1</th>\n",
       "      <td>0.008371</td>\n",
       "      <td>0.012452</td>\n",
       "      <td>0.01047</td>\n",
       "      <td>0.000668</td>\n",
       "      <td>0.000631</td>\n",
       "      <td>0.000649</td>\n",
       "      <td>0.017293</td>\n",
       "      <td>0.017502</td>\n",
       "      <td>0.017401</td>\n",
       "      <td>0.891695</td>\n",
       "    </tr>\n",
       "    <tr>\n",
       "      <th>2</th>\n",
       "      <td>0.004157</td>\n",
       "      <td>0.005366</td>\n",
       "      <td>0.00473</td>\n",
       "      <td>0.002268</td>\n",
       "      <td>0.001174</td>\n",
       "      <td>0.001749</td>\n",
       "      <td>0.012018</td>\n",
       "      <td>0.010480</td>\n",
       "      <td>0.011289</td>\n",
       "      <td>0.502192</td>\n",
       "    </tr>\n",
       "  </tbody>\n",
       "</table>\n",
       "</div>"
      ],
      "text/plain": [
       "   AA_MALE_PCT  AA_FEMALE_PCT  AA_TOTAL_PCT  NA_MALE_PCT  NA_FEMALE_PCT  \\\n",
       "1     0.008371       0.012452       0.01047     0.000668       0.000631   \n",
       "2     0.004157       0.005366       0.00473     0.002268       0.001174   \n",
       "\n",
       "   NA_TOTAL_PCT  TOM_MALE_PCT  TOM_FEMALE_PCT  TOM_TOTAL_PCT  WAC_MALE_PCT  \n",
       "1      0.000649      0.017293        0.017502       0.017401      0.891695  \n",
       "2      0.001749      0.012018        0.010480       0.011289      0.502192  "
      ]
     },
     "execution_count": 86,
     "metadata": {},
     "output_type": "execute_result"
    }
   ],
   "source": [
    "df.iloc[1:3,23:33]"
   ]
  },
  {
   "cell_type": "code",
   "execution_count": 87,
   "metadata": {},
   "outputs": [
    {
     "data": {
      "text/html": [
       "<div>\n",
       "<style scoped>\n",
       "    .dataframe tbody tr th:only-of-type {\n",
       "        vertical-align: middle;\n",
       "    }\n",
       "\n",
       "    .dataframe tbody tr th {\n",
       "        vertical-align: top;\n",
       "    }\n",
       "\n",
       "    .dataframe thead th {\n",
       "        text-align: right;\n",
       "    }\n",
       "</style>\n",
       "<table border=\"1\" class=\"dataframe\">\n",
       "  <thead>\n",
       "    <tr style=\"text-align: right;\">\n",
       "      <th></th>\n",
       "      <th>WAC_FEMALE_PCT</th>\n",
       "      <th>WAC_TOTAL_PCT</th>\n",
       "      <th>BAC_MALE_PCT</th>\n",
       "      <th>BAC_FEMALE_PCT</th>\n",
       "      <th>BAC_TOTAL_PCT</th>\n",
       "      <th>IAC_MALE_PCT</th>\n",
       "      <th>IAC_FEMALE_PCT</th>\n",
       "      <th>IAC_TOTAL_PCT</th>\n",
       "      <th>AAC_MALE_PCT</th>\n",
       "      <th>AAC_FEMALE_PCT</th>\n",
       "      <th>AAC_TOTAL_PCT</th>\n",
       "    </tr>\n",
       "  </thead>\n",
       "  <tbody>\n",
       "    <tr>\n",
       "      <th>1</th>\n",
       "      <td>0.887505</td>\n",
       "      <td>0.889540</td>\n",
       "      <td>0.096970</td>\n",
       "      <td>0.098726</td>\n",
       "      <td>0.097873</td>\n",
       "      <td>0.016528</td>\n",
       "      <td>0.014986</td>\n",
       "      <td>0.015735</td>\n",
       "      <td>0.012217</td>\n",
       "      <td>0.016413</td>\n",
       "      <td>0.014375</td>\n",
       "    </tr>\n",
       "    <tr>\n",
       "      <th>2</th>\n",
       "      <td>0.504821</td>\n",
       "      <td>0.503438</td>\n",
       "      <td>0.488738</td>\n",
       "      <td>0.488891</td>\n",
       "      <td>0.488810</td>\n",
       "      <td>0.012698</td>\n",
       "      <td>0.008971</td>\n",
       "      <td>0.010931</td>\n",
       "      <td>0.006122</td>\n",
       "      <td>0.006707</td>\n",
       "      <td>0.006400</td>\n",
       "    </tr>\n",
       "  </tbody>\n",
       "</table>\n",
       "</div>"
      ],
      "text/plain": [
       "   WAC_FEMALE_PCT  WAC_TOTAL_PCT  BAC_MALE_PCT  BAC_FEMALE_PCT  BAC_TOTAL_PCT  \\\n",
       "1        0.887505       0.889540      0.096970        0.098726       0.097873   \n",
       "2        0.504821       0.503438      0.488738        0.488891       0.488810   \n",
       "\n",
       "   IAC_MALE_PCT  IAC_FEMALE_PCT  IAC_TOTAL_PCT  AAC_MALE_PCT  AAC_FEMALE_PCT  \\\n",
       "1      0.016528        0.014986       0.015735      0.012217        0.016413   \n",
       "2      0.012698        0.008971       0.010931      0.006122        0.006707   \n",
       "\n",
       "   AAC_TOTAL_PCT  \n",
       "1       0.014375  \n",
       "2       0.006400  "
      ]
     },
     "execution_count": 87,
     "metadata": {},
     "output_type": "execute_result"
    }
   ],
   "source": [
    "df.iloc[1:3,33:44]"
   ]
  },
  {
   "cell_type": "code",
   "execution_count": 88,
   "metadata": {},
   "outputs": [
    {
     "data": {
      "text/html": [
       "<div>\n",
       "<style scoped>\n",
       "    .dataframe tbody tr th:only-of-type {\n",
       "        vertical-align: middle;\n",
       "    }\n",
       "\n",
       "    .dataframe tbody tr th {\n",
       "        vertical-align: top;\n",
       "    }\n",
       "\n",
       "    .dataframe thead th {\n",
       "        text-align: right;\n",
       "    }\n",
       "</style>\n",
       "<table border=\"1\" class=\"dataframe\">\n",
       "  <thead>\n",
       "    <tr style=\"text-align: right;\">\n",
       "      <th></th>\n",
       "      <th>NAC_MALE_PCT</th>\n",
       "      <th>NAC_FEMALE_PCT</th>\n",
       "      <th>NAC_TOTAL_PCT</th>\n",
       "      <th>NH_MALE_PCT</th>\n",
       "      <th>NH_FEMALE_PCT</th>\n",
       "      <th>NH_TOTAL_PCT</th>\n",
       "      <th>NHWA_MALE_PCT</th>\n",
       "      <th>NHWA_FEMALE_PCT</th>\n",
       "      <th>NHWA_TOTAL_PCT</th>\n",
       "      <th>NHBA_MALE_PCT</th>\n",
       "    </tr>\n",
       "  </thead>\n",
       "  <tbody>\n",
       "    <tr>\n",
       "      <th>1</th>\n",
       "      <td>0.001531</td>\n",
       "      <td>0.001537</td>\n",
       "      <td>0.001534</td>\n",
       "      <td>0.950290</td>\n",
       "      <td>0.958373</td>\n",
       "      <td>0.954447</td>\n",
       "      <td>0.830805</td>\n",
       "      <td>0.833591</td>\n",
       "      <td>0.832238</td>\n",
       "      <td>0.088211</td>\n",
       "    </tr>\n",
       "    <tr>\n",
       "      <th>2</th>\n",
       "      <td>0.002948</td>\n",
       "      <td>0.001593</td>\n",
       "      <td>0.002306</td>\n",
       "      <td>0.952986</td>\n",
       "      <td>0.959168</td>\n",
       "      <td>0.955917</td>\n",
       "      <td>0.456311</td>\n",
       "      <td>0.462396</td>\n",
       "      <td>0.459196</td>\n",
       "      <td>0.477400</td>\n",
       "    </tr>\n",
       "  </tbody>\n",
       "</table>\n",
       "</div>"
      ],
      "text/plain": [
       "   NAC_MALE_PCT  NAC_FEMALE_PCT  NAC_TOTAL_PCT  NH_MALE_PCT  NH_FEMALE_PCT  \\\n",
       "1      0.001531        0.001537       0.001534     0.950290       0.958373   \n",
       "2      0.002948        0.001593       0.002306     0.952986       0.959168   \n",
       "\n",
       "   NH_TOTAL_PCT  NHWA_MALE_PCT  NHWA_FEMALE_PCT  NHWA_TOTAL_PCT  NHBA_MALE_PCT  \n",
       "1      0.954447       0.830805         0.833591        0.832238       0.088211  \n",
       "2      0.955917       0.456311         0.462396        0.459196       0.477400  "
      ]
     },
     "execution_count": 88,
     "metadata": {},
     "output_type": "execute_result"
    }
   ],
   "source": [
    "df.iloc[1:3,44:54]"
   ]
  },
  {
   "cell_type": "code",
   "execution_count": 89,
   "metadata": {},
   "outputs": [
    {
     "data": {
      "text/html": [
       "<div>\n",
       "<style scoped>\n",
       "    .dataframe tbody tr th:only-of-type {\n",
       "        vertical-align: middle;\n",
       "    }\n",
       "\n",
       "    .dataframe tbody tr th {\n",
       "        vertical-align: top;\n",
       "    }\n",
       "\n",
       "    .dataframe thead th {\n",
       "        text-align: right;\n",
       "    }\n",
       "</style>\n",
       "<table border=\"1\" class=\"dataframe\">\n",
       "  <thead>\n",
       "    <tr style=\"text-align: right;\">\n",
       "      <th></th>\n",
       "      <th>NHBA_FEMALE_PCT</th>\n",
       "      <th>NHBA_TOTAL_PCT</th>\n",
       "      <th>NHIA_MALE_PCT</th>\n",
       "      <th>NHIA_FEMALE_PCT</th>\n",
       "      <th>NHIA_TOTAL_PCT</th>\n",
       "      <th>NHAA_MALE_PCT</th>\n",
       "      <th>NHAA_FEMALE_PCT</th>\n",
       "      <th>NHAA_TOTAL_PCT</th>\n",
       "      <th>NHNA_MALE_PCT</th>\n",
       "      <th>NHNA_FEMALE_PCT</th>\n",
       "    </tr>\n",
       "  </thead>\n",
       "  <tbody>\n",
       "    <tr>\n",
       "      <th>1</th>\n",
       "      <td>0.089503</td>\n",
       "      <td>0.088876</td>\n",
       "      <td>0.007121</td>\n",
       "      <td>0.006441</td>\n",
       "      <td>0.006771</td>\n",
       "      <td>0.008235</td>\n",
       "      <td>0.012369</td>\n",
       "      <td>0.010361</td>\n",
       "      <td>0.000436</td>\n",
       "      <td>0.000540</td>\n",
       "    </tr>\n",
       "    <tr>\n",
       "      <th>2</th>\n",
       "      <td>0.477740</td>\n",
       "      <td>0.477561</td>\n",
       "      <td>0.003023</td>\n",
       "      <td>0.003018</td>\n",
       "      <td>0.003021</td>\n",
       "      <td>0.004157</td>\n",
       "      <td>0.005366</td>\n",
       "      <td>0.004730</td>\n",
       "      <td>0.001361</td>\n",
       "      <td>0.000587</td>\n",
       "    </tr>\n",
       "  </tbody>\n",
       "</table>\n",
       "</div>"
      ],
      "text/plain": [
       "   NHBA_FEMALE_PCT  NHBA_TOTAL_PCT  NHIA_MALE_PCT  NHIA_FEMALE_PCT  \\\n",
       "1         0.089503        0.088876       0.007121         0.006441   \n",
       "2         0.477740        0.477561       0.003023         0.003018   \n",
       "\n",
       "   NHIA_TOTAL_PCT  NHAA_MALE_PCT  NHAA_FEMALE_PCT  NHAA_TOTAL_PCT  \\\n",
       "1        0.006771       0.008235         0.012369        0.010361   \n",
       "2        0.003021       0.004157         0.005366        0.004730   \n",
       "\n",
       "   NHNA_MALE_PCT  NHNA_FEMALE_PCT  \n",
       "1       0.000436         0.000540  \n",
       "2       0.001361         0.000587  "
      ]
     },
     "execution_count": 89,
     "metadata": {},
     "output_type": "execute_result"
    }
   ],
   "source": [
    "df.iloc[1:3,54:64]"
   ]
  },
  {
   "cell_type": "code",
   "execution_count": 90,
   "metadata": {},
   "outputs": [
    {
     "data": {
      "text/html": [
       "<div>\n",
       "<style scoped>\n",
       "    .dataframe tbody tr th:only-of-type {\n",
       "        vertical-align: middle;\n",
       "    }\n",
       "\n",
       "    .dataframe tbody tr th {\n",
       "        vertical-align: top;\n",
       "    }\n",
       "\n",
       "    .dataframe thead th {\n",
       "        text-align: right;\n",
       "    }\n",
       "</style>\n",
       "<table border=\"1\" class=\"dataframe\">\n",
       "  <thead>\n",
       "    <tr style=\"text-align: right;\">\n",
       "      <th></th>\n",
       "      <th>NHNA_TOTAL_PCT</th>\n",
       "      <th>NHTOM_MALE_PCT</th>\n",
       "      <th>NHTOM_FEMALE_PCT</th>\n",
       "      <th>NHTOM_TOTAL_PCT</th>\n",
       "      <th>NHWAC_MALE_PCT</th>\n",
       "      <th>NHWAC_FEMALE_PCT</th>\n",
       "      <th>NHWAC_TOTAL_PCT</th>\n",
       "      <th>NHBAC_MALE_PCT</th>\n",
       "      <th>NHBAC_FEMALE_PCT</th>\n",
       "    </tr>\n",
       "  </thead>\n",
       "  <tbody>\n",
       "    <tr>\n",
       "      <th>1</th>\n",
       "      <td>0.000489</td>\n",
       "      <td>0.015482</td>\n",
       "      <td>0.015928</td>\n",
       "      <td>0.015711</td>\n",
       "      <td>0.845511</td>\n",
       "      <td>0.848604</td>\n",
       "      <td>0.847102</td>\n",
       "      <td>0.094460</td>\n",
       "      <td>0.096255</td>\n",
       "    </tr>\n",
       "    <tr>\n",
       "      <th>2</th>\n",
       "      <td>0.000994</td>\n",
       "      <td>0.010733</td>\n",
       "      <td>0.010061</td>\n",
       "      <td>0.010415</td>\n",
       "      <td>0.463870</td>\n",
       "      <td>0.470697</td>\n",
       "      <td>0.467107</td>\n",
       "      <td>0.484732</td>\n",
       "      <td>0.484866</td>\n",
       "    </tr>\n",
       "  </tbody>\n",
       "</table>\n",
       "</div>"
      ],
      "text/plain": [
       "   NHNA_TOTAL_PCT  NHTOM_MALE_PCT  NHTOM_FEMALE_PCT  NHTOM_TOTAL_PCT  \\\n",
       "1        0.000489        0.015482          0.015928         0.015711   \n",
       "2        0.000994        0.010733          0.010061         0.010415   \n",
       "\n",
       "   NHWAC_MALE_PCT  NHWAC_FEMALE_PCT  NHWAC_TOTAL_PCT  NHBAC_MALE_PCT  \\\n",
       "1        0.845511          0.848604         0.847102        0.094460   \n",
       "2        0.463870          0.470697         0.467107        0.484732   \n",
       "\n",
       "   NHBAC_FEMALE_PCT  \n",
       "1          0.096255  \n",
       "2          0.484866  "
      ]
     },
     "execution_count": 90,
     "metadata": {},
     "output_type": "execute_result"
    }
   ],
   "source": [
    "df.iloc[1:3,64:73]"
   ]
  },
  {
   "cell_type": "code",
   "execution_count": 91,
   "metadata": {},
   "outputs": [
    {
     "data": {
      "text/html": [
       "<div>\n",
       "<style scoped>\n",
       "    .dataframe tbody tr th:only-of-type {\n",
       "        vertical-align: middle;\n",
       "    }\n",
       "\n",
       "    .dataframe tbody tr th {\n",
       "        vertical-align: top;\n",
       "    }\n",
       "\n",
       "    .dataframe thead th {\n",
       "        text-align: right;\n",
       "    }\n",
       "</style>\n",
       "<table border=\"1\" class=\"dataframe\">\n",
       "  <thead>\n",
       "    <tr style=\"text-align: right;\">\n",
       "      <th></th>\n",
       "      <th>NHBAC_TOTAL_PCT</th>\n",
       "      <th>NHIAC_MALE_PCT</th>\n",
       "      <th>NHIAC_FEMALE_PCT</th>\n",
       "      <th>NHIAC_TOTAL_PCT</th>\n",
       "      <th>NHAAC_MALE_PCT</th>\n",
       "      <th>NHAAC_FEMALE_PCT</th>\n",
       "      <th>NHAAC_TOTAL_PCT</th>\n",
       "      <th>NHNAC_MALE_PCT</th>\n",
       "      <th>NHNAC_FEMALE_PCT</th>\n",
       "      <th>NHNAC_TOTAL_PCT</th>\n",
       "    </tr>\n",
       "  </thead>\n",
       "  <tbody>\n",
       "    <tr>\n",
       "      <th>1</th>\n",
       "      <td>0.095384</td>\n",
       "      <td>0.014203</td>\n",
       "      <td>0.013504</td>\n",
       "      <td>0.013843</td>\n",
       "      <td>0.011810</td>\n",
       "      <td>0.015901</td>\n",
       "      <td>0.013914</td>\n",
       "      <td>0.001104</td>\n",
       "      <td>0.001171</td>\n",
       "      <td>0.001139</td>\n",
       "    </tr>\n",
       "    <tr>\n",
       "      <th>2</th>\n",
       "      <td>0.484795</td>\n",
       "      <td>0.007710</td>\n",
       "      <td>0.006624</td>\n",
       "      <td>0.007195</td>\n",
       "      <td>0.005971</td>\n",
       "      <td>0.006624</td>\n",
       "      <td>0.006281</td>\n",
       "      <td>0.001814</td>\n",
       "      <td>0.000922</td>\n",
       "      <td>0.001391</td>\n",
       "    </tr>\n",
       "  </tbody>\n",
       "</table>\n",
       "</div>"
      ],
      "text/plain": [
       "   NHBAC_TOTAL_PCT  NHIAC_MALE_PCT  NHIAC_FEMALE_PCT  NHIAC_TOTAL_PCT  \\\n",
       "1         0.095384        0.014203          0.013504         0.013843   \n",
       "2         0.484795        0.007710          0.006624         0.007195   \n",
       "\n",
       "   NHAAC_MALE_PCT  NHAAC_FEMALE_PCT  NHAAC_TOTAL_PCT  NHNAC_MALE_PCT  \\\n",
       "1        0.011810          0.015901         0.013914        0.001104   \n",
       "2        0.005971          0.006624         0.006281        0.001814   \n",
       "\n",
       "   NHNAC_FEMALE_PCT  NHNAC_TOTAL_PCT  \n",
       "1          0.001171         0.001139  \n",
       "2          0.000922         0.001391  "
      ]
     },
     "execution_count": 91,
     "metadata": {},
     "output_type": "execute_result"
    }
   ],
   "source": [
    "df.iloc[1:3,73:83]"
   ]
  },
  {
   "cell_type": "code",
   "execution_count": 92,
   "metadata": {},
   "outputs": [
    {
     "data": {
      "text/html": [
       "<div>\n",
       "<style scoped>\n",
       "    .dataframe tbody tr th:only-of-type {\n",
       "        vertical-align: middle;\n",
       "    }\n",
       "\n",
       "    .dataframe tbody tr th {\n",
       "        vertical-align: top;\n",
       "    }\n",
       "\n",
       "    .dataframe thead th {\n",
       "        text-align: right;\n",
       "    }\n",
       "</style>\n",
       "<table border=\"1\" class=\"dataframe\">\n",
       "  <thead>\n",
       "    <tr style=\"text-align: right;\">\n",
       "      <th></th>\n",
       "      <th>H_MALE_PCT</th>\n",
       "      <th>H_FEMALE_PCT</th>\n",
       "      <th>H_TOTAL_PCT</th>\n",
       "      <th>HWA_MALE_PCT</th>\n",
       "      <th>HWA_FEMALE_PCT</th>\n",
       "      <th>HWA_TOTAL_PCT</th>\n",
       "      <th>HBA_MALE_PCT</th>\n",
       "      <th>HBA_FEMALE_PCT</th>\n",
       "      <th>HBA_TOTAL_PCT</th>\n",
       "      <th>HIA_MALE_PCT</th>\n",
       "      <th>HIA_FEMALE_PCT</th>\n",
       "      <th>HIA_TOTAL_PCT</th>\n",
       "    </tr>\n",
       "  </thead>\n",
       "  <tbody>\n",
       "    <tr>\n",
       "      <th>1</th>\n",
       "      <td>0.049710</td>\n",
       "      <td>0.041627</td>\n",
       "      <td>0.045553</td>\n",
       "      <td>0.044624</td>\n",
       "      <td>0.037520</td>\n",
       "      <td>0.040970</td>\n",
       "      <td>0.001686</td>\n",
       "      <td>0.001738</td>\n",
       "      <td>0.001713</td>\n",
       "      <td>0.001221</td>\n",
       "      <td>0.000622</td>\n",
       "      <td>0.000913</td>\n",
       "    </tr>\n",
       "    <tr>\n",
       "      <th>2</th>\n",
       "      <td>0.047014</td>\n",
       "      <td>0.040832</td>\n",
       "      <td>0.044083</td>\n",
       "      <td>0.037491</td>\n",
       "      <td>0.033789</td>\n",
       "      <td>0.035736</td>\n",
       "      <td>0.003326</td>\n",
       "      <td>0.003857</td>\n",
       "      <td>0.003578</td>\n",
       "      <td>0.004006</td>\n",
       "      <td>0.002180</td>\n",
       "      <td>0.003140</td>\n",
       "    </tr>\n",
       "  </tbody>\n",
       "</table>\n",
       "</div>"
      ],
      "text/plain": [
       "   H_MALE_PCT  H_FEMALE_PCT  H_TOTAL_PCT  HWA_MALE_PCT  HWA_FEMALE_PCT  \\\n",
       "1    0.049710      0.041627     0.045553      0.044624        0.037520   \n",
       "2    0.047014      0.040832     0.044083      0.037491        0.033789   \n",
       "\n",
       "   HWA_TOTAL_PCT  HBA_MALE_PCT  HBA_FEMALE_PCT  HBA_TOTAL_PCT  HIA_MALE_PCT  \\\n",
       "1       0.040970      0.001686        0.001738       0.001713      0.001221   \n",
       "2       0.035736      0.003326        0.003857       0.003578      0.004006   \n",
       "\n",
       "   HIA_FEMALE_PCT  HIA_TOTAL_PCT  \n",
       "1        0.000622       0.000913  \n",
       "2        0.002180       0.003140  "
      ]
     },
     "execution_count": 92,
     "metadata": {},
     "output_type": "execute_result"
    }
   ],
   "source": [
    "df.iloc[1:3,83:95]"
   ]
  },
  {
   "cell_type": "code",
   "execution_count": 93,
   "metadata": {},
   "outputs": [
    {
     "data": {
      "text/html": [
       "<div>\n",
       "<style scoped>\n",
       "    .dataframe tbody tr th:only-of-type {\n",
       "        vertical-align: middle;\n",
       "    }\n",
       "\n",
       "    .dataframe tbody tr th {\n",
       "        vertical-align: top;\n",
       "    }\n",
       "\n",
       "    .dataframe thead th {\n",
       "        text-align: right;\n",
       "    }\n",
       "</style>\n",
       "<table border=\"1\" class=\"dataframe\">\n",
       "  <thead>\n",
       "    <tr style=\"text-align: right;\">\n",
       "      <th></th>\n",
       "      <th>HAA_MALE_PCT</th>\n",
       "      <th>HAA_FEMALE_PCT</th>\n",
       "      <th>HAA_TOTAL_PCT</th>\n",
       "      <th>HNA_MALE_PCT</th>\n",
       "      <th>HNA_FEMALE_PCT</th>\n",
       "      <th>HNA_TOTAL_PCT</th>\n",
       "      <th>HTOM_MALE_PCT</th>\n",
       "      <th>HTOM_FEMALE_PCT</th>\n",
       "      <th>HTOM_TOTAL_PCT</th>\n",
       "      <th>HWAC_MALE_PCT</th>\n",
       "    </tr>\n",
       "  </thead>\n",
       "  <tbody>\n",
       "    <tr>\n",
       "      <th>1</th>\n",
       "      <td>0.000136</td>\n",
       "      <td>0.000082</td>\n",
       "      <td>0.000108</td>\n",
       "      <td>0.000233</td>\n",
       "      <td>0.000091</td>\n",
       "      <td>0.000160</td>\n",
       "      <td>0.001812</td>\n",
       "      <td>0.001574</td>\n",
       "      <td>0.001689</td>\n",
       "      <td>0.046184</td>\n",
       "    </tr>\n",
       "    <tr>\n",
       "      <th>2</th>\n",
       "      <td>0.000000</td>\n",
       "      <td>0.000000</td>\n",
       "      <td>0.000000</td>\n",
       "      <td>0.000907</td>\n",
       "      <td>0.000587</td>\n",
       "      <td>0.000755</td>\n",
       "      <td>0.001285</td>\n",
       "      <td>0.000419</td>\n",
       "      <td>0.000875</td>\n",
       "      <td>0.038322</td>\n",
       "    </tr>\n",
       "  </tbody>\n",
       "</table>\n",
       "</div>"
      ],
      "text/plain": [
       "   HAA_MALE_PCT  HAA_FEMALE_PCT  HAA_TOTAL_PCT  HNA_MALE_PCT  HNA_FEMALE_PCT  \\\n",
       "1      0.000136        0.000082       0.000108      0.000233        0.000091   \n",
       "2      0.000000        0.000000       0.000000      0.000907        0.000587   \n",
       "\n",
       "   HNA_TOTAL_PCT  HTOM_MALE_PCT  HTOM_FEMALE_PCT  HTOM_TOTAL_PCT  \\\n",
       "1       0.000160       0.001812         0.001574        0.001689   \n",
       "2       0.000755       0.001285         0.000419        0.000875   \n",
       "\n",
       "   HWAC_MALE_PCT  \n",
       "1       0.046184  \n",
       "2       0.038322  "
      ]
     },
     "execution_count": 93,
     "metadata": {},
     "output_type": "execute_result"
    }
   ],
   "source": [
    "df.iloc[1:3,95:105]"
   ]
  },
  {
   "cell_type": "code",
   "execution_count": 94,
   "metadata": {},
   "outputs": [
    {
     "data": {
      "text/html": [
       "<div>\n",
       "<style scoped>\n",
       "    .dataframe tbody tr th:only-of-type {\n",
       "        vertical-align: middle;\n",
       "    }\n",
       "\n",
       "    .dataframe tbody tr th {\n",
       "        vertical-align: top;\n",
       "    }\n",
       "\n",
       "    .dataframe thead th {\n",
       "        text-align: right;\n",
       "    }\n",
       "</style>\n",
       "<table border=\"1\" class=\"dataframe\">\n",
       "  <thead>\n",
       "    <tr style=\"text-align: right;\">\n",
       "      <th></th>\n",
       "      <th>HWAC_FEMALE_PCT</th>\n",
       "      <th>HWAC_TOTAL_PCT</th>\n",
       "      <th>HBAC_MALE_PCT</th>\n",
       "      <th>HBAC_FEMALE_PCT</th>\n",
       "      <th>HBAC_TOTAL_PCT</th>\n",
       "      <th>HIAC_MALE_PCT</th>\n",
       "      <th>HIAC_FEMALE_PCT</th>\n",
       "      <th>HIAC_TOTAL_PCT</th>\n",
       "      <th>HAAC_MALE_PCT</th>\n",
       "      <th>HAAC_FEMALE_PCT</th>\n",
       "    </tr>\n",
       "  </thead>\n",
       "  <tbody>\n",
       "    <tr>\n",
       "      <th>1</th>\n",
       "      <td>0.038901</td>\n",
       "      <td>0.042438</td>\n",
       "      <td>0.002509</td>\n",
       "      <td>0.002470</td>\n",
       "      <td>0.002489</td>\n",
       "      <td>0.002325</td>\n",
       "      <td>0.001482</td>\n",
       "      <td>0.001892</td>\n",
       "      <td>0.000407</td>\n",
       "      <td>0.000512</td>\n",
       "    </tr>\n",
       "    <tr>\n",
       "      <th>2</th>\n",
       "      <td>0.034124</td>\n",
       "      <td>0.036332</td>\n",
       "      <td>0.004006</td>\n",
       "      <td>0.004024</td>\n",
       "      <td>0.004015</td>\n",
       "      <td>0.004989</td>\n",
       "      <td>0.002348</td>\n",
       "      <td>0.003737</td>\n",
       "      <td>0.000151</td>\n",
       "      <td>0.000084</td>\n",
       "    </tr>\n",
       "  </tbody>\n",
       "</table>\n",
       "</div>"
      ],
      "text/plain": [
       "   HWAC_FEMALE_PCT  HWAC_TOTAL_PCT  HBAC_MALE_PCT  HBAC_FEMALE_PCT  \\\n",
       "1         0.038901        0.042438       0.002509         0.002470   \n",
       "2         0.034124        0.036332       0.004006         0.004024   \n",
       "\n",
       "   HBAC_TOTAL_PCT  HIAC_MALE_PCT  HIAC_FEMALE_PCT  HIAC_TOTAL_PCT  \\\n",
       "1        0.002489       0.002325         0.001482        0.001892   \n",
       "2        0.004015       0.004989         0.002348        0.003737   \n",
       "\n",
       "   HAAC_MALE_PCT  HAAC_FEMALE_PCT  \n",
       "1       0.000407         0.000512  \n",
       "2       0.000151         0.000084  "
      ]
     },
     "execution_count": 94,
     "metadata": {},
     "output_type": "execute_result"
    }
   ],
   "source": [
    "df.iloc[1:3,105:115]"
   ]
  },
  {
   "cell_type": "code",
   "execution_count": 95,
   "metadata": {},
   "outputs": [
    {
     "data": {
      "text/html": [
       "<div>\n",
       "<style scoped>\n",
       "    .dataframe tbody tr th:only-of-type {\n",
       "        vertical-align: middle;\n",
       "    }\n",
       "\n",
       "    .dataframe tbody tr th {\n",
       "        vertical-align: top;\n",
       "    }\n",
       "\n",
       "    .dataframe thead th {\n",
       "        text-align: right;\n",
       "    }\n",
       "</style>\n",
       "<table border=\"1\" class=\"dataframe\">\n",
       "  <thead>\n",
       "    <tr style=\"text-align: right;\">\n",
       "      <th></th>\n",
       "      <th>HAAC_TOTAL_PCT</th>\n",
       "      <th>HNAC_MALE_PCT</th>\n",
       "      <th>HNAC_FEMALE_PCT</th>\n",
       "      <th>HNAC_TOTAL_PCT</th>\n",
       "      <th>urbanicity_x</th>\n",
       "      <th>region_x</th>\n",
       "      <th>total_jail_pop_rate</th>\n",
       "      <th>urbanicity_y</th>\n",
       "      <th>region_y</th>\n",
       "      <th>jail_2018_pop_pct</th>\n",
       "    </tr>\n",
       "  </thead>\n",
       "  <tbody>\n",
       "    <tr>\n",
       "      <th>1</th>\n",
       "      <td>0.000461</td>\n",
       "      <td>0.000426</td>\n",
       "      <td>0.000366</td>\n",
       "      <td>0.000395</td>\n",
       "      <td>small/mid</td>\n",
       "      <td>South</td>\n",
       "      <td>477.31</td>\n",
       "      <td>small/mid</td>\n",
       "      <td>South</td>\n",
       "      <td>0.002949</td>\n",
       "    </tr>\n",
       "    <tr>\n",
       "      <th>2</th>\n",
       "      <td>0.000119</td>\n",
       "      <td>0.001134</td>\n",
       "      <td>0.000671</td>\n",
       "      <td>0.000914</td>\n",
       "      <td>rural</td>\n",
       "      <td>South</td>\n",
       "      <td>702.18</td>\n",
       "      <td>rural</td>\n",
       "      <td>South</td>\n",
       "      <td>0.004461</td>\n",
       "    </tr>\n",
       "  </tbody>\n",
       "</table>\n",
       "</div>"
      ],
      "text/plain": [
       "   HAAC_TOTAL_PCT  HNAC_MALE_PCT  HNAC_FEMALE_PCT  HNAC_TOTAL_PCT  \\\n",
       "1        0.000461       0.000426         0.000366        0.000395   \n",
       "2        0.000119       0.001134         0.000671        0.000914   \n",
       "\n",
       "  urbanicity_x region_x  total_jail_pop_rate urbanicity_y region_y  \\\n",
       "1    small/mid    South               477.31    small/mid    South   \n",
       "2        rural    South               702.18        rural    South   \n",
       "\n",
       "   jail_2018_pop_pct  \n",
       "1           0.002949  \n",
       "2           0.004461  "
      ]
     },
     "execution_count": 95,
     "metadata": {},
     "output_type": "execute_result"
    }
   ],
   "source": [
    "df.iloc[1:3,115:125]"
   ]
  },
  {
   "cell_type": "code",
   "execution_count": 96,
   "metadata": {},
   "outputs": [
    {
     "data": {
      "text/html": [
       "<div>\n",
       "<style scoped>\n",
       "    .dataframe tbody tr th:only-of-type {\n",
       "        vertical-align: middle;\n",
       "    }\n",
       "\n",
       "    .dataframe tbody tr th {\n",
       "        vertical-align: top;\n",
       "    }\n",
       "\n",
       "    .dataframe thead th {\n",
       "        text-align: right;\n",
       "    }\n",
       "</style>\n",
       "<table border=\"1\" class=\"dataframe\">\n",
       "  <thead>\n",
       "    <tr style=\"text-align: right;\">\n",
       "      <th></th>\n",
       "    </tr>\n",
       "  </thead>\n",
       "  <tbody>\n",
       "    <tr>\n",
       "      <th>1</th>\n",
       "    </tr>\n",
       "    <tr>\n",
       "      <th>2</th>\n",
       "    </tr>\n",
       "  </tbody>\n",
       "</table>\n",
       "</div>"
      ],
      "text/plain": [
       "Empty DataFrame\n",
       "Columns: []\n",
       "Index: [1, 2]"
      ]
     },
     "execution_count": 96,
     "metadata": {},
     "output_type": "execute_result"
    }
   ],
   "source": [
    "df.iloc[1:3,125:]"
   ]
  },
  {
   "cell_type": "code",
   "execution_count": 97,
   "metadata": {},
   "outputs": [
    {
     "data": {
      "text/plain": [
       "Index(['zero_risk_factors_pct', '1or2_risk_factors_pct',\n",
       "       'three_plus_risk_factors_pct', 'Estimated hesitant',\n",
       "       'Estimated hesitant or unsure', 'Estimated strongly hesitant',\n",
       "       'Social Vulnerability Index (SVI)',\n",
       "       'CVAC level of concern for vaccination rollout',\n",
       "       'poverty_pct_total_all_people', 'poverty_pct_under18',\n",
       "       ...\n",
       "       'HAAC_TOTAL_PCT', 'HNAC_MALE_PCT', 'HNAC_FEMALE_PCT', 'HNAC_TOTAL_PCT',\n",
       "       'urbanicity_x', 'region_x', 'total_jail_pop_rate', 'urbanicity_y',\n",
       "       'region_y', 'jail_2018_pop_pct'],\n",
       "      dtype='object', length=125)"
      ]
     },
     "execution_count": 97,
     "metadata": {},
     "output_type": "execute_result"
    }
   ],
   "source": [
    "columns = df.columns\n",
    "columns"
   ]
  },
  {
   "cell_type": "code",
   "execution_count": 98,
   "metadata": {},
   "outputs": [
    {
     "ename": "AttributeError",
     "evalue": "'DataFrame' object has no attribute 'contain'",
     "output_type": "error",
     "traceback": [
      "\u001b[0;31m---------------------------------------------------------------------------\u001b[0m",
      "\u001b[0;31mAttributeError\u001b[0m                            Traceback (most recent call last)",
      "\u001b[0;32m<ipython-input-98-38e89161c3c8>\u001b[0m in \u001b[0;36m<module>\u001b[0;34m\u001b[0m\n\u001b[0;32m----> 1\u001b[0;31m \u001b[0mdf\u001b[0m\u001b[0;34m.\u001b[0m\u001b[0mcontain\u001b[0m\u001b[0;34m(\u001b[0m\u001b[0;34m'New Mexico'\u001b[0m\u001b[0;34m)\u001b[0m\u001b[0;34m\u001b[0m\u001b[0;34m\u001b[0m\u001b[0m\n\u001b[0m",
      "\u001b[0;32m~/opt/anaconda3/lib/python3.8/site-packages/pandas/core/generic.py\u001b[0m in \u001b[0;36m__getattr__\u001b[0;34m(self, name)\u001b[0m\n\u001b[1;32m   5272\u001b[0m             \u001b[0;32mif\u001b[0m \u001b[0mself\u001b[0m\u001b[0;34m.\u001b[0m\u001b[0m_info_axis\u001b[0m\u001b[0;34m.\u001b[0m\u001b[0m_can_hold_identifiers_and_holds_name\u001b[0m\u001b[0;34m(\u001b[0m\u001b[0mname\u001b[0m\u001b[0;34m)\u001b[0m\u001b[0;34m:\u001b[0m\u001b[0;34m\u001b[0m\u001b[0;34m\u001b[0m\u001b[0m\n\u001b[1;32m   5273\u001b[0m                 \u001b[0;32mreturn\u001b[0m \u001b[0mself\u001b[0m\u001b[0;34m[\u001b[0m\u001b[0mname\u001b[0m\u001b[0;34m]\u001b[0m\u001b[0;34m\u001b[0m\u001b[0;34m\u001b[0m\u001b[0m\n\u001b[0;32m-> 5274\u001b[0;31m             \u001b[0;32mreturn\u001b[0m \u001b[0mobject\u001b[0m\u001b[0;34m.\u001b[0m\u001b[0m__getattribute__\u001b[0m\u001b[0;34m(\u001b[0m\u001b[0mself\u001b[0m\u001b[0;34m,\u001b[0m \u001b[0mname\u001b[0m\u001b[0;34m)\u001b[0m\u001b[0;34m\u001b[0m\u001b[0;34m\u001b[0m\u001b[0m\n\u001b[0m\u001b[1;32m   5275\u001b[0m \u001b[0;34m\u001b[0m\u001b[0m\n\u001b[1;32m   5276\u001b[0m     \u001b[0;32mdef\u001b[0m \u001b[0m__setattr__\u001b[0m\u001b[0;34m(\u001b[0m\u001b[0mself\u001b[0m\u001b[0;34m,\u001b[0m \u001b[0mname\u001b[0m\u001b[0;34m:\u001b[0m \u001b[0mstr\u001b[0m\u001b[0;34m,\u001b[0m \u001b[0mvalue\u001b[0m\u001b[0;34m)\u001b[0m \u001b[0;34m->\u001b[0m \u001b[0;32mNone\u001b[0m\u001b[0;34m:\u001b[0m\u001b[0;34m\u001b[0m\u001b[0;34m\u001b[0m\u001b[0m\n",
      "\u001b[0;31mAttributeError\u001b[0m: 'DataFrame' object has no attribute 'contain'"
     ]
    }
   ],
   "source": [
    "df.contain('New Mexico')"
   ]
  },
  {
   "cell_type": "code",
   "execution_count": 99,
   "metadata": {},
   "outputs": [
    {
     "ename": "SyntaxError",
     "evalue": "unexpected EOF while parsing (<ipython-input-99-6bac7ee05b24>, line 3)",
     "output_type": "error",
     "traceback": [
      "\u001b[0;36m  File \u001b[0;32m\"<ipython-input-99-6bac7ee05b24>\"\u001b[0;36m, line \u001b[0;32m3\u001b[0m\n\u001b[0;31m    df[x].str.contains('New Mexico')\u001b[0m\n\u001b[0m                                    ^\u001b[0m\n\u001b[0;31mSyntaxError\u001b[0m\u001b[0;31m:\u001b[0m unexpected EOF while parsing\n"
     ]
    }
   ],
   "source": [
    "for x in df.columns:\n",
    "    try:\n",
    "        df[x].str.contains('New Mexico')"
   ]
  },
  {
   "cell_type": "code",
   "execution_count": null,
   "metadata": {},
   "outputs": [],
   "source": []
  }
 ],
 "metadata": {
  "kernelspec": {
   "display_name": "Python 3",
   "language": "python",
   "name": "python3"
  },
  "language_info": {
   "codemirror_mode": {
    "name": "ipython",
    "version": 3
   },
   "file_extension": ".py",
   "mimetype": "text/x-python",
   "name": "python",
   "nbconvert_exporter": "python",
   "pygments_lexer": "ipython3",
   "version": "3.8.2"
  }
 },
 "nbformat": 4,
 "nbformat_minor": 4
}
