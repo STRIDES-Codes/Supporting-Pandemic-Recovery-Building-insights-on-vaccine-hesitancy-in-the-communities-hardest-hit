{
 "cells": [
  {
   "cell_type": "markdown",
   "metadata": {},
   "source": [
    "# US Education Report\n",
    "<hr>"
   ]
  },
  {
   "cell_type": "code",
   "execution_count": 74,
   "metadata": {},
   "outputs": [],
   "source": [
    "import pandas as pd \n",
    "import os "
   ]
  },
  {
   "cell_type": "markdown",
   "metadata": {},
   "source": [
    "# Data\n",
    "\n",
    "### US Education Report\n",
    "\n",
    "\n",
    "\n",
    "Economic Research Service  \n",
    "U.S. Department of Agriculture  \n",
    "link: "
   ]
  },
  {
   "cell_type": "markdown",
   "metadata": {},
   "source": [
    "## Constants\n",
    "<hr>"
   ]
  },
  {
   "cell_type": "code",
   "execution_count": 75,
   "metadata": {
    "jupyter": {
     "source_hidden": true
    }
   },
   "outputs": [],
   "source": [
    "states_master_list = ['Vermont',\n",
    " 'Mississippi',\n",
    " 'Maine',\n",
    " 'Montana',\n",
    " 'Washington',\n",
    " 'District of Columbia',\n",
    " 'Texas',\n",
    " 'Alabama',\n",
    " 'Michigan',\n",
    " 'Maryland',\n",
    " 'Rhode Island',\n",
    " 'South Dakota',\n",
    " 'Nebraska',\n",
    " 'Virginia',\n",
    " 'Florida',\n",
    " 'Utah',\n",
    " 'Louisiana',\n",
    " 'Missouri',\n",
    " 'Massachusetts',\n",
    " 'South Carolina',\n",
    " 'Pennsylvania',\n",
    " 'Tennessee',\n",
    " 'Minnesota',\n",
    " 'Idaho',\n",
    " 'Alaska',\n",
    " 'Oklahoma',\n",
    " 'North Dakota',\n",
    " 'Arkansas',\n",
    " 'Georgia',\n",
    " 'New Hampshire',\n",
    " 'Indiana',\n",
    " 'Puerto Rico',\n",
    " 'New Jersey',\n",
    " 'Delaware',\n",
    " 'West Virginia',\n",
    " 'Colorado',\n",
    " 'New York',\n",
    " 'Kansas',\n",
    " 'Arizona',\n",
    " 'Ohio',\n",
    " 'Hawaii',\n",
    " 'Illinois',\n",
    " 'Oregon',\n",
    " 'North Carolina',\n",
    " 'California',\n",
    " 'Kentucky',\n",
    " 'Wyoming',\n",
    " 'Iowa',\n",
    " 'Nevada',\n",
    " 'Connecticut',\n",
    " 'Wisconsin',\n",
    " 'New Mexico']"
   ]
  },
  {
   "cell_type": "code",
   "execution_count": 76,
   "metadata": {},
   "outputs": [],
   "source": [
    "columns = ['FIPS','Name','2013 Rural-urban Continuum Code*','1970','1980', '1990','2000','2015-2019']"
   ]
  },
  {
   "cell_type": "markdown",
   "metadata": {},
   "source": [
    "## Function\n",
    "<hr>"
   ]
  },
  {
   "cell_type": "code",
   "execution_count": 77,
   "metadata": {},
   "outputs": [],
   "source": [
    "\"\"\"\n",
    "Duplicate check 3\n",
    "from \n",
    "https://thispointer.com/python-3-ways-to-check-if-there-are-duplicates-in-a-list/\n",
    "\"\"\"\n",
    "def checkIfDuplicates_3(listOfElems):\n",
    "    ''' Check if given list contains any duplicates '''    \n",
    "    for elem in listOfElems:\n",
    "        if listOfElems.count(elem) > 1:\n",
    "            return True\n",
    "    return False"
   ]
  },
  {
   "cell_type": "code",
   "execution_count": 78,
   "metadata": {},
   "outputs": [],
   "source": [
    "\"\"\"\n",
    "\n",
    " Create master DataFrame\n",
    "\n",
    "\"\"\"    \n",
    "\n",
    "def concat_csv(path, files):\n",
    "    # create master file \n",
    "    master_df = pd.DataFrame(columns = columns)\n",
    "    state_name_list = []\n",
    "\n",
    "    # LOOP \n",
    "    for file in files:\n",
    "        # read excel file\n",
    "        _df = pd.read_excel(path+file, skiprows=2)\n",
    "        # read state_name\n",
    "        state_name = _df.iloc[0,1]\n",
    "\n",
    "\n",
    "    # DROP\n",
    "        #drop row 0\n",
    "        _df.drop(0, inplace = True)\n",
    "\n",
    "        # Drop last 2 rows \n",
    "        _df.drop(_df.tail(1).index, inplace = True)\n",
    "\n",
    "        # work around to drop NaN column \n",
    "        _temp_df = _df.iloc[:,0:7]\n",
    "\n",
    "        # work around to drop NaN column \n",
    "        _temp_df['2015-2019'] = _df['2015-2019']\n",
    "\n",
    "    # add Column for STATE name\n",
    "        # add state column \n",
    "        _temp_df['state'] = state_name\n",
    "        state_name_list.append(state_name)\n",
    "\n",
    "        # Concat \n",
    "        master_df = pd.concat([master_df, _temp_df])\n",
    "        print(state_name+' '+file)\n",
    "    return master_df, state_name_list"
   ]
  },
  {
   "cell_type": "markdown",
   "metadata": {},
   "source": [
    "## Completing College\n",
    "<hr>"
   ]
  },
  {
   "cell_type": "code",
   "execution_count": 79,
   "metadata": {},
   "outputs": [],
   "source": [
    "path_college = \"../data_raw/USDA_education/completing_college/\""
   ]
  },
  {
   "cell_type": "code",
   "execution_count": 80,
   "metadata": {},
   "outputs": [],
   "source": [
    "files = os.listdir(path_college)\n",
    "files.remove(\".DS_Store\")"
   ]
  },
  {
   "cell_type": "code",
   "execution_count": 81,
   "metadata": {},
   "outputs": [],
   "source": [
    "# files"
   ]
  },
  {
   "cell_type": "code",
   "execution_count": 82,
   "metadata": {},
   "outputs": [
    {
     "name": "stdout",
     "output_type": "stream",
     "text": [
      "Arizona EducationReport (2).xlsx\n",
      "Tennessee EducationReport (42).xlsx\n",
      "Minnesota EducationReport (23).xlsx\n",
      "Massachusetts EducationReport (21).xlsx\n",
      "Pennsylvania EducationReport (38).xlsx\n",
      "South Carolina EducationReport (40).xlsx\n",
      "California EducationReport (4).xlsx\n",
      "Utah EducationReport (44).xlsx\n",
      "Missouri EducationReport (25).xlsx\n",
      "Louisiana EducationReport (18).xlsx\n",
      "Nebraska EducationReport (27).xlsx\n",
      "Connecticut EducationReport (6).xlsx\n",
      "Virginia EducationReport (46).xlsx\n",
      "Maryland EducationReport (20).xlsx\n",
      "South Dakota EducationReport (41).xlsx\n",
      "Alaska EducationReport (1).xlsx\n",
      "Rhode Island EducationReport (39).xlsx\n",
      "Texas EducationReport (43).xlsx\n",
      "Arkansas EducationReport (3).xlsx\n",
      "Michigan EducationReport (22).xlsx\n",
      "Montana EducationReport (26).xlsx\n",
      "Washington EducationReport (47).xlsx\n",
      "Delaware EducationReport (7).xlsx\n",
      "Alabama EducationReport.xlsx\n",
      "Vermont EducationReport (45).xlsx\n",
      "Colorado EducationReport (5).xlsx\n",
      "Maine EducationReport (19).xlsx\n",
      "Mississippi EducationReport (24).xlsx\n",
      "Nevada EducationReport (28).xlsx\n",
      "Iowa EducationReport (15).xlsx\n",
      "Wyoming EducationReport (50).xlsx\n",
      "New Mexico EducationReport (31).xlsx\n",
      "Wisconsin EducationReport (49).xlsx\n",
      "Florida EducationReport (9).xlsx\n",
      "North Carolina EducationReport (33).xlsx\n",
      "Kentucky EducationReport (17).xlsx\n",
      "Illinois EducationReport (13).xlsx\n",
      "Oregon EducationReport (37).xlsx\n",
      "Ohio EducationReport (35).xlsx\n",
      "Hawaii EducationReport (11).xlsx\n",
      "New York EducationReport (32).xlsx\n",
      "Kansas EducationReport (16).xlsx\n",
      "Indiana EducationReport (14).xlsx\n",
      "New Hampshire EducationReport (29).xlsx\n",
      "District of Columbia EducationReport (8).xlsx\n",
      "West Virginia EducationReport (48).xlsx\n",
      "New Jersey EducationReport (30).xlsx\n",
      "North Dakota EducationReport (34).xlsx\n",
      "Georgia EducationReport (10).xlsx\n",
      "Idaho EducationReport (12).xlsx\n",
      "Oklahoma EducationReport (36).xlsx\n"
     ]
    }
   ],
   "source": [
    "# run function \n",
    "#\n",
    "completing_college_df, completing_college_state_list = concat_csv(path_college, files)"
   ]
  },
  {
   "cell_type": "code",
   "execution_count": 83,
   "metadata": {},
   "outputs": [],
   "source": [
    "# rest Index \n",
    "completing_college_df.reset_index(inplace = True, drop = True)"
   ]
  },
  {
   "cell_type": "code",
   "execution_count": 84,
   "metadata": {},
   "outputs": [
    {
     "data": {
      "text/plain": [
       "(3226, 9)"
      ]
     },
     "execution_count": 84,
     "metadata": {},
     "output_type": "execute_result"
    }
   ],
   "source": [
    "completing_college_df.shape"
   ]
  },
  {
   "cell_type": "markdown",
   "metadata": {},
   "source": [
    "## Remove rows with all nan's in FIPS column "
   ]
  },
  {
   "cell_type": "code",
   "execution_count": 85,
   "metadata": {},
   "outputs": [
    {
     "name": "stdout",
     "output_type": "stream",
     "text": [
      "80\n"
     ]
    }
   ],
   "source": [
    "# identify Nans in FIPS row \n",
    "nan_rows_a = completing_college_df[completing_college_df['FIPS'].isnull()].index\n",
    "print(len(nan_rows_a))"
   ]
  },
  {
   "cell_type": "code",
   "execution_count": 86,
   "metadata": {},
   "outputs": [],
   "source": [
    "# remove rows with all Nans\n",
    "completing_college_df.drop(nan_rows_a, inplace = True)"
   ]
  },
  {
   "cell_type": "markdown",
   "metadata": {},
   "source": [
    "## Sanity Check\n",
    "<hr>"
   ]
  },
  {
   "cell_type": "code",
   "execution_count": 87,
   "metadata": {},
   "outputs": [
    {
     "data": {
      "text/plain": [
       "False"
      ]
     },
     "execution_count": 87,
     "metadata": {},
     "output_type": "execute_result"
    }
   ],
   "source": [
    "# checks if there are duplicates in state list\n",
    "checkIfDuplicates_3(completing_college_state_list)"
   ]
  },
  {
   "cell_type": "code",
   "execution_count": 88,
   "metadata": {},
   "outputs": [],
   "source": [
    "for state in completing_college_state_list:\n",
    "    states_master_list.remove(state)"
   ]
  },
  {
   "cell_type": "code",
   "execution_count": 89,
   "metadata": {},
   "outputs": [
    {
     "data": {
      "text/plain": [
       "['Puerto Rico']"
      ]
     },
     "execution_count": 89,
     "metadata": {},
     "output_type": "execute_result"
    }
   ],
   "source": [
    "states_master_list"
   ]
  },
  {
   "cell_type": "code",
   "execution_count": 90,
   "metadata": {},
   "outputs": [
    {
     "data": {
      "text/plain": [
       "51"
      ]
     },
     "execution_count": 90,
     "metadata": {},
     "output_type": "execute_result"
    }
   ],
   "source": [
    "len(completing_college_state_list)"
   ]
  },
  {
   "cell_type": "code",
   "execution_count": 91,
   "metadata": {},
   "outputs": [
    {
     "data": {
      "text/html": [
       "<div>\n",
       "<style scoped>\n",
       "    .dataframe tbody tr th:only-of-type {\n",
       "        vertical-align: middle;\n",
       "    }\n",
       "\n",
       "    .dataframe tbody tr th {\n",
       "        vertical-align: top;\n",
       "    }\n",
       "\n",
       "    .dataframe thead th {\n",
       "        text-align: right;\n",
       "    }\n",
       "</style>\n",
       "<table border=\"1\" class=\"dataframe\">\n",
       "  <thead>\n",
       "    <tr style=\"text-align: right;\">\n",
       "      <th></th>\n",
       "      <th>FIPS</th>\n",
       "      <th>Name</th>\n",
       "      <th>2013 Rural-urban Continuum Code*</th>\n",
       "      <th>1970</th>\n",
       "      <th>1980</th>\n",
       "      <th>1990</th>\n",
       "      <th>2000</th>\n",
       "      <th>2015-2019</th>\n",
       "      <th>state</th>\n",
       "    </tr>\n",
       "  </thead>\n",
       "  <tbody>\n",
       "    <tr>\n",
       "      <th>0</th>\n",
       "      <td>04001</td>\n",
       "      <td>Apache, AZ</td>\n",
       "      <td>6.0</td>\n",
       "      <td>0.082360</td>\n",
       "      <td>0.104108</td>\n",
       "      <td>0.084963</td>\n",
       "      <td>0.113483</td>\n",
       "      <td>0.123006</td>\n",
       "      <td>Arizona</td>\n",
       "    </tr>\n",
       "    <tr>\n",
       "      <th>1</th>\n",
       "      <td>04003</td>\n",
       "      <td>Cochise, AZ</td>\n",
       "      <td>3.0</td>\n",
       "      <td>0.107439</td>\n",
       "      <td>0.138265</td>\n",
       "      <td>0.160869</td>\n",
       "      <td>0.188020</td>\n",
       "      <td>0.231096</td>\n",
       "      <td>Arizona</td>\n",
       "    </tr>\n",
       "  </tbody>\n",
       "</table>\n",
       "</div>"
      ],
      "text/plain": [
       "    FIPS                 Name  2013 Rural-urban Continuum Code*      1970  \\\n",
       "0  04001   Apache, AZ                                       6.0  0.082360   \n",
       "1  04003  Cochise, AZ                                       3.0  0.107439   \n",
       "\n",
       "       1980      1990      2000  2015-2019    state  \n",
       "0  0.104108  0.084963  0.113483   0.123006  Arizona  \n",
       "1  0.138265  0.160869  0.188020   0.231096  Arizona  "
      ]
     },
     "execution_count": 91,
     "metadata": {},
     "output_type": "execute_result"
    }
   ],
   "source": [
    "completing_college_df.head(2)"
   ]
  },
  {
   "cell_type": "markdown",
   "metadata": {},
   "source": [
    "<br>"
   ]
  },
  {
   "cell_type": "markdown",
   "metadata": {},
   "source": [
    "## Completing Some College\n",
    "<hr>"
   ]
  },
  {
   "cell_type": "code",
   "execution_count": 92,
   "metadata": {},
   "outputs": [
    {
     "name": "stdout",
     "output_type": "stream",
     "text": [
      "Arizona EducationReport (2).xlsx\n",
      "Tennessee EducationReport (42).xlsx\n",
      "Minnesota EducationReport (23).xlsx\n",
      "Massachusetts EducationReport (21).xlsx\n",
      "Pennsylvania EducationReport (38).xlsx\n",
      "South Carolina EducationReport (40).xlsx\n",
      "California EducationReport (4).xlsx\n",
      "Utah EducationReport (44).xlsx\n",
      "Missouri EducationReport (25).xlsx\n",
      "Louisiana EducationReport (18).xlsx\n",
      "Nebraska EducationReport (27).xlsx\n",
      "Connecticut EducationReport (6).xlsx\n",
      "Washington EducationReport (46).xlsx\n",
      "Maryland EducationReport (20).xlsx\n",
      "South Dakota EducationReport (41).xlsx\n",
      "Alaska EducationReport (1).xlsx\n",
      "Rhode Island EducationReport (39).xlsx\n",
      "Texas EducationReport (43).xlsx\n",
      "Arkansas EducationReport (3).xlsx\n",
      "Michigan EducationReport (22).xlsx\n",
      "Montana EducationReport (26).xlsx\n",
      "West Virginia EducationReport (47).xlsx\n",
      "Delaware EducationReport (7).xlsx\n",
      "Alabama EducationReport.xlsx\n",
      "Vermont EducationReport (45).xlsx\n",
      "Colorado EducationReport (5).xlsx\n",
      "Maine EducationReport (19).xlsx\n",
      "Mississippi EducationReport (24).xlsx\n",
      "Nevada EducationReport (28).xlsx\n",
      "Iowa EducationReport (15).xlsx\n",
      "Virginia EducationReport (50).xlsx\n",
      "New Mexico EducationReport (31).xlsx\n",
      "Wyoming EducationReport (49).xlsx\n",
      "Florida EducationReport (9).xlsx\n",
      "North Carolina EducationReport (33).xlsx\n",
      "Kentucky EducationReport (17).xlsx\n",
      "Illinois EducationReport (13).xlsx\n",
      "Oregon EducationReport (37).xlsx\n",
      "Ohio EducationReport (35).xlsx\n",
      "Hawaii EducationReport (11).xlsx\n",
      "New York EducationReport (32).xlsx\n",
      "Kansas EducationReport (16).xlsx\n",
      "Indiana EducationReport (14).xlsx\n",
      "New Hampshire EducationReport (29).xlsx\n",
      "District of Columbia EducationReport (8).xlsx\n",
      "Wisconsin EducationReport (48).xlsx\n",
      "New Jersey EducationReport (30).xlsx\n",
      "North Dakota EducationReport (34).xlsx\n",
      "Georgia EducationReport (10).xlsx\n",
      "Idaho EducationReport (12).xlsx\n",
      "Oklahoma EducationReport (36).xlsx\n"
     ]
    }
   ],
   "source": [
    "# files managment\n",
    "path_some_college = \"../data_raw//USDA_education/completing_some_college/\"\n",
    "files = os.listdir(path_some_college)\n",
    "files.remove(\".DS_Store\")\n",
    "\n",
    "# run function \n",
    "#\n",
    "some_college_df, some_college_state_list = concat_csv(path_some_college, files)\n",
    "# rest Index \n",
    "some_college_df.reset_index(inplace = True, drop = True)"
   ]
  },
  {
   "cell_type": "code",
   "execution_count": 93,
   "metadata": {},
   "outputs": [
    {
     "data": {
      "text/plain": [
       "(3226, 9)"
      ]
     },
     "execution_count": 93,
     "metadata": {},
     "output_type": "execute_result"
    }
   ],
   "source": [
    "some_college_df.shape"
   ]
  },
  {
   "cell_type": "markdown",
   "metadata": {},
   "source": [
    "## Remove rows with all nan's in FIPS column\n",
    "<hr>"
   ]
  },
  {
   "cell_type": "code",
   "execution_count": 94,
   "metadata": {},
   "outputs": [
    {
     "name": "stdout",
     "output_type": "stream",
     "text": [
      "80\n"
     ]
    }
   ],
   "source": [
    "# identify Nans in FIPS row \n",
    "nan_rows_b = some_college_df[some_college_df['FIPS'].isnull()].index\n",
    "print(len(nan_rows_b))"
   ]
  },
  {
   "cell_type": "code",
   "execution_count": 95,
   "metadata": {},
   "outputs": [],
   "source": [
    "# remove rows with all Nans\n",
    "some_college_df.drop(nan_rows_b, inplace = True)"
   ]
  },
  {
   "cell_type": "markdown",
   "metadata": {},
   "source": [
    "## Sanity Check\n",
    "<hr>"
   ]
  },
  {
   "cell_type": "code",
   "execution_count": 96,
   "metadata": {},
   "outputs": [
    {
     "data": {
      "text/plain": [
       "False"
      ]
     },
     "execution_count": 96,
     "metadata": {},
     "output_type": "execute_result"
    }
   ],
   "source": [
    "# checks if there are duplicates in state list\n",
    "checkIfDuplicates_3(some_college_state_list)"
   ]
  },
  {
   "cell_type": "code",
   "execution_count": 97,
   "metadata": {},
   "outputs": [
    {
     "data": {
      "text/plain": [
       "51"
      ]
     },
     "execution_count": 97,
     "metadata": {},
     "output_type": "execute_result"
    }
   ],
   "source": [
    "len(some_college_state_list)"
   ]
  },
  {
   "cell_type": "code",
   "execution_count": 98,
   "metadata": {},
   "outputs": [],
   "source": [
    "#for state in some_college_state_list:\n",
    "#    states_master_list.remove(state)\n",
    "#states_master_list"
   ]
  },
  {
   "cell_type": "code",
   "execution_count": 99,
   "metadata": {},
   "outputs": [
    {
     "data": {
      "text/plain": [
       "['Puerto Rico']"
      ]
     },
     "execution_count": 99,
     "metadata": {},
     "output_type": "execute_result"
    }
   ],
   "source": [
    "states_master_list"
   ]
  },
  {
   "cell_type": "code",
   "execution_count": 100,
   "metadata": {},
   "outputs": [
    {
     "data": {
      "text/plain": [
       "(3146, 9)"
      ]
     },
     "execution_count": 100,
     "metadata": {},
     "output_type": "execute_result"
    }
   ],
   "source": [
    "some_college_df.shape"
   ]
  },
  {
   "cell_type": "code",
   "execution_count": 101,
   "metadata": {},
   "outputs": [
    {
     "data": {
      "text/html": [
       "<div>\n",
       "<style scoped>\n",
       "    .dataframe tbody tr th:only-of-type {\n",
       "        vertical-align: middle;\n",
       "    }\n",
       "\n",
       "    .dataframe tbody tr th {\n",
       "        vertical-align: top;\n",
       "    }\n",
       "\n",
       "    .dataframe thead th {\n",
       "        text-align: right;\n",
       "    }\n",
       "</style>\n",
       "<table border=\"1\" class=\"dataframe\">\n",
       "  <thead>\n",
       "    <tr style=\"text-align: right;\">\n",
       "      <th></th>\n",
       "      <th>FIPS</th>\n",
       "      <th>Name</th>\n",
       "      <th>2013 Rural-urban Continuum Code*</th>\n",
       "      <th>1970</th>\n",
       "      <th>1980</th>\n",
       "      <th>1990</th>\n",
       "      <th>2000</th>\n",
       "      <th>2015-2019</th>\n",
       "      <th>state</th>\n",
       "    </tr>\n",
       "  </thead>\n",
       "  <tbody>\n",
       "    <tr>\n",
       "      <th>0</th>\n",
       "      <td>04001</td>\n",
       "      <td>Apache, AZ</td>\n",
       "      <td>6.0</td>\n",
       "      <td>0.068847</td>\n",
       "      <td>0.139753</td>\n",
       "      <td>0.206339</td>\n",
       "      <td>0.274263</td>\n",
       "      <td>0.358629</td>\n",
       "      <td>Arizona</td>\n",
       "    </tr>\n",
       "    <tr>\n",
       "      <th>1</th>\n",
       "      <td>04003</td>\n",
       "      <td>Cochise, AZ</td>\n",
       "      <td>3.0</td>\n",
       "      <td>0.118189</td>\n",
       "      <td>0.202221</td>\n",
       "      <td>0.329038</td>\n",
       "      <td>0.360203</td>\n",
       "      <td>0.401705</td>\n",
       "      <td>Arizona</td>\n",
       "    </tr>\n",
       "  </tbody>\n",
       "</table>\n",
       "</div>"
      ],
      "text/plain": [
       "    FIPS                 Name  2013 Rural-urban Continuum Code*      1970  \\\n",
       "0  04001   Apache, AZ                                       6.0  0.068847   \n",
       "1  04003  Cochise, AZ                                       3.0  0.118189   \n",
       "\n",
       "       1980      1990      2000  2015-2019    state  \n",
       "0  0.139753  0.206339  0.274263   0.358629  Arizona  \n",
       "1  0.202221  0.329038  0.360203   0.401705  Arizona  "
      ]
     },
     "execution_count": 101,
     "metadata": {},
     "output_type": "execute_result"
    }
   ],
   "source": [
    "some_college_df.head(2)"
   ]
  },
  {
   "cell_type": "code",
   "execution_count": null,
   "metadata": {},
   "outputs": [],
   "source": []
  },
  {
   "cell_type": "markdown",
   "metadata": {},
   "source": [
    "## Completing High School Only \n",
    "<hr>"
   ]
  },
  {
   "cell_type": "code",
   "execution_count": 102,
   "metadata": {},
   "outputs": [
    {
     "name": "stdout",
     "output_type": "stream",
     "text": [
      "Arizona EducationReport (2).xlsx\n",
      "Tennessee EducationReport (42).xlsx\n",
      "Minnesota EducationReport (23).xlsx\n",
      "Massachusetts EducationReport (21).xlsx\n",
      "Pennsylvania EducationReport (38).xlsx\n",
      "South Carolina EducationReport (40).xlsx\n",
      "California EducationReport (4).xlsx\n",
      "Utah EducationReport (44).xlsx\n",
      "Missouri EducationReport (25).xlsx\n",
      "Louisiana EducationReport (18).xlsx\n",
      "Nebraska EducationReport (27).xlsx\n",
      "Connecticut EducationReport (6).xlsx\n",
      "Virginia EducationReport (46).xlsx\n",
      "Maryland EducationReport (20).xlsx\n",
      "South Dakota EducationReport (41).xlsx\n",
      "Alaska EducationReport (1).xlsx\n",
      "Rhode Island EducationReport (39).xlsx\n",
      "Texas EducationReport (43).xlsx\n",
      "Arkansas EducationReport (3).xlsx\n",
      "Michigan EducationReport (22).xlsx\n",
      "Montana EducationReport (26).xlsx\n",
      "Washington EducationReport (47).xlsx\n",
      "Delaware EducationReport (7).xlsx\n",
      "Alabama EducationReport.xlsx\n",
      "Vermont EducationReport (45).xlsx\n",
      "Colorado EducationReport (5).xlsx\n",
      "Maine EducationReport (19).xlsx\n",
      "Mississippi EducationReport (24).xlsx\n",
      "Nevada EducationReport (28).xlsx\n",
      "Iowa EducationReport (15).xlsx\n",
      "Wyoming EducationReport (50).xlsx\n",
      "New Mexico EducationReport (31).xlsx\n",
      "Wisconsin EducationReport (49).xlsx\n",
      "Florida EducationReport (9).xlsx\n",
      "North Carolina EducationReport (33).xlsx\n",
      "Kentucky EducationReport (17).xlsx\n",
      "Illinois EducationReport (13).xlsx\n",
      "Oregon EducationReport (37).xlsx\n",
      "Ohio EducationReport (35).xlsx\n",
      "Hawaii EducationReport (11).xlsx\n",
      "New York EducationReport (32).xlsx\n",
      "Kansas EducationReport (16).xlsx\n",
      "Indiana EducationReport (14).xlsx\n",
      "New Hampshire EducationReport (29).xlsx\n",
      "District of Columbia EducationReport (8).xlsx\n",
      "West Virginia EducationReport (48).xlsx\n",
      "New Jersey EducationReport (30).xlsx\n",
      "North Dakota EducationReport (34).xlsx\n",
      "Georgia EducationReport (10).xlsx\n",
      "Idaho EducationReport (12).xlsx\n",
      "Oklahoma EducationReport (36).xlsx\n"
     ]
    }
   ],
   "source": [
    "# files managment\n",
    "path_high_school_only = \"../data_raw/USDA_education/completing_high_school_only/\"\n",
    "files = os.listdir(path_high_school_only)\n",
    "#files.remove(\".DS_Store\")\n",
    "\n",
    "# run function \n",
    "#\n",
    "high_school_only_df, high_school_only_state_list = concat_csv(path_high_school_only, files)\n",
    "# rest Index \n",
    "high_school_only_df.reset_index(inplace = True, drop = True)"
   ]
  },
  {
   "cell_type": "code",
   "execution_count": 103,
   "metadata": {},
   "outputs": [
    {
     "data": {
      "text/plain": [
       "(3226, 9)"
      ]
     },
     "execution_count": 103,
     "metadata": {},
     "output_type": "execute_result"
    }
   ],
   "source": [
    "high_school_only_df.shape"
   ]
  },
  {
   "cell_type": "markdown",
   "metadata": {},
   "source": [
    "## Remove rows with all nan's in FIPS column\n",
    "<hr>"
   ]
  },
  {
   "cell_type": "code",
   "execution_count": 104,
   "metadata": {},
   "outputs": [
    {
     "name": "stdout",
     "output_type": "stream",
     "text": [
      "80\n"
     ]
    }
   ],
   "source": [
    "# identify Nans in FIPS row \n",
    "nan_rows_c = high_school_only_df[high_school_only_df['FIPS'].isnull()].index\n",
    "print(len(nan_rows_c))"
   ]
  },
  {
   "cell_type": "code",
   "execution_count": 105,
   "metadata": {},
   "outputs": [],
   "source": [
    "# remove rows with all Nans\n",
    "high_school_only_df.drop(nan_rows_c, inplace = True)"
   ]
  },
  {
   "cell_type": "markdown",
   "metadata": {},
   "source": [
    "## Sanity Check\n",
    "<hr>"
   ]
  },
  {
   "cell_type": "code",
   "execution_count": 106,
   "metadata": {},
   "outputs": [
    {
     "data": {
      "text/plain": [
       "False"
      ]
     },
     "execution_count": 106,
     "metadata": {},
     "output_type": "execute_result"
    }
   ],
   "source": [
    "# checks if there are duplicates in state list\n",
    "checkIfDuplicates_3(high_school_only_state_list)"
   ]
  },
  {
   "cell_type": "code",
   "execution_count": 107,
   "metadata": {},
   "outputs": [
    {
     "data": {
      "text/plain": [
       "51"
      ]
     },
     "execution_count": 107,
     "metadata": {},
     "output_type": "execute_result"
    }
   ],
   "source": [
    "len(high_school_only_state_list)"
   ]
  },
  {
   "cell_type": "code",
   "execution_count": 108,
   "metadata": {},
   "outputs": [],
   "source": [
    "#for state in high_school_only_state_list:\n",
    "\n",
    "#    states_master_list.remove(state)\n",
    "#states_master_list"
   ]
  },
  {
   "cell_type": "code",
   "execution_count": 109,
   "metadata": {},
   "outputs": [
    {
     "data": {
      "text/plain": [
       "(3146, 9)"
      ]
     },
     "execution_count": 109,
     "metadata": {},
     "output_type": "execute_result"
    }
   ],
   "source": [
    "high_school_only_df.shape"
   ]
  },
  {
   "cell_type": "code",
   "execution_count": 110,
   "metadata": {},
   "outputs": [
    {
     "data": {
      "text/html": [
       "<div>\n",
       "<style scoped>\n",
       "    .dataframe tbody tr th:only-of-type {\n",
       "        vertical-align: middle;\n",
       "    }\n",
       "\n",
       "    .dataframe tbody tr th {\n",
       "        vertical-align: top;\n",
       "    }\n",
       "\n",
       "    .dataframe thead th {\n",
       "        text-align: right;\n",
       "    }\n",
       "</style>\n",
       "<table border=\"1\" class=\"dataframe\">\n",
       "  <thead>\n",
       "    <tr style=\"text-align: right;\">\n",
       "      <th></th>\n",
       "      <th>FIPS</th>\n",
       "      <th>Name</th>\n",
       "      <th>2013 Rural-urban Continuum Code*</th>\n",
       "      <th>1970</th>\n",
       "      <th>1980</th>\n",
       "      <th>1990</th>\n",
       "      <th>2000</th>\n",
       "      <th>2015-2019</th>\n",
       "      <th>state</th>\n",
       "    </tr>\n",
       "  </thead>\n",
       "  <tbody>\n",
       "    <tr>\n",
       "      <th>0</th>\n",
       "      <td>04001</td>\n",
       "      <td>Apache, AZ</td>\n",
       "      <td>6.0</td>\n",
       "      <td>0.188709</td>\n",
       "      <td>0.249113</td>\n",
       "      <td>0.255260</td>\n",
       "      <td>0.248723</td>\n",
       "      <td>0.322388</td>\n",
       "      <td>Arizona</td>\n",
       "    </tr>\n",
       "    <tr>\n",
       "      <th>1</th>\n",
       "      <td>04003</td>\n",
       "      <td>Cochise, AZ</td>\n",
       "      <td>3.0</td>\n",
       "      <td>0.332967</td>\n",
       "      <td>0.347534</td>\n",
       "      <td>0.267140</td>\n",
       "      <td>0.246391</td>\n",
       "      <td>0.241034</td>\n",
       "      <td>Arizona</td>\n",
       "    </tr>\n",
       "    <tr>\n",
       "      <th>2</th>\n",
       "      <td>04005</td>\n",
       "      <td>Coconino, AZ</td>\n",
       "      <td>3.0</td>\n",
       "      <td>0.272979</td>\n",
       "      <td>0.303674</td>\n",
       "      <td>0.237648</td>\n",
       "      <td>0.216427</td>\n",
       "      <td>0.220390</td>\n",
       "      <td>Arizona</td>\n",
       "    </tr>\n",
       "    <tr>\n",
       "      <th>3</th>\n",
       "      <td>04007</td>\n",
       "      <td>Gila, AZ</td>\n",
       "      <td>4.0</td>\n",
       "      <td>0.303302</td>\n",
       "      <td>0.383167</td>\n",
       "      <td>0.320344</td>\n",
       "      <td>0.286970</td>\n",
       "      <td>0.278541</td>\n",
       "      <td>Arizona</td>\n",
       "    </tr>\n",
       "    <tr>\n",
       "      <th>4</th>\n",
       "      <td>04009</td>\n",
       "      <td>Graham, AZ</td>\n",
       "      <td>7.0</td>\n",
       "      <td>0.250000</td>\n",
       "      <td>0.324168</td>\n",
       "      <td>0.277476</td>\n",
       "      <td>0.301057</td>\n",
       "      <td>0.287227</td>\n",
       "      <td>Arizona</td>\n",
       "    </tr>\n",
       "  </tbody>\n",
       "</table>\n",
       "</div>"
      ],
      "text/plain": [
       "    FIPS                  Name  2013 Rural-urban Continuum Code*      1970  \\\n",
       "0  04001    Apache, AZ                                       6.0  0.188709   \n",
       "1  04003   Cochise, AZ                                       3.0  0.332967   \n",
       "2  04005  Coconino, AZ                                       3.0  0.272979   \n",
       "3  04007      Gila, AZ                                       4.0  0.303302   \n",
       "4  04009    Graham, AZ                                       7.0  0.250000   \n",
       "\n",
       "       1980      1990      2000  2015-2019    state  \n",
       "0  0.249113  0.255260  0.248723   0.322388  Arizona  \n",
       "1  0.347534  0.267140  0.246391   0.241034  Arizona  \n",
       "2  0.303674  0.237648  0.216427   0.220390  Arizona  \n",
       "3  0.383167  0.320344  0.286970   0.278541  Arizona  \n",
       "4  0.324168  0.277476  0.301057   0.287227  Arizona  "
      ]
     },
     "execution_count": 110,
     "metadata": {},
     "output_type": "execute_result"
    }
   ],
   "source": [
    "high_school_only_df.head()"
   ]
  },
  {
   "cell_type": "code",
   "execution_count": null,
   "metadata": {},
   "outputs": [],
   "source": []
  },
  {
   "cell_type": "markdown",
   "metadata": {},
   "source": [
    "## Not Completing High School\n",
    "<hr>"
   ]
  },
  {
   "cell_type": "code",
   "execution_count": 111,
   "metadata": {},
   "outputs": [
    {
     "name": "stdout",
     "output_type": "stream",
     "text": [
      "Arizona EducationReport (2).xlsx\n",
      "Tennessee EducationReport (42).xlsx\n",
      "Minnesota EducationReport (23).xlsx\n",
      "Massachusetts EducationReport (21).xlsx\n",
      "Pennsylvania EducationReport (38).xlsx\n",
      "South Carolina EducationReport (40).xlsx\n",
      "California EducationReport (4).xlsx\n",
      "Utah EducationReport (44).xlsx\n",
      "Missouri EducationReport (25).xlsx\n",
      "Louisiana EducationReport (18).xlsx\n",
      "Nebraska EducationReport (27).xlsx\n",
      "Connecticut EducationReport (6).xlsx\n",
      "Virginia EducationReport (46).xlsx\n",
      "Maryland EducationReport (20).xlsx\n",
      "South Dakota EducationReport (41).xlsx\n",
      "Alaska EducationReport (1).xlsx\n",
      "Rhode Island EducationReport (39).xlsx\n",
      "Texas EducationReport (43).xlsx\n",
      "Arkansas EducationReport (3).xlsx\n",
      "Michigan EducationReport (22).xlsx\n",
      "Montana EducationReport (26).xlsx\n",
      "Washington EducationReport (47).xlsx\n",
      "Delaware EducationReport (7).xlsx\n",
      "Alabama EducationReport.xlsx\n",
      "Vermont EducationReport (45).xlsx\n",
      "Colorado EducationReport (5).xlsx\n",
      "Maine EducationReport (19).xlsx\n",
      "Mississippi EducationReport (24).xlsx\n",
      "Nevada EducationReport (28).xlsx\n",
      "Iowa EducationReport (15).xlsx\n",
      "Wyoming EducationReport (50).xlsx\n",
      "New Mexico EducationReport (31).xlsx\n",
      "Wisconsin EducationReport (49).xlsx\n",
      "Florida EducationReport (9).xlsx\n",
      "North Carolina EducationReport (33).xlsx\n",
      "Kentucky EducationReport (17).xlsx\n",
      "Illinois EducationReport (13).xlsx\n",
      "Oregon EducationReport (37).xlsx\n",
      "Ohio EducationReport (35).xlsx\n",
      "Hawaii EducationReport (11).xlsx\n",
      "New York EducationReport (32).xlsx\n",
      "Kansas EducationReport (16).xlsx\n",
      "Indiana EducationReport (14).xlsx\n",
      "New Hampshire EducationReport (29).xlsx\n",
      "District of Columbia EducationReport (8).xlsx\n",
      "West Virginia EducationReport (48).xlsx\n",
      "New Jersey EducationReport (30).xlsx\n",
      "North Dakota EducationReport (34).xlsx\n",
      "Georgia EducationReport (10).xlsx\n",
      "Idaho EducationReport (12).xlsx\n",
      "Oklahoma EducationReport (36).xlsx\n"
     ]
    }
   ],
   "source": [
    "# files managment\n",
    "path_not_completing_HS = \"../data_raw/USDA_education/not_completing_high_school/\"\n",
    "files = os.listdir(path_not_completing_HS)\n",
    "#files.remove(\".DS_Store\")\n",
    "\n",
    "# run function \n",
    "#\n",
    "not_completing_HS_df, not_completing_HS_state_list = concat_csv(path_not_completing_HS, files)\n",
    "# rest Index \n",
    "not_completing_HS_df.reset_index(inplace = True, drop = True)"
   ]
  },
  {
   "cell_type": "code",
   "execution_count": 112,
   "metadata": {},
   "outputs": [
    {
     "data": {
      "text/plain": [
       "(3226, 9)"
      ]
     },
     "execution_count": 112,
     "metadata": {},
     "output_type": "execute_result"
    }
   ],
   "source": [
    "not_completing_HS_df.shape"
   ]
  },
  {
   "cell_type": "markdown",
   "metadata": {},
   "source": [
    "## Remove rows with all nan's in FIPS column\n",
    "<hr>"
   ]
  },
  {
   "cell_type": "code",
   "execution_count": 113,
   "metadata": {},
   "outputs": [
    {
     "name": "stdout",
     "output_type": "stream",
     "text": [
      "80\n"
     ]
    }
   ],
   "source": [
    "# identify Nans in FIPS row \n",
    "nan_rows_d = not_completing_HS_df[not_completing_HS_df['FIPS'].isnull()].index\n",
    "print(len(nan_rows_d))"
   ]
  },
  {
   "cell_type": "code",
   "execution_count": 114,
   "metadata": {},
   "outputs": [],
   "source": [
    "# remove rows with all Nans\n",
    "not_completing_HS_df.drop(nan_rows_d, inplace = True)"
   ]
  },
  {
   "cell_type": "markdown",
   "metadata": {},
   "source": [
    "## Sanity Check\n",
    "<hr>"
   ]
  },
  {
   "cell_type": "code",
   "execution_count": 115,
   "metadata": {},
   "outputs": [
    {
     "data": {
      "text/plain": [
       "False"
      ]
     },
     "execution_count": 115,
     "metadata": {},
     "output_type": "execute_result"
    }
   ],
   "source": [
    "# checks if there are duplicates in state list\n",
    "checkIfDuplicates_3(not_completing_HS_state_list)"
   ]
  },
  {
   "cell_type": "code",
   "execution_count": 116,
   "metadata": {},
   "outputs": [
    {
     "data": {
      "text/plain": [
       "51"
      ]
     },
     "execution_count": 116,
     "metadata": {},
     "output_type": "execute_result"
    }
   ],
   "source": [
    "len(not_completing_HS_state_list)"
   ]
  },
  {
   "cell_type": "code",
   "execution_count": 117,
   "metadata": {},
   "outputs": [],
   "source": [
    "#for state in high_school_only_state_list:\n",
    "\n",
    "#    states_master_list.remove(state)\n",
    "#states_master_list"
   ]
  },
  {
   "cell_type": "code",
   "execution_count": 118,
   "metadata": {},
   "outputs": [
    {
     "data": {
      "text/plain": [
       "(3146, 9)"
      ]
     },
     "execution_count": 118,
     "metadata": {},
     "output_type": "execute_result"
    }
   ],
   "source": [
    "not_completing_HS_df.shape"
   ]
  },
  {
   "cell_type": "code",
   "execution_count": 119,
   "metadata": {},
   "outputs": [
    {
     "data": {
      "text/html": [
       "<div>\n",
       "<style scoped>\n",
       "    .dataframe tbody tr th:only-of-type {\n",
       "        vertical-align: middle;\n",
       "    }\n",
       "\n",
       "    .dataframe tbody tr th {\n",
       "        vertical-align: top;\n",
       "    }\n",
       "\n",
       "    .dataframe thead th {\n",
       "        text-align: right;\n",
       "    }\n",
       "</style>\n",
       "<table border=\"1\" class=\"dataframe\">\n",
       "  <thead>\n",
       "    <tr style=\"text-align: right;\">\n",
       "      <th></th>\n",
       "      <th>FIPS</th>\n",
       "      <th>Name</th>\n",
       "      <th>2013 Rural-urban Continuum Code*</th>\n",
       "      <th>1970</th>\n",
       "      <th>1980</th>\n",
       "      <th>1990</th>\n",
       "      <th>2000</th>\n",
       "      <th>2015-2019</th>\n",
       "      <th>state</th>\n",
       "    </tr>\n",
       "  </thead>\n",
       "  <tbody>\n",
       "    <tr>\n",
       "      <th>0</th>\n",
       "      <td>04001</td>\n",
       "      <td>Apache, AZ</td>\n",
       "      <td>6.0</td>\n",
       "      <td>0.660083</td>\n",
       "      <td>0.507026</td>\n",
       "      <td>0.453439</td>\n",
       "      <td>0.363531</td>\n",
       "      <td>0.195978</td>\n",
       "      <td>Arizona</td>\n",
       "    </tr>\n",
       "    <tr>\n",
       "      <th>1</th>\n",
       "      <td>04003</td>\n",
       "      <td>Cochise, AZ</td>\n",
       "      <td>3.0</td>\n",
       "      <td>0.441405</td>\n",
       "      <td>0.311980</td>\n",
       "      <td>0.242953</td>\n",
       "      <td>0.205387</td>\n",
       "      <td>0.126165</td>\n",
       "      <td>Arizona</td>\n",
       "    </tr>\n",
       "    <tr>\n",
       "      <th>2</th>\n",
       "      <td>04005</td>\n",
       "      <td>Coconino, AZ</td>\n",
       "      <td>3.0</td>\n",
       "      <td>0.417483</td>\n",
       "      <td>0.256077</td>\n",
       "      <td>0.209596</td>\n",
       "      <td>0.162241</td>\n",
       "      <td>0.094800</td>\n",
       "      <td>Arizona</td>\n",
       "    </tr>\n",
       "    <tr>\n",
       "      <th>3</th>\n",
       "      <td>04007</td>\n",
       "      <td>Gila, AZ</td>\n",
       "      <td>4.0</td>\n",
       "      <td>0.537534</td>\n",
       "      <td>0.383306</td>\n",
       "      <td>0.318899</td>\n",
       "      <td>0.217752</td>\n",
       "      <td>0.136740</td>\n",
       "      <td>Arizona</td>\n",
       "    </tr>\n",
       "    <tr>\n",
       "      <th>4</th>\n",
       "      <td>04009</td>\n",
       "      <td>Graham, AZ</td>\n",
       "      <td>7.0</td>\n",
       "      <td>0.527388</td>\n",
       "      <td>0.394518</td>\n",
       "      <td>0.324080</td>\n",
       "      <td>0.244223</td>\n",
       "      <td>0.147431</td>\n",
       "      <td>Arizona</td>\n",
       "    </tr>\n",
       "  </tbody>\n",
       "</table>\n",
       "</div>"
      ],
      "text/plain": [
       "    FIPS                  Name  2013 Rural-urban Continuum Code*      1970  \\\n",
       "0  04001    Apache, AZ                                       6.0  0.660083   \n",
       "1  04003   Cochise, AZ                                       3.0  0.441405   \n",
       "2  04005  Coconino, AZ                                       3.0  0.417483   \n",
       "3  04007      Gila, AZ                                       4.0  0.537534   \n",
       "4  04009    Graham, AZ                                       7.0  0.527388   \n",
       "\n",
       "       1980      1990      2000  2015-2019    state  \n",
       "0  0.507026  0.453439  0.363531   0.195978  Arizona  \n",
       "1  0.311980  0.242953  0.205387   0.126165  Arizona  \n",
       "2  0.256077  0.209596  0.162241   0.094800  Arizona  \n",
       "3  0.383306  0.318899  0.217752   0.136740  Arizona  \n",
       "4  0.394518  0.324080  0.244223   0.147431  Arizona  "
      ]
     },
     "execution_count": 119,
     "metadata": {},
     "output_type": "execute_result"
    }
   ],
   "source": [
    "not_completing_HS_df.head()"
   ]
  },
  {
   "cell_type": "markdown",
   "metadata": {},
   "source": [
    "<br>"
   ]
  },
  {
   "cell_type": "code",
   "execution_count": 120,
   "metadata": {},
   "outputs": [
    {
     "data": {
      "text/plain": [
       "Index(['FIPS', 'Name', '2013 Rural-urban Continuum Code*', '1970', '1980',\n",
       "       '1990', '2000', '2015-2019', 'state'],\n",
       "      dtype='object')"
      ]
     },
     "execution_count": 120,
     "metadata": {},
     "output_type": "execute_result"
    }
   ],
   "source": [
    "completing_college_df.columns"
   ]
  },
  {
   "cell_type": "code",
   "execution_count": 121,
   "metadata": {},
   "outputs": [
    {
     "data": {
      "text/html": [
       "<div>\n",
       "<style scoped>\n",
       "    .dataframe tbody tr th:only-of-type {\n",
       "        vertical-align: middle;\n",
       "    }\n",
       "\n",
       "    .dataframe tbody tr th {\n",
       "        vertical-align: top;\n",
       "    }\n",
       "\n",
       "    .dataframe thead th {\n",
       "        text-align: right;\n",
       "    }\n",
       "</style>\n",
       "<table border=\"1\" class=\"dataframe\">\n",
       "  <thead>\n",
       "    <tr style=\"text-align: right;\">\n",
       "      <th></th>\n",
       "      <th>FIPS</th>\n",
       "      <th>Name</th>\n",
       "      <th>2013 Rural-urban Continuum Code*</th>\n",
       "      <th>1970</th>\n",
       "      <th>1980</th>\n",
       "      <th>1990</th>\n",
       "      <th>2000</th>\n",
       "      <th>2015-2019</th>\n",
       "      <th>state</th>\n",
       "    </tr>\n",
       "  </thead>\n",
       "  <tbody>\n",
       "    <tr>\n",
       "      <th>0</th>\n",
       "      <td>04001</td>\n",
       "      <td>Apache, AZ</td>\n",
       "      <td>6.0</td>\n",
       "      <td>0.082360</td>\n",
       "      <td>0.104108</td>\n",
       "      <td>0.084963</td>\n",
       "      <td>0.113483</td>\n",
       "      <td>0.123006</td>\n",
       "      <td>Arizona</td>\n",
       "    </tr>\n",
       "    <tr>\n",
       "      <th>1</th>\n",
       "      <td>04003</td>\n",
       "      <td>Cochise, AZ</td>\n",
       "      <td>3.0</td>\n",
       "      <td>0.107439</td>\n",
       "      <td>0.138265</td>\n",
       "      <td>0.160869</td>\n",
       "      <td>0.188020</td>\n",
       "      <td>0.231096</td>\n",
       "      <td>Arizona</td>\n",
       "    </tr>\n",
       "  </tbody>\n",
       "</table>\n",
       "</div>"
      ],
      "text/plain": [
       "    FIPS                 Name  2013 Rural-urban Continuum Code*      1970  \\\n",
       "0  04001   Apache, AZ                                       6.0  0.082360   \n",
       "1  04003  Cochise, AZ                                       3.0  0.107439   \n",
       "\n",
       "       1980      1990      2000  2015-2019    state  \n",
       "0  0.104108  0.084963  0.113483   0.123006  Arizona  \n",
       "1  0.138265  0.160869  0.188020   0.231096  Arizona  "
      ]
     },
     "execution_count": 121,
     "metadata": {},
     "output_type": "execute_result"
    }
   ],
   "source": [
    "completing_college_df.head(2)"
   ]
  },
  {
   "cell_type": "markdown",
   "metadata": {},
   "source": [
    "## Preping to Merge"
   ]
  },
  {
   "cell_type": "code",
   "execution_count": 122,
   "metadata": {},
   "outputs": [
    {
     "data": {
      "text/plain": [
       "3145"
      ]
     },
     "execution_count": 122,
     "metadata": {},
     "output_type": "execute_result"
    }
   ],
   "source": [
    "completing_college_df['FIPS'].nunique()"
   ]
  },
  {
   "cell_type": "code",
   "execution_count": 123,
   "metadata": {},
   "outputs": [
    {
     "data": {
      "text/plain": [
       "(3146, 9)"
      ]
     },
     "execution_count": 123,
     "metadata": {},
     "output_type": "execute_result"
    }
   ],
   "source": [
    "completing_college_df.shape"
   ]
  },
  {
   "cell_type": "code",
   "execution_count": 124,
   "metadata": {},
   "outputs": [
    {
     "data": {
      "text/plain": [
       "3145"
      ]
     },
     "execution_count": 124,
     "metadata": {},
     "output_type": "execute_result"
    }
   ],
   "source": [
    "some_college_df['FIPS'].nunique()"
   ]
  },
  {
   "cell_type": "code",
   "execution_count": 125,
   "metadata": {},
   "outputs": [
    {
     "data": {
      "text/plain": [
       "(3146, 9)"
      ]
     },
     "execution_count": 125,
     "metadata": {},
     "output_type": "execute_result"
    }
   ],
   "source": [
    "some_college_df.shape"
   ]
  },
  {
   "cell_type": "code",
   "execution_count": 126,
   "metadata": {},
   "outputs": [
    {
     "data": {
      "text/plain": [
       "3145"
      ]
     },
     "execution_count": 126,
     "metadata": {},
     "output_type": "execute_result"
    }
   ],
   "source": [
    "high_school_only_df['FIPS'].nunique()"
   ]
  },
  {
   "cell_type": "code",
   "execution_count": 127,
   "metadata": {},
   "outputs": [
    {
     "data": {
      "text/plain": [
       "(3146, 9)"
      ]
     },
     "execution_count": 127,
     "metadata": {},
     "output_type": "execute_result"
    }
   ],
   "source": [
    "high_school_only_df.shape"
   ]
  },
  {
   "cell_type": "code",
   "execution_count": 128,
   "metadata": {},
   "outputs": [
    {
     "data": {
      "text/plain": [
       "3145"
      ]
     },
     "execution_count": 128,
     "metadata": {},
     "output_type": "execute_result"
    }
   ],
   "source": [
    "not_completing_HS_df['FIPS'].nunique()"
   ]
  },
  {
   "cell_type": "code",
   "execution_count": 129,
   "metadata": {},
   "outputs": [
    {
     "data": {
      "text/plain": [
       "(3146, 9)"
      ]
     },
     "execution_count": 129,
     "metadata": {},
     "output_type": "execute_result"
    }
   ],
   "source": [
    "not_completing_HS_df.shape"
   ]
  },
  {
   "cell_type": "code",
   "execution_count": 130,
   "metadata": {},
   "outputs": [
    {
     "data": {
      "text/plain": [
       "0       04001\n",
       "1       04003\n",
       "2       04005\n",
       "3       04007\n",
       "4       04009\n",
       "        ...  \n",
       "3219    40145\n",
       "3220    40147\n",
       "3221    40149\n",
       "3222    40151\n",
       "3223    40153\n",
       "Name: FIPS, Length: 3146, dtype: object"
      ]
     },
     "execution_count": 130,
     "metadata": {},
     "output_type": "execute_result"
    }
   ],
   "source": [
    "not_completing_HS_df['FIPS']"
   ]
  },
  {
   "cell_type": "code",
   "execution_count": 131,
   "metadata": {},
   "outputs": [
    {
     "data": {
      "text/html": [
       "<div>\n",
       "<style scoped>\n",
       "    .dataframe tbody tr th:only-of-type {\n",
       "        vertical-align: middle;\n",
       "    }\n",
       "\n",
       "    .dataframe tbody tr th {\n",
       "        vertical-align: top;\n",
       "    }\n",
       "\n",
       "    .dataframe thead th {\n",
       "        text-align: right;\n",
       "    }\n",
       "</style>\n",
       "<table border=\"1\" class=\"dataframe\">\n",
       "  <thead>\n",
       "    <tr style=\"text-align: right;\">\n",
       "      <th></th>\n",
       "      <th>FIPS</th>\n",
       "      <th>Name</th>\n",
       "      <th>2013 Rural-urban Continuum Code*</th>\n",
       "      <th>1970</th>\n",
       "      <th>1980</th>\n",
       "      <th>1990</th>\n",
       "      <th>2000</th>\n",
       "      <th>2015-2019</th>\n",
       "      <th>state</th>\n",
       "    </tr>\n",
       "  </thead>\n",
       "  <tbody>\n",
       "    <tr>\n",
       "      <th>3219</th>\n",
       "      <td>40145</td>\n",
       "      <td>Wagoner, OK</td>\n",
       "      <td>2.0</td>\n",
       "      <td>0.596901</td>\n",
       "      <td>0.367328</td>\n",
       "      <td>0.252619</td>\n",
       "      <td>0.187071</td>\n",
       "      <td>0.093976</td>\n",
       "      <td>Oklahoma</td>\n",
       "    </tr>\n",
       "    <tr>\n",
       "      <th>3220</th>\n",
       "      <td>40147</td>\n",
       "      <td>Washington, OK</td>\n",
       "      <td>4.0</td>\n",
       "      <td>0.321344</td>\n",
       "      <td>0.249025</td>\n",
       "      <td>0.204306</td>\n",
       "      <td>0.147516</td>\n",
       "      <td>0.096118</td>\n",
       "      <td>Oklahoma</td>\n",
       "    </tr>\n",
       "    <tr>\n",
       "      <th>3221</th>\n",
       "      <td>40149</td>\n",
       "      <td>Washita, OK</td>\n",
       "      <td>7.0</td>\n",
       "      <td>0.555511</td>\n",
       "      <td>0.391588</td>\n",
       "      <td>0.333552</td>\n",
       "      <td>0.202811</td>\n",
       "      <td>0.099430</td>\n",
       "      <td>Oklahoma</td>\n",
       "    </tr>\n",
       "    <tr>\n",
       "      <th>3222</th>\n",
       "      <td>40151</td>\n",
       "      <td>Woods, OK</td>\n",
       "      <td>7.0</td>\n",
       "      <td>0.454235</td>\n",
       "      <td>0.332008</td>\n",
       "      <td>0.239156</td>\n",
       "      <td>0.172868</td>\n",
       "      <td>0.102244</td>\n",
       "      <td>Oklahoma</td>\n",
       "    </tr>\n",
       "    <tr>\n",
       "      <th>3223</th>\n",
       "      <td>40153</td>\n",
       "      <td>Woodward, OK</td>\n",
       "      <td>7.0</td>\n",
       "      <td>0.481869</td>\n",
       "      <td>0.332663</td>\n",
       "      <td>0.266208</td>\n",
       "      <td>0.200801</td>\n",
       "      <td>0.122538</td>\n",
       "      <td>Oklahoma</td>\n",
       "    </tr>\n",
       "  </tbody>\n",
       "</table>\n",
       "</div>"
      ],
      "text/plain": [
       "       FIPS                    Name  2013 Rural-urban Continuum Code*  \\\n",
       "3219  40145     Wagoner, OK                                       2.0   \n",
       "3220  40147  Washington, OK                                       4.0   \n",
       "3221  40149     Washita, OK                                       7.0   \n",
       "3222  40151       Woods, OK                                       7.0   \n",
       "3223  40153    Woodward, OK                                       7.0   \n",
       "\n",
       "          1970      1980      1990      2000  2015-2019     state  \n",
       "3219  0.596901  0.367328  0.252619  0.187071   0.093976  Oklahoma  \n",
       "3220  0.321344  0.249025  0.204306  0.147516   0.096118  Oklahoma  \n",
       "3221  0.555511  0.391588  0.333552  0.202811   0.099430  Oklahoma  \n",
       "3222  0.454235  0.332008  0.239156  0.172868   0.102244  Oklahoma  \n",
       "3223  0.481869  0.332663  0.266208  0.200801   0.122538  Oklahoma  "
      ]
     },
     "execution_count": 131,
     "metadata": {},
     "output_type": "execute_result"
    }
   ],
   "source": [
    "not_completing_HS_df.tail()"
   ]
  },
  {
   "cell_type": "markdown",
   "metadata": {},
   "source": [
    "<br>"
   ]
  },
  {
   "cell_type": "markdown",
   "metadata": {},
   "source": [
    "# Merge\n",
    "<hr>"
   ]
  },
  {
   "cell_type": "code",
   "execution_count": 132,
   "metadata": {},
   "outputs": [],
   "source": [
    "#  4 dataFrames, all of them include the entire USA (no Porto Rico)\n",
    "#  Each dataframe is a different elevel of with a different education level\n",
    "#\n",
    "# I AM \n",
    "#      Merging on \" completing_college_df \"\n",
    "#      Dropping from all other DF 'Name', '2013 Rural-urban Continuum Code*','state', '1970', '1980','1990','2000'\n",
    "#\n",
    "#      keeping only column '2015-2019' and 'FIPS' for key\n"
   ]
  },
  {
   "cell_type": "markdown",
   "metadata": {},
   "source": [
    "#### Drop & Rename"
   ]
  },
  {
   "cell_type": "code",
   "execution_count": 133,
   "metadata": {},
   "outputs": [],
   "source": [
    "#drop\n",
    "some_college_df.drop(columns = ['Name', '2013 Rural-urban Continuum Code*','state',\n",
    "                               '1970', '1980','1990','2000'], inplace = True)"
   ]
  },
  {
   "cell_type": "code",
   "execution_count": 134,
   "metadata": {},
   "outputs": [],
   "source": [
    "# drop \n",
    "high_school_only_df.drop(columns = ['Name', '2013 Rural-urban Continuum Code*','state'\n",
    "                                   ,'1970', '1980','1990','2000'], inplace = True)\n",
    "# rename\n",
    "high_school_only_df.rename(columns = {'2015-2019':'2015-2019_HS_only'}, inplace = True)"
   ]
  },
  {
   "cell_type": "code",
   "execution_count": 135,
   "metadata": {},
   "outputs": [],
   "source": [
    "# drop \n",
    "not_completing_HS_df.drop(columns = ['Name', '2013 Rural-urban Continuum Code*','state'\n",
    "                                     ,'1970', '1980','1990','2000'], inplace = True)\n",
    "# rename\n",
    "not_completing_HS_df.rename(columns = {'2015-2019':'2015-2019_not_HS'}, inplace = True)"
   ]
  },
  {
   "cell_type": "markdown",
   "metadata": {},
   "source": [
    "#### Merge"
   ]
  },
  {
   "cell_type": "code",
   "execution_count": 136,
   "metadata": {},
   "outputs": [],
   "source": [
    "# some_college_df\n",
    "master_df = completing_college_df.merge(some_college_df, on='FIPS', how='left',\n",
    "                            suffixes=('_completing_college', '_some_college'))"
   ]
  },
  {
   "cell_type": "code",
   "execution_count": 137,
   "metadata": {},
   "outputs": [],
   "source": [
    "# high_school_only_df\n",
    "master_df = master_df.merge(high_school_only_df, on='FIPS', how='left')"
   ]
  },
  {
   "cell_type": "code",
   "execution_count": 138,
   "metadata": {},
   "outputs": [],
   "source": [
    "# high_school_only_df\n",
    "master_df = master_df.merge(not_completing_HS_df, on='FIPS', how='left',)"
   ]
  },
  {
   "cell_type": "code",
   "execution_count": null,
   "metadata": {},
   "outputs": [],
   "source": []
  },
  {
   "cell_type": "code",
   "execution_count": 139,
   "metadata": {},
   "outputs": [],
   "source": [
    "# dropping '1970','1980','1990','2000' from master\n",
    "master_df.drop(['1970','1980','1990','2000'], axis = 1, inplace = True)"
   ]
  },
  {
   "cell_type": "code",
   "execution_count": 140,
   "metadata": {},
   "outputs": [
    {
     "data": {
      "text/plain": [
       "Index(['FIPS', 'Name', '2013 Rural-urban Continuum Code*',\n",
       "       '2015-2019_completing_college', 'state', '2015-2019_some_college',\n",
       "       '2015-2019_HS_only', '2015-2019_not_HS'],\n",
       "      dtype='object')"
      ]
     },
     "execution_count": 140,
     "metadata": {},
     "output_type": "execute_result"
    }
   ],
   "source": [
    "# List of final columns\n",
    "master_df.columns"
   ]
  },
  {
   "cell_type": "markdown",
   "metadata": {},
   "source": [
    "<br>"
   ]
  },
  {
   "cell_type": "markdown",
   "metadata": {},
   "source": [
    "<br><hr><br>"
   ]
  },
  {
   "cell_type": "code",
   "execution_count": null,
   "metadata": {},
   "outputs": [],
   "source": [
    "#"
   ]
  },
  {
   "cell_type": "code",
   "execution_count": 145,
   "metadata": {},
   "outputs": [
    {
     "data": {
      "text/plain": [
       "(3160, 8)"
      ]
     },
     "execution_count": 145,
     "metadata": {},
     "output_type": "execute_result"
    }
   ],
   "source": [
    "master_df.shape"
   ]
  },
  {
   "cell_type": "code",
   "execution_count": 142,
   "metadata": {},
   "outputs": [
    {
     "data": {
      "text/html": [
       "<div>\n",
       "<style scoped>\n",
       "    .dataframe tbody tr th:only-of-type {\n",
       "        vertical-align: middle;\n",
       "    }\n",
       "\n",
       "    .dataframe tbody tr th {\n",
       "        vertical-align: top;\n",
       "    }\n",
       "\n",
       "    .dataframe thead th {\n",
       "        text-align: right;\n",
       "    }\n",
       "</style>\n",
       "<table border=\"1\" class=\"dataframe\">\n",
       "  <thead>\n",
       "    <tr style=\"text-align: right;\">\n",
       "      <th></th>\n",
       "      <th>FIPS</th>\n",
       "      <th>Name</th>\n",
       "      <th>2013 Rural-urban Continuum Code*</th>\n",
       "      <th>2015-2019_completing_college</th>\n",
       "      <th>state</th>\n",
       "      <th>2015-2019_some_college</th>\n",
       "      <th>2015-2019_HS_only</th>\n",
       "      <th>2015-2019_not_HS</th>\n",
       "    </tr>\n",
       "  </thead>\n",
       "  <tbody>\n",
       "    <tr>\n",
       "      <th>0</th>\n",
       "      <td>04001</td>\n",
       "      <td>Apache, AZ</td>\n",
       "      <td>6.0</td>\n",
       "      <td>0.123006</td>\n",
       "      <td>Arizona</td>\n",
       "      <td>0.358629</td>\n",
       "      <td>0.322388</td>\n",
       "      <td>0.195978</td>\n",
       "    </tr>\n",
       "    <tr>\n",
       "      <th>1</th>\n",
       "      <td>04003</td>\n",
       "      <td>Cochise, AZ</td>\n",
       "      <td>3.0</td>\n",
       "      <td>0.231096</td>\n",
       "      <td>Arizona</td>\n",
       "      <td>0.401705</td>\n",
       "      <td>0.241034</td>\n",
       "      <td>0.126165</td>\n",
       "    </tr>\n",
       "  </tbody>\n",
       "</table>\n",
       "</div>"
      ],
      "text/plain": [
       "    FIPS                 Name  2013 Rural-urban Continuum Code*  \\\n",
       "0  04001   Apache, AZ                                       6.0   \n",
       "1  04003  Cochise, AZ                                       3.0   \n",
       "\n",
       "   2015-2019_completing_college    state  2015-2019_some_college  \\\n",
       "0                      0.123006  Arizona                0.358629   \n",
       "1                      0.231096  Arizona                0.401705   \n",
       "\n",
       "   2015-2019_HS_only  2015-2019_not_HS  \n",
       "0           0.322388          0.195978  \n",
       "1           0.241034          0.126165  "
      ]
     },
     "execution_count": 142,
     "metadata": {},
     "output_type": "execute_result"
    }
   ],
   "source": [
    "master_df.head(2)"
   ]
  },
  {
   "cell_type": "markdown",
   "metadata": {},
   "source": [
    "### FIPS\n",
    "<hr>"
   ]
  },
  {
   "cell_type": "code",
   "execution_count": 151,
   "metadata": {},
   "outputs": [],
   "source": [
    "fips_list = set(master_df['FIPS'])"
   ]
  },
  {
   "cell_type": "code",
   "execution_count": 152,
   "metadata": {},
   "outputs": [
    {
     "data": {
      "text/plain": [
       "3145"
      ]
     },
     "execution_count": 152,
     "metadata": {},
     "output_type": "execute_result"
    }
   ],
   "source": [
    "len(fips_list)"
   ]
  },
  {
   "cell_type": "markdown",
   "metadata": {},
   "source": [
    "# NAN's\n",
    "<>"
   ]
  },
  {
   "cell_type": "code",
   "execution_count": 67,
   "metadata": {},
   "outputs": [
    {
     "data": {
      "text/plain": [
       "FIPS                                 0\n",
       "Name                                 0\n",
       "2013 Rural-urban Continuum Code*    13\n",
       "2015-2019_completing_college        16\n",
       "state                                0\n",
       "2015-2019_some_college              16\n",
       "2015-2019_HS_only                   16\n",
       "2015-2019_not_HS                    16\n",
       "dtype: int64"
      ]
     },
     "execution_count": 67,
     "metadata": {},
     "output_type": "execute_result"
    }
   ],
   "source": [
    "master_df.isna().sum()"
   ]
  },
  {
   "cell_type": "code",
   "execution_count": 68,
   "metadata": {},
   "outputs": [
    {
     "data": {
      "text/html": [
       "<div>\n",
       "<style scoped>\n",
       "    .dataframe tbody tr th:only-of-type {\n",
       "        vertical-align: middle;\n",
       "    }\n",
       "\n",
       "    .dataframe tbody tr th {\n",
       "        vertical-align: top;\n",
       "    }\n",
       "\n",
       "    .dataframe thead th {\n",
       "        text-align: right;\n",
       "    }\n",
       "</style>\n",
       "<table border=\"1\" class=\"dataframe\">\n",
       "  <thead>\n",
       "    <tr style=\"text-align: right;\">\n",
       "      <th></th>\n",
       "      <th>FIPS</th>\n",
       "      <th>Name</th>\n",
       "      <th>2013 Rural-urban Continuum Code*</th>\n",
       "      <th>2015-2019_completing_college</th>\n",
       "      <th>state</th>\n",
       "      <th>2015-2019_some_college</th>\n",
       "      <th>2015-2019_HS_only</th>\n",
       "      <th>2015-2019_not_HS</th>\n",
       "    </tr>\n",
       "  </thead>\n",
       "  <tbody>\n",
       "    <tr>\n",
       "      <th>787</th>\n",
       "      <td>51515</td>\n",
       "      <td>Bedford, VA</td>\n",
       "      <td>2.0</td>\n",
       "      <td>NaN</td>\n",
       "      <td>Virginia</td>\n",
       "      <td>NaN</td>\n",
       "      <td>NaN</td>\n",
       "      <td>NaN</td>\n",
       "    </tr>\n",
       "    <tr>\n",
       "      <th>792</th>\n",
       "      <td>51560</td>\n",
       "      <td>Clifton Forge, VA</td>\n",
       "      <td>NaN</td>\n",
       "      <td>NaN</td>\n",
       "      <td>Virginia</td>\n",
       "      <td>NaN</td>\n",
       "      <td>NaN</td>\n",
       "      <td>NaN</td>\n",
       "    </tr>\n",
       "    <tr>\n",
       "      <th>906</th>\n",
       "      <td>46113</td>\n",
       "      <td>Shannon, SD</td>\n",
       "      <td>6.0</td>\n",
       "      <td>NaN</td>\n",
       "      <td>South Dakota</td>\n",
       "      <td>NaN</td>\n",
       "      <td>NaN</td>\n",
       "      <td>NaN</td>\n",
       "    </tr>\n",
       "    <tr>\n",
       "      <th>917</th>\n",
       "      <td>02010</td>\n",
       "      <td>Aleutian Islands, AK</td>\n",
       "      <td>NaN</td>\n",
       "      <td>NaN</td>\n",
       "      <td>Alaska</td>\n",
       "      <td>NaN</td>\n",
       "      <td>NaN</td>\n",
       "      <td>NaN</td>\n",
       "    </tr>\n",
       "    <tr>\n",
       "      <th>937</th>\n",
       "      <td>02201</td>\n",
       "      <td>Prince of Wales-Outer Ketchikan, AK</td>\n",
       "      <td>NaN</td>\n",
       "      <td>NaN</td>\n",
       "      <td>Alaska</td>\n",
       "      <td>NaN</td>\n",
       "      <td>NaN</td>\n",
       "      <td>NaN</td>\n",
       "    </tr>\n",
       "    <tr>\n",
       "      <th>939</th>\n",
       "      <td>02232</td>\n",
       "      <td>Skagway-Hoonah-Angoon, AK</td>\n",
       "      <td>NaN</td>\n",
       "      <td>NaN</td>\n",
       "      <td>Alaska</td>\n",
       "      <td>NaN</td>\n",
       "      <td>NaN</td>\n",
       "      <td>NaN</td>\n",
       "    </tr>\n",
       "    <tr>\n",
       "      <th>942</th>\n",
       "      <td>02270</td>\n",
       "      <td>Wade Hampton, AK</td>\n",
       "      <td>9.0</td>\n",
       "      <td>NaN</td>\n",
       "      <td>Alaska</td>\n",
       "      <td>NaN</td>\n",
       "      <td>NaN</td>\n",
       "      <td>NaN</td>\n",
       "    </tr>\n",
       "    <tr>\n",
       "      <th>943</th>\n",
       "      <td>02280</td>\n",
       "      <td>Wrangell-Petersburg, AK</td>\n",
       "      <td>NaN</td>\n",
       "      <td>NaN</td>\n",
       "      <td>Alaska</td>\n",
       "      <td>NaN</td>\n",
       "      <td>NaN</td>\n",
       "      <td>NaN</td>\n",
       "    </tr>\n",
       "    <tr>\n",
       "      <th>1990</th>\n",
       "      <td>12086</td>\n",
       "      <td>Miami-Dade, FL</td>\n",
       "      <td>NaN</td>\n",
       "      <td>NaN</td>\n",
       "      <td>Florida</td>\n",
       "      <td>NaN</td>\n",
       "      <td>NaN</td>\n",
       "      <td>NaN</td>\n",
       "    </tr>\n",
       "    <tr>\n",
       "      <th>1991</th>\n",
       "      <td>12086</td>\n",
       "      <td>Miami-Dade, FL</td>\n",
       "      <td>NaN</td>\n",
       "      <td>NaN</td>\n",
       "      <td>Florida</td>\n",
       "      <td>NaN</td>\n",
       "      <td>NaN</td>\n",
       "      <td>0.185519</td>\n",
       "    </tr>\n",
       "    <tr>\n",
       "      <th>1994</th>\n",
       "      <td>12086</td>\n",
       "      <td>Miami-Dade, FL</td>\n",
       "      <td>NaN</td>\n",
       "      <td>NaN</td>\n",
       "      <td>Florida</td>\n",
       "      <td>0.243828</td>\n",
       "      <td>NaN</td>\n",
       "      <td>NaN</td>\n",
       "    </tr>\n",
       "    <tr>\n",
       "      <th>1995</th>\n",
       "      <td>12086</td>\n",
       "      <td>Miami-Dade, FL</td>\n",
       "      <td>NaN</td>\n",
       "      <td>NaN</td>\n",
       "      <td>Florida</td>\n",
       "      <td>0.243828</td>\n",
       "      <td>NaN</td>\n",
       "      <td>0.185519</td>\n",
       "    </tr>\n",
       "    <tr>\n",
       "      <th>1998</th>\n",
       "      <td>12086</td>\n",
       "      <td>Miami-Dade, FL</td>\n",
       "      <td>1.0</td>\n",
       "      <td>0.297856</td>\n",
       "      <td>Florida</td>\n",
       "      <td>NaN</td>\n",
       "      <td>NaN</td>\n",
       "      <td>NaN</td>\n",
       "    </tr>\n",
       "    <tr>\n",
       "      <th>1999</th>\n",
       "      <td>12086</td>\n",
       "      <td>Miami-Dade, FL</td>\n",
       "      <td>1.0</td>\n",
       "      <td>0.297856</td>\n",
       "      <td>Florida</td>\n",
       "      <td>NaN</td>\n",
       "      <td>NaN</td>\n",
       "      <td>0.185519</td>\n",
       "    </tr>\n",
       "    <tr>\n",
       "      <th>2002</th>\n",
       "      <td>12086</td>\n",
       "      <td>Miami-Dade, FL</td>\n",
       "      <td>1.0</td>\n",
       "      <td>0.297856</td>\n",
       "      <td>Florida</td>\n",
       "      <td>0.243828</td>\n",
       "      <td>NaN</td>\n",
       "      <td>NaN</td>\n",
       "    </tr>\n",
       "    <tr>\n",
       "      <th>2003</th>\n",
       "      <td>12086</td>\n",
       "      <td>Miami-Dade, FL</td>\n",
       "      <td>1.0</td>\n",
       "      <td>0.297856</td>\n",
       "      <td>Florida</td>\n",
       "      <td>0.243828</td>\n",
       "      <td>NaN</td>\n",
       "      <td>0.185519</td>\n",
       "    </tr>\n",
       "  </tbody>\n",
       "</table>\n",
       "</div>"
      ],
      "text/plain": [
       "       FIPS                                         Name  \\\n",
       "787   51515                          Bedford, VA           \n",
       "792   51560                    Clifton Forge, VA           \n",
       "906   46113                          Shannon, SD           \n",
       "917   02010                 Aleutian Islands, AK           \n",
       "937   02201  Prince of Wales-Outer Ketchikan, AK           \n",
       "939   02232            Skagway-Hoonah-Angoon, AK           \n",
       "942   02270                     Wade Hampton, AK           \n",
       "943   02280              Wrangell-Petersburg, AK           \n",
       "1990  12086                       Miami-Dade, FL           \n",
       "1991  12086                       Miami-Dade, FL           \n",
       "1994  12086                       Miami-Dade, FL           \n",
       "1995  12086                       Miami-Dade, FL           \n",
       "1998  12086                       Miami-Dade, FL           \n",
       "1999  12086                       Miami-Dade, FL           \n",
       "2002  12086                       Miami-Dade, FL           \n",
       "2003  12086                       Miami-Dade, FL           \n",
       "\n",
       "      2013 Rural-urban Continuum Code*  2015-2019_completing_college  \\\n",
       "787                                2.0                           NaN   \n",
       "792                                NaN                           NaN   \n",
       "906                                6.0                           NaN   \n",
       "917                                NaN                           NaN   \n",
       "937                                NaN                           NaN   \n",
       "939                                NaN                           NaN   \n",
       "942                                9.0                           NaN   \n",
       "943                                NaN                           NaN   \n",
       "1990                               NaN                           NaN   \n",
       "1991                               NaN                           NaN   \n",
       "1994                               NaN                           NaN   \n",
       "1995                               NaN                           NaN   \n",
       "1998                               1.0                      0.297856   \n",
       "1999                               1.0                      0.297856   \n",
       "2002                               1.0                      0.297856   \n",
       "2003                               1.0                      0.297856   \n",
       "\n",
       "             state  2015-2019_some_college  2015-2019_HS_only  \\\n",
       "787       Virginia                     NaN                NaN   \n",
       "792       Virginia                     NaN                NaN   \n",
       "906   South Dakota                     NaN                NaN   \n",
       "917         Alaska                     NaN                NaN   \n",
       "937         Alaska                     NaN                NaN   \n",
       "939         Alaska                     NaN                NaN   \n",
       "942         Alaska                     NaN                NaN   \n",
       "943         Alaska                     NaN                NaN   \n",
       "1990       Florida                     NaN                NaN   \n",
       "1991       Florida                     NaN                NaN   \n",
       "1994       Florida                0.243828                NaN   \n",
       "1995       Florida                0.243828                NaN   \n",
       "1998       Florida                     NaN                NaN   \n",
       "1999       Florida                     NaN                NaN   \n",
       "2002       Florida                0.243828                NaN   \n",
       "2003       Florida                0.243828                NaN   \n",
       "\n",
       "      2015-2019_not_HS  \n",
       "787                NaN  \n",
       "792                NaN  \n",
       "906                NaN  \n",
       "917                NaN  \n",
       "937                NaN  \n",
       "939                NaN  \n",
       "942                NaN  \n",
       "943                NaN  \n",
       "1990               NaN  \n",
       "1991          0.185519  \n",
       "1994               NaN  \n",
       "1995          0.185519  \n",
       "1998               NaN  \n",
       "1999          0.185519  \n",
       "2002               NaN  \n",
       "2003          0.185519  "
      ]
     },
     "execution_count": 68,
     "metadata": {},
     "output_type": "execute_result"
    }
   ],
   "source": [
    "master_df[master_df['2015-2019_HS_only'].isnull()]\n"
   ]
  },
  {
   "cell_type": "code",
   "execution_count": null,
   "metadata": {},
   "outputs": [],
   "source": []
  }
 ],
 "metadata": {
  "kernelspec": {
   "display_name": "Python 3",
   "language": "python",
   "name": "python3"
  },
  "language_info": {
   "codemirror_mode": {
    "name": "ipython",
    "version": 3
   },
   "file_extension": ".py",
   "mimetype": "text/x-python",
   "name": "python",
   "nbconvert_exporter": "python",
   "pygments_lexer": "ipython3",
   "version": "3.8.2"
  }
 },
 "nbformat": 4,
 "nbformat_minor": 4
}
