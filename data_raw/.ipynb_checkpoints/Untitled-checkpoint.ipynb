{
 "cells": [
  {
   "cell_type": "markdown",
   "metadata": {},
   "source": [
    "# Modeling \n",
    "<hr>"
   ]
  },
  {
   "cell_type": "code",
   "execution_count": 1,
   "metadata": {},
   "outputs": [],
   "source": [
    "import pandas as pd\n",
    "import numpy as np"
   ]
  },
  {
   "cell_type": "markdown",
   "metadata": {},
   "source": [
    "# Data Input \n",
    "<hr>"
   ]
  },
  {
   "cell_type": "code",
   "execution_count": 4,
   "metadata": {},
   "outputs": [],
   "source": [
    "path = '../data/Clean_data/'"
   ]
  },
  {
   "cell_type": "code",
   "execution_count": 5,
   "metadata": {},
   "outputs": [],
   "source": [
    "file = 'aggregated_county_data-4pm-6_23_21.csv'"
   ]
  },
  {
   "cell_type": "code",
   "execution_count": 6,
   "metadata": {},
   "outputs": [],
   "source": [
    "df = pd.read_csv(path + file, )"
   ]
  },
  {
   "cell_type": "code",
   "execution_count": 15,
   "metadata": {},
   "outputs": [],
   "source": [
    "df.drop(df.columns[[0,1]], axis = 1, inplace = True)"
   ]
  },
  {
   "cell_type": "code",
   "execution_count": 16,
   "metadata": {},
   "outputs": [
    {
     "data": {
      "text/plain": [
       "(3092, 125)"
      ]
     },
     "execution_count": 16,
     "metadata": {},
     "output_type": "execute_result"
    }
   ],
   "source": [
    "df.shape"
   ]
  },
  {
   "cell_type": "markdown",
   "metadata": {},
   "source": [
    "# Rows \n",
    "<hr>"
   ]
  },
  {
   "cell_type": "code",
   "execution_count": 20,
   "metadata": {},
   "outputs": [
    {
     "data": {
      "text/html": [
       "<div>\n",
       "<style scoped>\n",
       "    .dataframe tbody tr th:only-of-type {\n",
       "        vertical-align: middle;\n",
       "    }\n",
       "\n",
       "    .dataframe tbody tr th {\n",
       "        vertical-align: top;\n",
       "    }\n",
       "\n",
       "    .dataframe thead th {\n",
       "        text-align: right;\n",
       "    }\n",
       "</style>\n",
       "<table border=\"1\" class=\"dataframe\">\n",
       "  <thead>\n",
       "    <tr style=\"text-align: right;\">\n",
       "      <th></th>\n",
       "      <th>1or2_risk_factors_pct</th>\n",
       "      <th>three_plus_risk_factors_pct</th>\n",
       "      <th>Estimated hesitant</th>\n",
       "      <th>Estimated hesitant or unsure</th>\n",
       "      <th>Estimated strongly hesitant</th>\n",
       "      <th>Social Vulnerability Index (SVI)</th>\n",
       "      <th>CVAC level of concern for vaccination rollout</th>\n",
       "      <th>poverty_pct_total_all_people</th>\n",
       "      <th>poverty_pct_under18</th>\n",
       "      <th>per_biden</th>\n",
       "    </tr>\n",
       "  </thead>\n",
       "  <tbody>\n",
       "    <tr>\n",
       "      <th>1</th>\n",
       "      <td>45.44</td>\n",
       "      <td>24.72</td>\n",
       "      <td>0.1544</td>\n",
       "      <td>0.1988</td>\n",
       "      <td>0.1169</td>\n",
       "      <td>0.22</td>\n",
       "      <td>0.23</td>\n",
       "      <td>10.1</td>\n",
       "      <td>13.5</td>\n",
       "      <td>22.409030</td>\n",
       "    </tr>\n",
       "    <tr>\n",
       "      <th>2</th>\n",
       "      <td>46.19</td>\n",
       "      <td>35.11</td>\n",
       "      <td>0.1676</td>\n",
       "      <td>0.2337</td>\n",
       "      <td>0.1274</td>\n",
       "      <td>1.00</td>\n",
       "      <td>0.89</td>\n",
       "      <td>27.1</td>\n",
       "      <td>41.0</td>\n",
       "      <td>45.788173</td>\n",
       "    </tr>\n",
       "  </tbody>\n",
       "</table>\n",
       "</div>"
      ],
      "text/plain": [
       "   1or2_risk_factors_pct  three_plus_risk_factors_pct  Estimated hesitant  \\\n",
       "1                  45.44                        24.72              0.1544   \n",
       "2                  46.19                        35.11              0.1676   \n",
       "\n",
       "   Estimated hesitant or unsure  Estimated strongly hesitant  \\\n",
       "1                        0.1988                       0.1169   \n",
       "2                        0.2337                       0.1274   \n",
       "\n",
       "   Social Vulnerability Index (SVI)  \\\n",
       "1                              0.22   \n",
       "2                              1.00   \n",
       "\n",
       "   CVAC level of concern for vaccination rollout  \\\n",
       "1                                           0.23   \n",
       "2                                           0.89   \n",
       "\n",
       "   poverty_pct_total_all_people  poverty_pct_under18  per_biden  \n",
       "1                          10.1                 13.5  22.409030  \n",
       "2                          27.1                 41.0  45.788173  "
      ]
     },
     "execution_count": 20,
     "metadata": {},
     "output_type": "execute_result"
    }
   ],
   "source": [
    "df.iloc[1:3,1:11]"
   ]
  },
  {
   "cell_type": "code",
   "execution_count": 23,
   "metadata": {},
   "outputs": [
    {
     "data": {
      "text/html": [
       "<div>\n",
       "<style scoped>\n",
       "    .dataframe tbody tr th:only-of-type {\n",
       "        vertical-align: middle;\n",
       "    }\n",
       "\n",
       "    .dataframe tbody tr th {\n",
       "        vertical-align: top;\n",
       "    }\n",
       "\n",
       "    .dataframe thead th {\n",
       "        text-align: right;\n",
       "    }\n",
       "</style>\n",
       "<table border=\"1\" class=\"dataframe\">\n",
       "  <thead>\n",
       "    <tr style=\"text-align: right;\">\n",
       "      <th></th>\n",
       "      <th>per_trump</th>\n",
       "      <th>pct_female</th>\n",
       "      <th>pct_male</th>\n",
       "      <th>WA_MALE_PCT</th>\n",
       "      <th>WA_FEMALE_PCT</th>\n",
       "      <th>WA_TOTAL_PCT</th>\n",
       "      <th>BA_MALE_PCT</th>\n",
       "      <th>BA_FEMALE_PCT</th>\n",
       "      <th>BA_TOTAL_PCT</th>\n",
       "      <th>IA_MALE_PCT</th>\n",
       "      <th>IA_FEMALE_PCT</th>\n",
       "      <th>IA_TOTAL_PCT</th>\n",
       "    </tr>\n",
       "  </thead>\n",
       "  <tbody>\n",
       "    <tr>\n",
       "      <th>1</th>\n",
       "      <td>76.171373</td>\n",
       "      <td>0.514316</td>\n",
       "      <td>0.485684</td>\n",
       "      <td>0.875429</td>\n",
       "      <td>0.871111</td>\n",
       "      <td>0.873208</td>\n",
       "      <td>0.089897</td>\n",
       "      <td>0.091242</td>\n",
       "      <td>0.090589</td>\n",
       "      <td>0.008342</td>\n",
       "      <td>0.007063</td>\n",
       "      <td>0.007684</td>\n",
       "    </tr>\n",
       "    <tr>\n",
       "      <th>2</th>\n",
       "      <td>53.451226</td>\n",
       "      <td>0.474103</td>\n",
       "      <td>0.525897</td>\n",
       "      <td>0.493802</td>\n",
       "      <td>0.496185</td>\n",
       "      <td>0.494932</td>\n",
       "      <td>0.480726</td>\n",
       "      <td>0.481596</td>\n",
       "      <td>0.481138</td>\n",
       "      <td>0.007029</td>\n",
       "      <td>0.005198</td>\n",
       "      <td>0.006161</td>\n",
       "    </tr>\n",
       "  </tbody>\n",
       "</table>\n",
       "</div>"
      ],
      "text/plain": [
       "   per_trump  pct_female  pct_male  WA_MALE_PCT  WA_FEMALE_PCT  WA_TOTAL_PCT  \\\n",
       "1  76.171373    0.514316  0.485684     0.875429       0.871111      0.873208   \n",
       "2  53.451226    0.474103  0.525897     0.493802       0.496185      0.494932   \n",
       "\n",
       "   BA_MALE_PCT  BA_FEMALE_PCT  BA_TOTAL_PCT  IA_MALE_PCT  IA_FEMALE_PCT  \\\n",
       "1     0.089897       0.091242      0.090589     0.008342       0.007063   \n",
       "2     0.480726       0.481596      0.481138     0.007029       0.005198   \n",
       "\n",
       "   IA_TOTAL_PCT  \n",
       "1      0.007684  \n",
       "2      0.006161  "
      ]
     },
     "execution_count": 23,
     "metadata": {},
     "output_type": "execute_result"
    }
   ],
   "source": [
    "df.iloc[1:3,11:23]"
   ]
  },
  {
   "cell_type": "code",
   "execution_count": 25,
   "metadata": {},
   "outputs": [
    {
     "data": {
      "text/html": [
       "<div>\n",
       "<style scoped>\n",
       "    .dataframe tbody tr th:only-of-type {\n",
       "        vertical-align: middle;\n",
       "    }\n",
       "\n",
       "    .dataframe tbody tr th {\n",
       "        vertical-align: top;\n",
       "    }\n",
       "\n",
       "    .dataframe thead th {\n",
       "        text-align: right;\n",
       "    }\n",
       "</style>\n",
       "<table border=\"1\" class=\"dataframe\">\n",
       "  <thead>\n",
       "    <tr style=\"text-align: right;\">\n",
       "      <th></th>\n",
       "      <th>AA_MALE_PCT</th>\n",
       "      <th>AA_FEMALE_PCT</th>\n",
       "      <th>AA_TOTAL_PCT</th>\n",
       "      <th>NA_MALE_PCT</th>\n",
       "      <th>NA_FEMALE_PCT</th>\n",
       "      <th>NA_TOTAL_PCT</th>\n",
       "      <th>TOM_MALE_PCT</th>\n",
       "      <th>TOM_FEMALE_PCT</th>\n",
       "      <th>TOM_TOTAL_PCT</th>\n",
       "      <th>WAC_MALE_PCT</th>\n",
       "    </tr>\n",
       "  </thead>\n",
       "  <tbody>\n",
       "    <tr>\n",
       "      <th>1</th>\n",
       "      <td>0.008371</td>\n",
       "      <td>0.012452</td>\n",
       "      <td>0.01047</td>\n",
       "      <td>0.000668</td>\n",
       "      <td>0.000631</td>\n",
       "      <td>0.000649</td>\n",
       "      <td>0.017293</td>\n",
       "      <td>0.017502</td>\n",
       "      <td>0.017401</td>\n",
       "      <td>0.891695</td>\n",
       "    </tr>\n",
       "    <tr>\n",
       "      <th>2</th>\n",
       "      <td>0.004157</td>\n",
       "      <td>0.005366</td>\n",
       "      <td>0.00473</td>\n",
       "      <td>0.002268</td>\n",
       "      <td>0.001174</td>\n",
       "      <td>0.001749</td>\n",
       "      <td>0.012018</td>\n",
       "      <td>0.010480</td>\n",
       "      <td>0.011289</td>\n",
       "      <td>0.502192</td>\n",
       "    </tr>\n",
       "  </tbody>\n",
       "</table>\n",
       "</div>"
      ],
      "text/plain": [
       "   AA_MALE_PCT  AA_FEMALE_PCT  AA_TOTAL_PCT  NA_MALE_PCT  NA_FEMALE_PCT  \\\n",
       "1     0.008371       0.012452       0.01047     0.000668       0.000631   \n",
       "2     0.004157       0.005366       0.00473     0.002268       0.001174   \n",
       "\n",
       "   NA_TOTAL_PCT  TOM_MALE_PCT  TOM_FEMALE_PCT  TOM_TOTAL_PCT  WAC_MALE_PCT  \n",
       "1      0.000649      0.017293        0.017502       0.017401      0.891695  \n",
       "2      0.001749      0.012018        0.010480       0.011289      0.502192  "
      ]
     },
     "execution_count": 25,
     "metadata": {},
     "output_type": "execute_result"
    }
   ],
   "source": [
    "df.iloc[1:3,23:33]"
   ]
  },
  {
   "cell_type": "code",
   "execution_count": 26,
   "metadata": {},
   "outputs": [
    {
     "data": {
      "text/html": [
       "<div>\n",
       "<style scoped>\n",
       "    .dataframe tbody tr th:only-of-type {\n",
       "        vertical-align: middle;\n",
       "    }\n",
       "\n",
       "    .dataframe tbody tr th {\n",
       "        vertical-align: top;\n",
       "    }\n",
       "\n",
       "    .dataframe thead th {\n",
       "        text-align: right;\n",
       "    }\n",
       "</style>\n",
       "<table border=\"1\" class=\"dataframe\">\n",
       "  <thead>\n",
       "    <tr style=\"text-align: right;\">\n",
       "      <th></th>\n",
       "      <th>WAC_FEMALE_PCT</th>\n",
       "      <th>WAC_TOTAL_PCT</th>\n",
       "      <th>BAC_MALE_PCT</th>\n",
       "      <th>BAC_FEMALE_PCT</th>\n",
       "      <th>BAC_TOTAL_PCT</th>\n",
       "      <th>IAC_MALE_PCT</th>\n",
       "      <th>IAC_FEMALE_PCT</th>\n",
       "      <th>IAC_TOTAL_PCT</th>\n",
       "      <th>AAC_MALE_PCT</th>\n",
       "      <th>AAC_FEMALE_PCT</th>\n",
       "      <th>AAC_TOTAL_PCT</th>\n",
       "    </tr>\n",
       "  </thead>\n",
       "  <tbody>\n",
       "    <tr>\n",
       "      <th>1</th>\n",
       "      <td>0.887505</td>\n",
       "      <td>0.889540</td>\n",
       "      <td>0.096970</td>\n",
       "      <td>0.098726</td>\n",
       "      <td>0.097873</td>\n",
       "      <td>0.016528</td>\n",
       "      <td>0.014986</td>\n",
       "      <td>0.015735</td>\n",
       "      <td>0.012217</td>\n",
       "      <td>0.016413</td>\n",
       "      <td>0.014375</td>\n",
       "    </tr>\n",
       "    <tr>\n",
       "      <th>2</th>\n",
       "      <td>0.504821</td>\n",
       "      <td>0.503438</td>\n",
       "      <td>0.488738</td>\n",
       "      <td>0.488891</td>\n",
       "      <td>0.488810</td>\n",
       "      <td>0.012698</td>\n",
       "      <td>0.008971</td>\n",
       "      <td>0.010931</td>\n",
       "      <td>0.006122</td>\n",
       "      <td>0.006707</td>\n",
       "      <td>0.006400</td>\n",
       "    </tr>\n",
       "  </tbody>\n",
       "</table>\n",
       "</div>"
      ],
      "text/plain": [
       "   WAC_FEMALE_PCT  WAC_TOTAL_PCT  BAC_MALE_PCT  BAC_FEMALE_PCT  BAC_TOTAL_PCT  \\\n",
       "1        0.887505       0.889540      0.096970        0.098726       0.097873   \n",
       "2        0.504821       0.503438      0.488738        0.488891       0.488810   \n",
       "\n",
       "   IAC_MALE_PCT  IAC_FEMALE_PCT  IAC_TOTAL_PCT  AAC_MALE_PCT  AAC_FEMALE_PCT  \\\n",
       "1      0.016528        0.014986       0.015735      0.012217        0.016413   \n",
       "2      0.012698        0.008971       0.010931      0.006122        0.006707   \n",
       "\n",
       "   AAC_TOTAL_PCT  \n",
       "1       0.014375  \n",
       "2       0.006400  "
      ]
     },
     "execution_count": 26,
     "metadata": {},
     "output_type": "execute_result"
    }
   ],
   "source": [
    "df.iloc[1:3,33:44]"
   ]
  },
  {
   "cell_type": "code",
   "execution_count": null,
   "metadata": {},
   "outputs": [],
   "source": []
  }
 ],
 "metadata": {
  "kernelspec": {
   "display_name": "Python 3",
   "language": "python",
   "name": "python3"
  },
  "language_info": {
   "codemirror_mode": {
    "name": "ipython",
    "version": 3
   },
   "file_extension": ".py",
   "mimetype": "text/x-python",
   "name": "python",
   "nbconvert_exporter": "python",
   "pygments_lexer": "ipython3",
   "version": "3.8.2"
  }
 },
 "nbformat": 4,
 "nbformat_minor": 4
}
