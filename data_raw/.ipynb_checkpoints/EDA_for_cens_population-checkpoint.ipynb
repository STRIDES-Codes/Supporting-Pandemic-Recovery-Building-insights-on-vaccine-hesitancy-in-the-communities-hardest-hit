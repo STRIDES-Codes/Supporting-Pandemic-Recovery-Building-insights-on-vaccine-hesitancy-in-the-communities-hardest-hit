{
 "cells": [
  {
   "cell_type": "markdown",
   "metadata": {},
   "source": [
    "# Census Population ensity\n",
    "<hr>"
   ]
  },
  {
   "cell_type": "code",
   "execution_count": 1,
   "metadata": {},
   "outputs": [],
   "source": [
    "import pandas as pd\n",
    "import numpy as np\n",
    "\n"
   ]
  },
  {
   "cell_type": "code",
   "execution_count": 8,
   "metadata": {},
   "outputs": [],
   "source": [
    "df = pd.read_excel('../data_raw/census-population_density/co-est2019-annres.xlsx', skiprows=3)"
   ]
  },
  {
   "cell_type": "code",
   "execution_count": null,
   "metadata": {},
   "outputs": [],
   "source": []
  },
  {
   "cell_type": "code",
   "execution_count": 9,
   "metadata": {},
   "outputs": [
    {
     "data": {
      "text/plain": [
       "(3149, 13)"
      ]
     },
     "execution_count": 9,
     "metadata": {},
     "output_type": "execute_result"
    }
   ],
   "source": [
    "df.shape"
   ]
  },
  {
   "cell_type": "code",
   "execution_count": 10,
   "metadata": {},
   "outputs": [
    {
     "data": {
      "text/html": [
       "<div>\n",
       "<style scoped>\n",
       "    .dataframe tbody tr th:only-of-type {\n",
       "        vertical-align: middle;\n",
       "    }\n",
       "\n",
       "    .dataframe tbody tr th {\n",
       "        vertical-align: top;\n",
       "    }\n",
       "\n",
       "    .dataframe thead th {\n",
       "        text-align: right;\n",
       "    }\n",
       "</style>\n",
       "<table border=\"1\" class=\"dataframe\">\n",
       "  <thead>\n",
       "    <tr style=\"text-align: right;\">\n",
       "      <th></th>\n",
       "      <th>Unnamed: 0</th>\n",
       "      <th>Census</th>\n",
       "      <th>Estimates Base</th>\n",
       "      <th>2010</th>\n",
       "      <th>2011</th>\n",
       "      <th>2012</th>\n",
       "      <th>2013</th>\n",
       "      <th>2014</th>\n",
       "      <th>2015</th>\n",
       "      <th>2016</th>\n",
       "      <th>2017</th>\n",
       "      <th>2018</th>\n",
       "      <th>2019</th>\n",
       "    </tr>\n",
       "  </thead>\n",
       "  <tbody>\n",
       "    <tr>\n",
       "      <th>0</th>\n",
       "      <td>United States</td>\n",
       "      <td>308745538.0</td>\n",
       "      <td>308758105.0</td>\n",
       "      <td>309321666.0</td>\n",
       "      <td>311556874.0</td>\n",
       "      <td>313830990.0</td>\n",
       "      <td>315993715.0</td>\n",
       "      <td>318301008.0</td>\n",
       "      <td>320635163.0</td>\n",
       "      <td>322941311.0</td>\n",
       "      <td>324985539.0</td>\n",
       "      <td>326687501.0</td>\n",
       "      <td>328239523.0</td>\n",
       "    </tr>\n",
       "    <tr>\n",
       "      <th>1</th>\n",
       "      <td>.Autauga County, Alabama</td>\n",
       "      <td>54571.0</td>\n",
       "      <td>54597.0</td>\n",
       "      <td>54773.0</td>\n",
       "      <td>55227.0</td>\n",
       "      <td>54954.0</td>\n",
       "      <td>54727.0</td>\n",
       "      <td>54893.0</td>\n",
       "      <td>54864.0</td>\n",
       "      <td>55243.0</td>\n",
       "      <td>55390.0</td>\n",
       "      <td>55533.0</td>\n",
       "      <td>55869.0</td>\n",
       "    </tr>\n",
       "    <tr>\n",
       "      <th>2</th>\n",
       "      <td>.Baldwin County, Alabama</td>\n",
       "      <td>182265.0</td>\n",
       "      <td>182265.0</td>\n",
       "      <td>183112.0</td>\n",
       "      <td>186558.0</td>\n",
       "      <td>190145.0</td>\n",
       "      <td>194885.0</td>\n",
       "      <td>199183.0</td>\n",
       "      <td>202939.0</td>\n",
       "      <td>207601.0</td>\n",
       "      <td>212521.0</td>\n",
       "      <td>217855.0</td>\n",
       "      <td>223234.0</td>\n",
       "    </tr>\n",
       "    <tr>\n",
       "      <th>3</th>\n",
       "      <td>.Barbour County, Alabama</td>\n",
       "      <td>27457.0</td>\n",
       "      <td>27455.0</td>\n",
       "      <td>27327.0</td>\n",
       "      <td>27341.0</td>\n",
       "      <td>27169.0</td>\n",
       "      <td>26937.0</td>\n",
       "      <td>26755.0</td>\n",
       "      <td>26283.0</td>\n",
       "      <td>25806.0</td>\n",
       "      <td>25157.0</td>\n",
       "      <td>24872.0</td>\n",
       "      <td>24686.0</td>\n",
       "    </tr>\n",
       "    <tr>\n",
       "      <th>4</th>\n",
       "      <td>.Bibb County, Alabama</td>\n",
       "      <td>22915.0</td>\n",
       "      <td>22915.0</td>\n",
       "      <td>22870.0</td>\n",
       "      <td>22745.0</td>\n",
       "      <td>22667.0</td>\n",
       "      <td>22521.0</td>\n",
       "      <td>22553.0</td>\n",
       "      <td>22566.0</td>\n",
       "      <td>22586.0</td>\n",
       "      <td>22550.0</td>\n",
       "      <td>22367.0</td>\n",
       "      <td>22394.0</td>\n",
       "    </tr>\n",
       "  </tbody>\n",
       "</table>\n",
       "</div>"
      ],
      "text/plain": [
       "                 Unnamed: 0       Census  Estimates Base         2010  \\\n",
       "0             United States  308745538.0     308758105.0  309321666.0   \n",
       "1  .Autauga County, Alabama      54571.0         54597.0      54773.0   \n",
       "2  .Baldwin County, Alabama     182265.0        182265.0     183112.0   \n",
       "3  .Barbour County, Alabama      27457.0         27455.0      27327.0   \n",
       "4     .Bibb County, Alabama      22915.0         22915.0      22870.0   \n",
       "\n",
       "          2011         2012         2013         2014         2015  \\\n",
       "0  311556874.0  313830990.0  315993715.0  318301008.0  320635163.0   \n",
       "1      55227.0      54954.0      54727.0      54893.0      54864.0   \n",
       "2     186558.0     190145.0     194885.0     199183.0     202939.0   \n",
       "3      27341.0      27169.0      26937.0      26755.0      26283.0   \n",
       "4      22745.0      22667.0      22521.0      22553.0      22566.0   \n",
       "\n",
       "          2016         2017         2018         2019  \n",
       "0  322941311.0  324985539.0  326687501.0  328239523.0  \n",
       "1      55243.0      55390.0      55533.0      55869.0  \n",
       "2     207601.0     212521.0     217855.0     223234.0  \n",
       "3      25806.0      25157.0      24872.0      24686.0  \n",
       "4      22586.0      22550.0      22367.0      22394.0  "
      ]
     },
     "execution_count": 10,
     "metadata": {},
     "output_type": "execute_result"
    }
   ],
   "source": [
    "df.head()"
   ]
  },
  {
   "cell_type": "code",
   "execution_count": 12,
   "metadata": {},
   "outputs": [
    {
     "name": "stdout",
     "output_type": "stream",
     "text": [
      "<class 'pandas.core.frame.DataFrame'>\n",
      "RangeIndex: 3149 entries, 0 to 3148\n",
      "Data columns (total 13 columns):\n",
      " #   Column          Non-Null Count  Dtype  \n",
      "---  ------          --------------  -----  \n",
      " 0   Unnamed: 0      3149 non-null   object \n",
      " 1   Census          3143 non-null   float64\n",
      " 2   Estimates Base  3143 non-null   float64\n",
      " 3   2010            3143 non-null   float64\n",
      " 4   2011            3143 non-null   float64\n",
      " 5   2012            3143 non-null   float64\n",
      " 6   2013            3143 non-null   float64\n",
      " 7   2014            3143 non-null   float64\n",
      " 8   2015            3143 non-null   float64\n",
      " 9   2016            3143 non-null   float64\n",
      " 10  2017            3143 non-null   float64\n",
      " 11  2018            3143 non-null   float64\n",
      " 12  2019            3143 non-null   float64\n",
      "dtypes: float64(12), object(1)\n",
      "memory usage: 319.9+ KB\n"
     ]
    }
   ],
   "source": [
    "df.info()"
   ]
  },
  {
   "cell_type": "markdown",
   "metadata": {},
   "source": [
    "## Nan's\n",
    "<hr>"
   ]
  },
  {
   "cell_type": "code",
   "execution_count": 16,
   "metadata": {},
   "outputs": [
    {
     "data": {
      "text/plain": [
       "Unnamed: 0        0\n",
       "Census            6\n",
       "Estimates Base    6\n",
       "2010              6\n",
       "2011              6\n",
       "2012              6\n",
       "2013              6\n",
       "2014              6\n",
       "2015              6\n",
       "2016              6\n",
       "2017              6\n",
       "2018              6\n",
       "2019              6\n",
       "dtype: int64"
      ]
     },
     "execution_count": 16,
     "metadata": {},
     "output_type": "execute_result"
    }
   ],
   "source": [
    "df.isna().sum()"
   ]
  },
  {
   "cell_type": "code",
   "execution_count": 18,
   "metadata": {},
   "outputs": [
    {
     "data": {
      "text/html": [
       "<div>\n",
       "<style scoped>\n",
       "    .dataframe tbody tr th:only-of-type {\n",
       "        vertical-align: middle;\n",
       "    }\n",
       "\n",
       "    .dataframe tbody tr th {\n",
       "        vertical-align: top;\n",
       "    }\n",
       "\n",
       "    .dataframe thead th {\n",
       "        text-align: right;\n",
       "    }\n",
       "</style>\n",
       "<table border=\"1\" class=\"dataframe\">\n",
       "  <thead>\n",
       "    <tr style=\"text-align: right;\">\n",
       "      <th></th>\n",
       "      <th>Unnamed: 0</th>\n",
       "      <th>Census</th>\n",
       "      <th>Estimates Base</th>\n",
       "      <th>2010</th>\n",
       "      <th>2011</th>\n",
       "      <th>2012</th>\n",
       "      <th>2013</th>\n",
       "      <th>2014</th>\n",
       "      <th>2015</th>\n",
       "      <th>2016</th>\n",
       "      <th>2017</th>\n",
       "      <th>2018</th>\n",
       "      <th>2019</th>\n",
       "    </tr>\n",
       "  </thead>\n",
       "  <tbody>\n",
       "    <tr>\n",
       "      <th>3143</th>\n",
       "      <td>Note: The estimates are based on the 2010 Cens...</td>\n",
       "      <td>NaN</td>\n",
       "      <td>NaN</td>\n",
       "      <td>NaN</td>\n",
       "      <td>NaN</td>\n",
       "      <td>NaN</td>\n",
       "      <td>NaN</td>\n",
       "      <td>NaN</td>\n",
       "      <td>NaN</td>\n",
       "      <td>NaN</td>\n",
       "      <td>NaN</td>\n",
       "      <td>NaN</td>\n",
       "      <td>NaN</td>\n",
       "    </tr>\n",
       "    <tr>\n",
       "      <th>3144</th>\n",
       "      <td>Note: The 6,222 people in Bedford city, Virgin...</td>\n",
       "      <td>NaN</td>\n",
       "      <td>NaN</td>\n",
       "      <td>NaN</td>\n",
       "      <td>NaN</td>\n",
       "      <td>NaN</td>\n",
       "      <td>NaN</td>\n",
       "      <td>NaN</td>\n",
       "      <td>NaN</td>\n",
       "      <td>NaN</td>\n",
       "      <td>NaN</td>\n",
       "      <td>NaN</td>\n",
       "      <td>NaN</td>\n",
       "    </tr>\n",
       "    <tr>\n",
       "      <th>3145</th>\n",
       "      <td>Suggested Citation:</td>\n",
       "      <td>NaN</td>\n",
       "      <td>NaN</td>\n",
       "      <td>NaN</td>\n",
       "      <td>NaN</td>\n",
       "      <td>NaN</td>\n",
       "      <td>NaN</td>\n",
       "      <td>NaN</td>\n",
       "      <td>NaN</td>\n",
       "      <td>NaN</td>\n",
       "      <td>NaN</td>\n",
       "      <td>NaN</td>\n",
       "      <td>NaN</td>\n",
       "    </tr>\n",
       "    <tr>\n",
       "      <th>3146</th>\n",
       "      <td>Annual Estimates of the Resident Population fo...</td>\n",
       "      <td>NaN</td>\n",
       "      <td>NaN</td>\n",
       "      <td>NaN</td>\n",
       "      <td>NaN</td>\n",
       "      <td>NaN</td>\n",
       "      <td>NaN</td>\n",
       "      <td>NaN</td>\n",
       "      <td>NaN</td>\n",
       "      <td>NaN</td>\n",
       "      <td>NaN</td>\n",
       "      <td>NaN</td>\n",
       "      <td>NaN</td>\n",
       "    </tr>\n",
       "    <tr>\n",
       "      <th>3147</th>\n",
       "      <td>Source: U.S. Census Bureau, Population Division</td>\n",
       "      <td>NaN</td>\n",
       "      <td>NaN</td>\n",
       "      <td>NaN</td>\n",
       "      <td>NaN</td>\n",
       "      <td>NaN</td>\n",
       "      <td>NaN</td>\n",
       "      <td>NaN</td>\n",
       "      <td>NaN</td>\n",
       "      <td>NaN</td>\n",
       "      <td>NaN</td>\n",
       "      <td>NaN</td>\n",
       "      <td>NaN</td>\n",
       "    </tr>\n",
       "    <tr>\n",
       "      <th>3148</th>\n",
       "      <td>Release Date: March 2020</td>\n",
       "      <td>NaN</td>\n",
       "      <td>NaN</td>\n",
       "      <td>NaN</td>\n",
       "      <td>NaN</td>\n",
       "      <td>NaN</td>\n",
       "      <td>NaN</td>\n",
       "      <td>NaN</td>\n",
       "      <td>NaN</td>\n",
       "      <td>NaN</td>\n",
       "      <td>NaN</td>\n",
       "      <td>NaN</td>\n",
       "      <td>NaN</td>\n",
       "    </tr>\n",
       "  </tbody>\n",
       "</table>\n",
       "</div>"
      ],
      "text/plain": [
       "                                             Unnamed: 0  Census  \\\n",
       "3143  Note: The estimates are based on the 2010 Cens...     NaN   \n",
       "3144  Note: The 6,222 people in Bedford city, Virgin...     NaN   \n",
       "3145                                Suggested Citation:     NaN   \n",
       "3146  Annual Estimates of the Resident Population fo...     NaN   \n",
       "3147    Source: U.S. Census Bureau, Population Division     NaN   \n",
       "3148                           Release Date: March 2020     NaN   \n",
       "\n",
       "      Estimates Base  2010  2011  2012  2013  2014  2015  2016  2017  2018  \\\n",
       "3143             NaN   NaN   NaN   NaN   NaN   NaN   NaN   NaN   NaN   NaN   \n",
       "3144             NaN   NaN   NaN   NaN   NaN   NaN   NaN   NaN   NaN   NaN   \n",
       "3145             NaN   NaN   NaN   NaN   NaN   NaN   NaN   NaN   NaN   NaN   \n",
       "3146             NaN   NaN   NaN   NaN   NaN   NaN   NaN   NaN   NaN   NaN   \n",
       "3147             NaN   NaN   NaN   NaN   NaN   NaN   NaN   NaN   NaN   NaN   \n",
       "3148             NaN   NaN   NaN   NaN   NaN   NaN   NaN   NaN   NaN   NaN   \n",
       "\n",
       "      2019  \n",
       "3143   NaN  \n",
       "3144   NaN  \n",
       "3145   NaN  \n",
       "3146   NaN  \n",
       "3147   NaN  \n",
       "3148   NaN  "
      ]
     },
     "execution_count": 18,
     "metadata": {},
     "output_type": "execute_result"
    }
   ],
   "source": [
    "df[ df['Census'].isnull()]"
   ]
  },
  {
   "cell_type": "code",
   "execution_count": 20,
   "metadata": {},
   "outputs": [],
   "source": [
    "# dropping NaNs\n",
    "nan_rows = df[ df['Census'].isnull()].index\n",
    "df.drop(nan_rows, inplace = True)"
   ]
  },
  {
   "cell_type": "markdown",
   "metadata": {},
   "source": [
    "# Write to CSV\n",
    "<hr>"
   ]
  },
  {
   "cell_type": "code",
   "execution_count": null,
   "metadata": {},
   "outputs": [],
   "source": []
  },
  {
   "cell_type": "code",
   "execution_count": 21,
   "metadata": {},
   "outputs": [],
   "source": [
    "df.to_csv('../data/USDA/census_population_density.csv', index=False)"
   ]
  },
  {
   "cell_type": "code",
   "execution_count": null,
   "metadata": {},
   "outputs": [],
   "source": []
  }
 ],
 "metadata": {
  "kernelspec": {
   "display_name": "Python 3",
   "language": "python",
   "name": "python3"
  },
  "language_info": {
   "codemirror_mode": {
    "name": "ipython",
    "version": 3
   },
   "file_extension": ".py",
   "mimetype": "text/x-python",
   "name": "python",
   "nbconvert_exporter": "python",
   "pygments_lexer": "ipython3",
   "version": "3.8.2"
  }
 },
 "nbformat": 4,
 "nbformat_minor": 4
}
